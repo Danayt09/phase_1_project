{
 "cells": [
  {
   "cell_type": "code",
   "execution_count": 234,
   "metadata": {},
   "outputs": [],
   "source": [
    "import pandas as pd\n",
    "import numpy as np\n",
    "import matplotlib.pyplot as plt\n",
    "import seaborn as sns\n",
    "%matplotlib inline"
   ]
  },
  {
   "cell_type": "code",
   "execution_count": 235,
   "metadata": {
    "scrolled": true
   },
   "outputs": [],
   "source": [
    "pd.options.display.max_columns = 50  # allows viewing all columns"
   ]
  },
  {
   "cell_type": "code",
   "execution_count": 236,
   "metadata": {},
   "outputs": [
    {
     "name": "stderr",
     "output_type": "stream",
     "text": [
      "/Users/samalainabayeva/anaconda3/envs/learn-env/lib/python3.8/site-packages/IPython/core/interactiveshell.py:3145: DtypeWarning: Columns (18,19,20,21) have mixed types.Specify dtype option on import or set low_memory=False.\n",
      "  has_raised = await self.run_ast_nodes(code_ast.body, cell_name,\n"
     ]
    }
   ],
   "source": [
    "df = pd.read_csv('data/aviation_cleaned.csv')"
   ]
  },
  {
   "cell_type": "code",
   "execution_count": 237,
   "metadata": {},
   "outputs": [
    {
     "data": {
      "text/html": [
       "<div>\n",
       "<style scoped>\n",
       "    .dataframe tbody tr th:only-of-type {\n",
       "        vertical-align: middle;\n",
       "    }\n",
       "\n",
       "    .dataframe tbody tr th {\n",
       "        vertical-align: top;\n",
       "    }\n",
       "\n",
       "    .dataframe thead th {\n",
       "        text-align: right;\n",
       "    }\n",
       "</style>\n",
       "<table border=\"1\" class=\"dataframe\">\n",
       "  <thead>\n",
       "    <tr style=\"text-align: right;\">\n",
       "      <th></th>\n",
       "      <th>event_id</th>\n",
       "      <th>investigation_type</th>\n",
       "      <th>accident_number</th>\n",
       "      <th>event_date</th>\n",
       "      <th>location</th>\n",
       "      <th>country</th>\n",
       "      <th>airport_code</th>\n",
       "      <th>airport_name</th>\n",
       "      <th>injury_severity</th>\n",
       "      <th>aircraft_damage</th>\n",
       "      <th>aircraft_category</th>\n",
       "      <th>make</th>\n",
       "      <th>model</th>\n",
       "      <th>amateur_built</th>\n",
       "      <th>number_of_engines</th>\n",
       "      <th>engine_type</th>\n",
       "      <th>purpose_of_flight</th>\n",
       "      <th>air_carrier</th>\n",
       "      <th>total_fatal_injuries</th>\n",
       "      <th>total_serious_injuries</th>\n",
       "      <th>total_minor_injuries</th>\n",
       "      <th>total_uninjured</th>\n",
       "      <th>weather_condition</th>\n",
       "      <th>broad_phase_of_flight</th>\n",
       "      <th>report_status</th>\n",
       "    </tr>\n",
       "  </thead>\n",
       "  <tbody>\n",
       "    <tr>\n",
       "      <th>0</th>\n",
       "      <td>20001218X45444</td>\n",
       "      <td>Accident</td>\n",
       "      <td>SEA87LA080</td>\n",
       "      <td>1948-10-24</td>\n",
       "      <td>MOOSE CREEK, ID</td>\n",
       "      <td>United States</td>\n",
       "      <td>Unknown</td>\n",
       "      <td>Unknown</td>\n",
       "      <td>Fatal(2)</td>\n",
       "      <td>Destroyed</td>\n",
       "      <td>Unknown</td>\n",
       "      <td>Stinson</td>\n",
       "      <td>108-3</td>\n",
       "      <td>No</td>\n",
       "      <td>1.0</td>\n",
       "      <td>Reciprocating</td>\n",
       "      <td>Personal</td>\n",
       "      <td>Unknown</td>\n",
       "      <td>2.0</td>\n",
       "      <td>0.0</td>\n",
       "      <td>0.0</td>\n",
       "      <td>0.0</td>\n",
       "      <td>Unknown</td>\n",
       "      <td>Cruise</td>\n",
       "      <td>Probable Cause</td>\n",
       "    </tr>\n",
       "    <tr>\n",
       "      <th>1</th>\n",
       "      <td>20001218X45447</td>\n",
       "      <td>Accident</td>\n",
       "      <td>LAX94LA336</td>\n",
       "      <td>1962-07-19</td>\n",
       "      <td>BRIDGEPORT, CA</td>\n",
       "      <td>United States</td>\n",
       "      <td>Unknown</td>\n",
       "      <td>Unknown</td>\n",
       "      <td>Fatal(4)</td>\n",
       "      <td>Destroyed</td>\n",
       "      <td>Unknown</td>\n",
       "      <td>Piper</td>\n",
       "      <td>PA24-180</td>\n",
       "      <td>No</td>\n",
       "      <td>1.0</td>\n",
       "      <td>Reciprocating</td>\n",
       "      <td>Personal</td>\n",
       "      <td>Unknown</td>\n",
       "      <td>4.0</td>\n",
       "      <td>0.0</td>\n",
       "      <td>0.0</td>\n",
       "      <td>0.0</td>\n",
       "      <td>Unknown</td>\n",
       "      <td>Unknown</td>\n",
       "      <td>Probable Cause</td>\n",
       "    </tr>\n",
       "  </tbody>\n",
       "</table>\n",
       "</div>"
      ],
      "text/plain": [
       "         event_id investigation_type accident_number  event_date  \\\n",
       "0  20001218X45444           Accident      SEA87LA080  1948-10-24   \n",
       "1  20001218X45447           Accident      LAX94LA336  1962-07-19   \n",
       "\n",
       "          location        country airport_code airport_name injury_severity  \\\n",
       "0  MOOSE CREEK, ID  United States      Unknown      Unknown        Fatal(2)   \n",
       "1   BRIDGEPORT, CA  United States      Unknown      Unknown        Fatal(4)   \n",
       "\n",
       "  aircraft_damage aircraft_category     make     model amateur_built  \\\n",
       "0       Destroyed           Unknown  Stinson     108-3            No   \n",
       "1       Destroyed           Unknown    Piper  PA24-180            No   \n",
       "\n",
       "  number_of_engines    engine_type purpose_of_flight air_carrier  \\\n",
       "0               1.0  Reciprocating          Personal     Unknown   \n",
       "1               1.0  Reciprocating          Personal     Unknown   \n",
       "\n",
       "  total_fatal_injuries total_serious_injuries total_minor_injuries  \\\n",
       "0                  2.0                    0.0                  0.0   \n",
       "1                  4.0                    0.0                  0.0   \n",
       "\n",
       "  total_uninjured weather_condition broad_phase_of_flight   report_status  \n",
       "0             0.0           Unknown                Cruise  Probable Cause  \n",
       "1             0.0           Unknown               Unknown  Probable Cause  "
      ]
     },
     "execution_count": 237,
     "metadata": {},
     "output_type": "execute_result"
    }
   ],
   "source": [
    "df.head(2)"
   ]
  },
  {
   "cell_type": "code",
   "execution_count": 238,
   "metadata": {},
   "outputs": [
    {
     "name": "stdout",
     "output_type": "stream",
     "text": [
      "<class 'pandas.core.frame.DataFrame'>\n",
      "RangeIndex: 88889 entries, 0 to 88888\n",
      "Data columns (total 25 columns):\n",
      " #   Column                  Non-Null Count  Dtype \n",
      "---  ------                  --------------  ----- \n",
      " 0   event_id                88889 non-null  object\n",
      " 1   investigation_type      88889 non-null  object\n",
      " 2   accident_number         88889 non-null  object\n",
      " 3   event_date              88889 non-null  object\n",
      " 4   location                88889 non-null  object\n",
      " 5   country                 88889 non-null  object\n",
      " 6   airport_code            88889 non-null  object\n",
      " 7   airport_name            88889 non-null  object\n",
      " 8   injury_severity         88889 non-null  object\n",
      " 9   aircraft_damage         88889 non-null  object\n",
      " 10  aircraft_category       88889 non-null  object\n",
      " 11  make                    88889 non-null  object\n",
      " 12  model                   88889 non-null  object\n",
      " 13  amateur_built           88889 non-null  object\n",
      " 14  number_of_engines       88889 non-null  object\n",
      " 15  engine_type             88889 non-null  object\n",
      " 16  purpose_of_flight       88889 non-null  object\n",
      " 17  air_carrier             88889 non-null  object\n",
      " 18  total_fatal_injuries    88889 non-null  object\n",
      " 19  total_serious_injuries  88889 non-null  object\n",
      " 20  total_minor_injuries    88889 non-null  object\n",
      " 21  total_uninjured         88889 non-null  object\n",
      " 22  weather_condition       88889 non-null  object\n",
      " 23  broad_phase_of_flight   88889 non-null  object\n",
      " 24  report_status           88889 non-null  object\n",
      "dtypes: object(25)\n",
      "memory usage: 17.0+ MB\n"
     ]
    }
   ],
   "source": [
    "df.info()"
   ]
  },
  {
   "cell_type": "markdown",
   "metadata": {},
   "source": [
    "# CLEANING COLUMNS"
   ]
  },
  {
   "cell_type": "markdown",
   "metadata": {},
   "source": [
    "### Years"
   ]
  },
  {
   "cell_type": "code",
   "execution_count": 239,
   "metadata": {},
   "outputs": [],
   "source": [
    "df[\"year_of_event\"] = df['event_date'].map(lambda x: int(x[:4]))"
   ]
  },
  {
   "cell_type": "markdown",
   "metadata": {},
   "source": [
    "### Months"
   ]
  },
  {
   "cell_type": "code",
   "execution_count": 240,
   "metadata": {},
   "outputs": [],
   "source": [
    "df['month'] = df['event_date'].map(lambda x: int(x[5:7]))"
   ]
  },
  {
   "cell_type": "code",
   "execution_count": 241,
   "metadata": {},
   "outputs": [
    {
     "data": {
      "text/plain": [
       "array([ 1,  2,  3,  4,  5,  6,  7,  8,  9, 10, 11, 12])"
      ]
     },
     "execution_count": 241,
     "metadata": {},
     "output_type": "execute_result"
    }
   ],
   "source": [
    "df['month'].sort_values().unique()"
   ]
  },
  {
   "cell_type": "markdown",
   "metadata": {},
   "source": [
    "### Days"
   ]
  },
  {
   "cell_type": "code",
   "execution_count": 242,
   "metadata": {},
   "outputs": [],
   "source": [
    "df['days'] = df['event_date'].map(lambda x: int(x[-2:]))"
   ]
  },
  {
   "cell_type": "code",
   "execution_count": 243,
   "metadata": {},
   "outputs": [
    {
     "data": {
      "text/plain": [
       "array([ 1,  2,  3,  4,  5,  6,  7,  8,  9, 10, 11, 12, 13, 14, 15, 16, 17,\n",
       "       18, 19, 20, 21, 22, 23, 24, 25, 26, 27, 28, 29, 30, 31])"
      ]
     },
     "execution_count": 243,
     "metadata": {},
     "output_type": "execute_result"
    }
   ],
   "source": [
    "df['days'].sort_values().unique()"
   ]
  },
  {
   "cell_type": "markdown",
   "metadata": {},
   "source": [
    "### Need to convert injury columns to ints..."
   ]
  },
  {
   "cell_type": "code",
   "execution_count": 244,
   "metadata": {
    "scrolled": true
   },
   "outputs": [],
   "source": [
    "df['total_fatal_injuries'] = df['total_fatal_injuries'].map(lambda x: float(x) if x != \"Unknown\" else x)"
   ]
  },
  {
   "cell_type": "code",
   "execution_count": 245,
   "metadata": {},
   "outputs": [],
   "source": [
    "df['total_serious_injuries'] = df['total_serious_injuries'].map(lambda x: float(x) if x != \"Unknown\" else x)"
   ]
  },
  {
   "cell_type": "code",
   "execution_count": 246,
   "metadata": {},
   "outputs": [],
   "source": [
    "df['total_minor_injuries'] =df['total_minor_injuries'].map(lambda x: float(x) if x != \"Unknown\" else x)"
   ]
  },
  {
   "cell_type": "markdown",
   "metadata": {},
   "source": [
    "### CREATING NEW COLUMN FOR NON-FATAL INJURIES"
   ]
  },
  {
   "cell_type": "code",
   "execution_count": 247,
   "metadata": {},
   "outputs": [],
   "source": [
    "df[\"survivable_injuries\"] = (df['total_minor_injuries'].replace(\"Unknown\", 0)) + (df[\"total_serious_injuries\"].replace(\"Unknown\", 0))"
   ]
  },
  {
   "cell_type": "code",
   "execution_count": 248,
   "metadata": {},
   "outputs": [
    {
     "data": {
      "text/plain": [
       "0.0     63365\n",
       "1.0     15270\n",
       "2.0      6903\n",
       "3.0      1580\n",
       "4.0       901\n",
       "5.0       258\n",
       "6.0       161\n",
       "7.0       100\n",
       "8.0        57\n",
       "9.0        37\n",
       "10.0       29\n",
       "Name: survivable_injuries, dtype: int64"
      ]
     },
     "execution_count": 248,
     "metadata": {},
     "output_type": "execute_result"
    }
   ],
   "source": [
    "df['survivable_injuries'].value_counts()[:10]"
   ]
  },
  {
   "cell_type": "markdown",
   "metadata": {},
   "source": [
    "### REPLACING 'Unknown' with Median values - all zeros"
   ]
  },
  {
   "cell_type": "code",
   "execution_count": 249,
   "metadata": {},
   "outputs": [],
   "source": [
    "df['total_minor_injuries'] = df['total_minor_injuries'].replace(\"Unknown\", 0)"
   ]
  },
  {
   "cell_type": "code",
   "execution_count": 250,
   "metadata": {},
   "outputs": [],
   "source": [
    "df['total_serious_injuries'] = df['total_serious_injuries'].replace(\"Unknown\", 0)"
   ]
  },
  {
   "cell_type": "code",
   "execution_count": 251,
   "metadata": {},
   "outputs": [],
   "source": [
    "df['total_fatal_injuries'] = df['total_fatal_injuries'].replace(\"Unknown\", 0)"
   ]
  },
  {
   "cell_type": "markdown",
   "metadata": {},
   "source": [
    "### LOWERCASE Country Column"
   ]
  },
  {
   "cell_type": "code",
   "execution_count": 252,
   "metadata": {},
   "outputs": [],
   "source": [
    "df['country'] = df['country'].str.lower()"
   ]
  },
  {
   "cell_type": "markdown",
   "metadata": {},
   "source": [
    "### CREATING NEW COLUMN FOR NON-FATAL INJURIES"
   ]
  },
  {
   "cell_type": "code",
   "execution_count": 253,
   "metadata": {},
   "outputs": [],
   "source": [
    "df[\"survivable_injuries\"] = (df['total_minor_injuries'].replace(\"Unknown\", 0)) + (df[\"total_serious_injuries\"].replace(\"Unknown\", 0))"
   ]
  },
  {
   "cell_type": "markdown",
   "metadata": {},
   "source": [
    "### Purpose of Flight:"
   ]
  },
  {
   "cell_type": "code",
   "execution_count": 254,
   "metadata": {},
   "outputs": [
    {
     "data": {
      "text/plain": [
       "Personal                     49448\n",
       "Unknown                      12994\n",
       "Instructional                10601\n",
       "Aerial Application            4712\n",
       "Business                      4018\n",
       "Positioning                   1646\n",
       "Other Work Use                1264\n",
       "Ferry                          812\n",
       "Aerial Observation             794\n",
       "Public Aircraft                720\n",
       "Executive/corporate            553\n",
       "Flight Test                    405\n",
       "Skydiving                      182\n",
       "External Load                  123\n",
       "Public Aircraft - Federal      105\n",
       "Banner Tow                     101\n",
       "Air Race show                   99\n",
       "Public Aircraft - Local         74\n",
       "Public Aircraft - State         64\n",
       "Air Race/show                   59\n",
       "Glider Tow                      53\n",
       "Firefighting                    40\n",
       "Air Drop                        11\n",
       "ASHO                             6\n",
       "PUBS                             4\n",
       "PUBL                             1\n",
       "Name: purpose_of_flight, dtype: int64"
      ]
     },
     "execution_count": 254,
     "metadata": {},
     "output_type": "execute_result"
    }
   ],
   "source": [
    "df['purpose_of_flight'].value_counts()"
   ]
  },
  {
   "cell_type": "code",
   "execution_count": null,
   "metadata": {},
   "outputs": [],
   "source": []
  },
  {
   "cell_type": "code",
   "execution_count": null,
   "metadata": {},
   "outputs": [],
   "source": []
  },
  {
   "cell_type": "markdown",
   "metadata": {},
   "source": [
    "# Make of Aircraft Standardization:"
   ]
  },
  {
   "cell_type": "code",
   "execution_count": 279,
   "metadata": {},
   "outputs": [],
   "source": [
    "df['make'] = df['make'].str.lower().str.strip()"
   ]
  },
  {
   "cell_type": "markdown",
   "metadata": {},
   "source": [
    "### Initial list of values/counts before cleaning "
   ]
  },
  {
   "cell_type": "code",
   "execution_count": 280,
   "metadata": {},
   "outputs": [
    {
     "data": {
      "text/plain": [
       "cessna      27149\n",
       "piper       14870\n",
       "beech        5372\n",
       "boeing       2745\n",
       "bell         2722\n",
       "mooney       1334\n",
       "robinson     1230\n",
       "grumman      1172\n",
       "bellanca     1045\n",
       "hughes        932\n",
       "Name: make, dtype: int64"
      ]
     },
     "execution_count": 280,
     "metadata": {},
     "output_type": "execute_result"
    }
   ],
   "source": [
    "df['make'].value_counts()[:10]"
   ]
  },
  {
   "cell_type": "markdown",
   "metadata": {},
   "source": [
    "### Making Manufacturer Column"
   ]
  },
  {
   "cell_type": "code",
   "execution_count": 281,
   "metadata": {},
   "outputs": [],
   "source": [
    "df['manufacturer'] = df['make']"
   ]
  },
  {
   "cell_type": "markdown",
   "metadata": {},
   "source": [
    "#### Cessna cleaning... Perfect Clean"
   ]
  },
  {
   "cell_type": "code",
   "execution_count": 283,
   "metadata": {},
   "outputs": [
    {
     "data": {
      "text/plain": [
       "0"
      ]
     },
     "execution_count": 283,
     "metadata": {},
     "output_type": "execute_result"
    }
   ],
   "source": [
    "df['manufacturer'].str.contains('cessna').sum()"
   ]
  },
  {
   "cell_type": "code",
   "execution_count": 282,
   "metadata": {},
   "outputs": [],
   "source": [
    "df['manufacturer'] = df['manufacturer'].map(lambda x: \"Cessna\" if \"cessna\" in x else x)"
   ]
  },
  {
   "cell_type": "code",
   "execution_count": 284,
   "metadata": {},
   "outputs": [
    {
     "data": {
      "text/plain": [
       "27215"
      ]
     },
     "execution_count": 284,
     "metadata": {},
     "output_type": "execute_result"
    }
   ],
   "source": [
    "df['manufacturer'].str.contains('Cessna').sum()"
   ]
  },
  {
   "cell_type": "markdown",
   "metadata": {},
   "source": [
    "#### Piper cleaning...... Perfect Clean"
   ]
  },
  {
   "cell_type": "code",
   "execution_count": 285,
   "metadata": {},
   "outputs": [
    {
     "data": {
      "text/plain": [
       "14946"
      ]
     },
     "execution_count": 285,
     "metadata": {},
     "output_type": "execute_result"
    }
   ],
   "source": [
    "df['manufacturer'].str.contains('piper').sum()"
   ]
  },
  {
   "cell_type": "code",
   "execution_count": 286,
   "metadata": {
    "scrolled": true
   },
   "outputs": [
    {
     "data": {
      "text/plain": [
       "piper aircraft inc            27\n",
       "piper aircraft corporation    11\n",
       "piper/cub crafters             7\n",
       "piper aircraft                 7\n",
       "new piper aircraft inc         6\n",
       "piper aircraft, inc.           3\n",
       "new piper                      3\n",
       "piper aerostar                 2\n",
       "piper / laudeman               1\n",
       "piper pawnee                   1\n",
       "piper/stevens                  1\n",
       "jetprop dlx piper              1\n",
       "piper-aerostar                 1\n",
       "thomas c. piper                1\n",
       "piper cub crafters             1\n",
       "new piper aircraft, inc.       1\n",
       "piper/wally's flyers inc       1\n",
       "piper-harris                   1\n",
       "Name: manufacturer, dtype: int64"
      ]
     },
     "execution_count": 286,
     "metadata": {},
     "output_type": "execute_result"
    }
   ],
   "source": [
    "df[(df['manufacturer'].str.contains('piper') == True) & (df['manufacturer'] != 'piper')]['manufacturer'].value_counts()"
   ]
  },
  {
   "cell_type": "code",
   "execution_count": 287,
   "metadata": {},
   "outputs": [],
   "source": [
    "df['manufacturer'] = df['manufacturer'].map(lambda x: \"Piper\" if \"piper\" in x else x)"
   ]
  },
  {
   "cell_type": "markdown",
   "metadata": {},
   "source": [
    "#### Beech cleaning..... Perfect Clean"
   ]
  },
  {
   "cell_type": "code",
   "execution_count": 297,
   "metadata": {},
   "outputs": [
    {
     "data": {
      "text/plain": [
       "0"
      ]
     },
     "execution_count": 297,
     "metadata": {},
     "output_type": "execute_result"
    }
   ],
   "source": [
    "df['manufacturer'].str.contains(\"beech\").sum()"
   ]
  },
  {
   "cell_type": "code",
   "execution_count": 298,
   "metadata": {},
   "outputs": [
    {
     "data": {
      "text/plain": [
       "Series([], Name: manufacturer, dtype: int64)"
      ]
     },
     "execution_count": 298,
     "metadata": {},
     "output_type": "execute_result"
    }
   ],
   "source": [
    "df.loc[(df['manufacturer'].str.contains('beech') == True) & (df['manufacturer'] != 'beech')]['manufacturer'].value_counts()"
   ]
  },
  {
   "cell_type": "code",
   "execution_count": 299,
   "metadata": {},
   "outputs": [],
   "source": [
    "df['manufacturer'] = df['manufacturer'].map(lambda x: \"Beech\" if \"beech\" in x else x)"
   ]
  },
  {
   "cell_type": "markdown",
   "metadata": {},
   "source": [
    "#### Boeing Cleaning....... Perfect Clean"
   ]
  },
  {
   "cell_type": "code",
   "execution_count": 300,
   "metadata": {},
   "outputs": [
    {
     "data": {
      "text/plain": [
       "2833"
      ]
     },
     "execution_count": 300,
     "metadata": {},
     "output_type": "execute_result"
    }
   ],
   "source": [
    "df['manufacturer'].str.contains(\"boeing\").sum()"
   ]
  },
  {
   "cell_type": "code",
   "execution_count": 301,
   "metadata": {},
   "outputs": [
    {
     "data": {
      "text/plain": [
       "boeing stearman                   51\n",
       "the boeing company                 9\n",
       "boeing company                     9\n",
       "boeing vertol                      6\n",
       "boeing helicopters div.            3\n",
       "boeing - canada (de havilland)     2\n",
       "boeing company, long beach div     1\n",
       "boeing-vertol                      1\n",
       "boeing commercial airplane gro     1\n",
       "boeing 777-306er                   1\n",
       "boeing of canada/dehav div         1\n",
       "boeing-stearman                    1\n",
       "boeing (stearman)                  1\n",
       "boeing-brown                       1\n",
       "Name: manufacturer, dtype: int64"
      ]
     },
     "execution_count": 301,
     "metadata": {},
     "output_type": "execute_result"
    }
   ],
   "source": [
    "df[(df['manufacturer'].str.contains('boeing') == True) & (df['manufacturer'] != 'boeing')]['manufacturer'].value_counts()"
   ]
  },
  {
   "cell_type": "code",
   "execution_count": 302,
   "metadata": {},
   "outputs": [],
   "source": [
    "df['manufacturer'] = df['manufacturer'].map(lambda x: \"Boeing\" if \"boeing\" in x else x)"
   ]
  },
  {
   "cell_type": "markdown",
   "metadata": {},
   "source": [
    "#### Bellanca BEFORE Bell Cleaning......."
   ]
  },
  {
   "cell_type": "code",
   "execution_count": 303,
   "metadata": {},
   "outputs": [
    {
     "data": {
      "text/plain": [
       "1047"
      ]
     },
     "execution_count": 303,
     "metadata": {},
     "output_type": "execute_result"
    }
   ],
   "source": [
    "df['manufacturer'].str.contains(\"bellanca\").sum()"
   ]
  },
  {
   "cell_type": "code",
   "execution_count": 304,
   "metadata": {},
   "outputs": [],
   "source": [
    "df['manufacturer'] = df['manufacturer'].map(lambda x: \"Bellanca\" if 'bellanca' in x else x)"
   ]
  },
  {
   "cell_type": "code",
   "execution_count": 305,
   "metadata": {},
   "outputs": [
    {
     "data": {
      "text/plain": [
       "1047"
      ]
     },
     "execution_count": 305,
     "metadata": {},
     "output_type": "execute_result"
    }
   ],
   "source": [
    "df['manufacturer'].str.contains(\"Bellanca\").sum()"
   ]
  },
  {
   "cell_type": "markdown",
   "metadata": {},
   "source": [
    "### Bell now.... not perfect, but close"
   ]
  },
  {
   "cell_type": "code",
   "execution_count": 306,
   "metadata": {},
   "outputs": [
    {
     "data": {
      "text/plain": [
       "2846"
      ]
     },
     "execution_count": 306,
     "metadata": {},
     "output_type": "execute_result"
    }
   ],
   "source": [
    "df['manufacturer'].str.contains('bell').sum()"
   ]
  },
  {
   "cell_type": "code",
   "execution_count": 307,
   "metadata": {
    "scrolled": true
   },
   "outputs": [
    {
     "data": {
      "text/plain": [
       "bell helicopter textron canada    23\n",
       "bell helicopter textron           23\n",
       "bell helicopter                    7\n",
       "agusta bell                        5\n",
       "bell-carson                        3\n",
       "bell-transworld                    3\n",
       "bell textron canada ltd            2\n",
       "bell-k copter                      2\n",
       "campbell earl s jr                 2\n",
       "bell helicopter co                 2\n",
       "Name: manufacturer, dtype: int64"
      ]
     },
     "execution_count": 307,
     "metadata": {},
     "output_type": "execute_result"
    }
   ],
   "source": [
    "df[(df['manufacturer'].str.contains('bell') == True) & (df['manufacturer'] != 'bell')]['manufacturer'].value_counts()[:10]"
   ]
  },
  {
   "cell_type": "markdown",
   "metadata": {},
   "source": [
    "##### Bell and Copter combined in this conditional selection was a good way to edit the names"
   ]
  },
  {
   "cell_type": "code",
   "execution_count": 311,
   "metadata": {},
   "outputs": [],
   "source": [
    "df['manufacturer'] = df['manufacturer'].map(lambda x: \"Bell\" if all(word in x for word in ['copter', 'bell', 'textron']) else x)"
   ]
  },
  {
   "cell_type": "code",
   "execution_count": 313,
   "metadata": {},
   "outputs": [],
   "source": [
    "df['manufacturer'] = df['manufacturer'].map(lambda x: \"Bell\" if x == \"bell\" else x)"
   ]
  },
  {
   "cell_type": "markdown",
   "metadata": {},
   "source": [
    "### Mooney Edit - Perfect Edit"
   ]
  },
  {
   "cell_type": "code",
   "execution_count": 315,
   "metadata": {},
   "outputs": [
    {
     "data": {
      "text/plain": [
       "1385"
      ]
     },
     "execution_count": 315,
     "metadata": {},
     "output_type": "execute_result"
    }
   ],
   "source": [
    "df['manufacturer'].str.contains('mooney').sum()  # 1334"
   ]
  },
  {
   "cell_type": "code",
   "execution_count": 317,
   "metadata": {},
   "outputs": [
    {
     "data": {
      "text/plain": [
       "mooney aircraft corp.            35\n",
       "mooney airplane co inc           10\n",
       "mooney, dan                       1\n",
       "mooney aircraft corporation       1\n",
       "mooney aircraft                   1\n",
       "mooney international corp         1\n",
       "mooney aircraft corp              1\n",
       "mooney airplane company, inc.     1\n",
       "Name: manufacturer, dtype: int64"
      ]
     },
     "execution_count": 317,
     "metadata": {},
     "output_type": "execute_result"
    }
   ],
   "source": [
    "df.loc[(df[\"manufacturer\"].str.contains('mooney') == True) & (df['manufacturer'] != \"mooney\")]['manufacturer'].value_counts()"
   ]
  },
  {
   "cell_type": "markdown",
   "metadata": {},
   "source": [
    "### Special Condition, looked like a name"
   ]
  },
  {
   "cell_type": "code",
   "execution_count": 319,
   "metadata": {},
   "outputs": [],
   "source": [
    "df[\"manufacturer\"] = df[\"manufacturer\"].map(lambda x: \"Dan Mooney\" if x == \"mooney, dan\" else x)"
   ]
  },
  {
   "cell_type": "code",
   "execution_count": 320,
   "metadata": {},
   "outputs": [],
   "source": [
    "df[\"manufacturer\"] = df[\"manufacturer\"].map(lambda x: 'Mooney' if \"mooney\" in x else x)"
   ]
  },
  {
   "cell_type": "markdown",
   "metadata": {},
   "source": [
    "### Robinson Edit-Good Edit"
   ]
  },
  {
   "cell_type": "code",
   "execution_count": 323,
   "metadata": {
    "scrolled": true
   },
   "outputs": [
    {
     "data": {
      "text/plain": [
       "1691"
      ]
     },
     "execution_count": 323,
     "metadata": {},
     "output_type": "execute_result"
    }
   ],
   "source": [
    "df['manufacturer'].str.contains('robinson').sum()"
   ]
  },
  {
   "cell_type": "code",
   "execution_count": 324,
   "metadata": {},
   "outputs": [
    {
     "data": {
      "text/plain": [
       "robinson helicopter               230\n",
       "robinson helicopter company       194\n",
       "robinson helicopter co             22\n",
       "robinson michael e                  2\n",
       "rand robinson                       2\n",
       "robinson helicopter co inc          1\n",
       "failing/rand-robinson               1\n",
       "robinson helicopters                1\n",
       "rand robinson engineering           1\n",
       "robinson helicopter co.             1\n",
       "whitten robinson                    1\n",
       "hutton rand robinson                1\n",
       "wayne o robinson                    1\n",
       "robinson stewart j                  1\n",
       "rand/robinson                       1\n",
       "weaver stanley r/robinson scot      1\n",
       "Name: manufacturer, dtype: int64"
      ]
     },
     "execution_count": 324,
     "metadata": {},
     "output_type": "execute_result"
    }
   ],
   "source": [
    "df.loc[(df[\"manufacturer\"].str.contains('robinson') == True) & (df['manufacturer'] != \"robinson\")]['manufacturer'].value_counts()"
   ]
  },
  {
   "cell_type": "code",
   "execution_count": 325,
   "metadata": {},
   "outputs": [],
   "source": [
    "df['manufacturer'] = df['manufacturer'].map(lambda x: \"Robinson\" if all(word in x for word in ['helicopter', 'robinson']) else x)"
   ]
  },
  {
   "cell_type": "code",
   "execution_count": 326,
   "metadata": {},
   "outputs": [],
   "source": [
    "df['manufacturer'] = df['manufacturer'].map(lambda x: \"Robinson\" if x == 'robinson' else x)"
   ]
  },
  {
   "cell_type": "markdown",
   "metadata": {},
   "source": [
    "### Grumman Edit -Perfect and Easy"
   ]
  },
  {
   "cell_type": "code",
   "execution_count": 328,
   "metadata": {
    "scrolled": true
   },
   "outputs": [
    {
     "data": {
      "text/plain": [
       "1647"
      ]
     },
     "execution_count": 328,
     "metadata": {},
     "output_type": "execute_result"
    }
   ],
   "source": [
    "df['manufacturer'].str.contains('grumman').sum()"
   ]
  },
  {
   "cell_type": "code",
   "execution_count": 329,
   "metadata": {},
   "outputs": [
    {
     "data": {
      "text/plain": [
       "grumman american                  226\n",
       "grumman-schweizer                 127\n",
       "grumman acft eng cor-schweizer     58\n",
       "grumman american avn. corp.        50\n",
       "grumman acft eng                    2\n",
       "grumman schweizer                   2\n",
       "grumman american aviation           2\n",
       "grumman aircraft eng corp           2\n",
       "grumman american corporation        1\n",
       "grumman aircraft                    1\n",
       "grumman aircraft cor-schweizer      1\n",
       "grumman acft eng cor                1\n",
       "grumman american avn. corp          1\n",
       "grumman american aviation corp      1\n",
       "Name: manufacturer, dtype: int64"
      ]
     },
     "execution_count": 329,
     "metadata": {},
     "output_type": "execute_result"
    }
   ],
   "source": [
    "df.loc[(df[\"manufacturer\"].str.contains('grumman') == True) & (df['manufacturer'] != \"grumman\")]['manufacturer'].value_counts()"
   ]
  },
  {
   "cell_type": "code",
   "execution_count": 330,
   "metadata": {},
   "outputs": [],
   "source": [
    "df['manufacturer'] = df['manufacturer'].map(lambda x: \"Grumman\" if 'grumman' in x else x)"
   ]
  },
  {
   "cell_type": "markdown",
   "metadata": {},
   "source": [
    "### Hughes Edit - not quite perfect, but good"
   ]
  },
  {
   "cell_type": "code",
   "execution_count": 332,
   "metadata": {
    "scrolled": true
   },
   "outputs": [
    {
     "data": {
      "text/plain": [
       "946"
      ]
     },
     "execution_count": 332,
     "metadata": {},
     "output_type": "execute_result"
    }
   ],
   "source": [
    "df['manufacturer'].str.contains('hughes').sum()"
   ]
  },
  {
   "cell_type": "code",
   "execution_count": 334,
   "metadata": {},
   "outputs": [
    {
     "data": {
      "text/plain": [
       "hughes helicopters inc            3\n",
       "hughes aero corp                  2\n",
       "schweizer(hughes)aircraft corp    2\n",
       "hughes charles r                  1\n",
       "hughes/helicopter assocs inc      1\n",
       "eugene hughes                     1\n",
       "schweizer(hughes)                 1\n",
       "hughes j/hughes j                 1\n",
       "hughes aero                       1\n",
       "hughes cassutt                    1\n",
       "Name: manufacturer, dtype: int64"
      ]
     },
     "execution_count": 334,
     "metadata": {},
     "output_type": "execute_result"
    }
   ],
   "source": [
    "df.loc[(df[\"manufacturer\"].str.contains('hughes') == True) & (df['manufacturer'] != \"hughes\")]['manufacturer'].value_counts()"
   ]
  },
  {
   "cell_type": "code",
   "execution_count": 335,
   "metadata": {},
   "outputs": [],
   "source": [
    "df['manufacturer'] = df['manufacturer'].map(lambda x: \"Hughes\" if x == 'hughes' else x)"
   ]
  },
  {
   "cell_type": "code",
   "execution_count": 336,
   "metadata": {},
   "outputs": [],
   "source": [
    "df['manufacturer'] = df['manufacturer'].map(lambda x: \"Hughes\" if all(word in x for word in ['helicopter', 'hughes']) else x)"
   ]
  },
  {
   "cell_type": "code",
   "execution_count": 337,
   "metadata": {},
   "outputs": [],
   "source": [
    "df['manufacturer'] = df['manufacturer'].map(lambda x: \"Hughes\" if all(word in x for word in ['aero', 'hughes']) else x)"
   ]
  },
  {
   "cell_type": "markdown",
   "metadata": {},
   "source": [
    "# Post-Edit Value_Counts"
   ]
  },
  {
   "cell_type": "code",
   "execution_count": 338,
   "metadata": {},
   "outputs": [
    {
     "data": {
      "text/plain": [
       "Cessna      27215\n",
       "Piper       14946\n",
       "Beech        5462\n",
       "Boeing       2833\n",
       "Bell         2769\n",
       "Robinson     1679\n",
       "Grumman      1647\n",
       "Mooney       1384\n",
       "Bellanca     1047\n",
       "Hughes        939\n",
       "Name: manufacturer, dtype: int64"
      ]
     },
     "execution_count": 338,
     "metadata": {},
     "output_type": "execute_result"
    }
   ],
   "source": [
    "df['manufacturer'].value_counts()[:10]"
   ]
  },
  {
   "cell_type": "markdown",
   "metadata": {},
   "source": [
    "# TOP TEN AIRCRAFT ARE ALL CLEANED WELL!!!!!"
   ]
  },
  {
   "cell_type": "markdown",
   "metadata": {},
   "source": [
    "   "
   ]
  },
  {
   "cell_type": "markdown",
   "metadata": {},
   "source": [
    "   "
   ]
  },
  {
   "cell_type": "markdown",
   "metadata": {},
   "source": [
    "   "
   ]
  },
  {
   "cell_type": "code",
   "execution_count": 373,
   "metadata": {},
   "outputs": [
    {
     "data": {
      "text/html": [
       "<div>\n",
       "<style scoped>\n",
       "    .dataframe tbody tr th:only-of-type {\n",
       "        vertical-align: middle;\n",
       "    }\n",
       "\n",
       "    .dataframe tbody tr th {\n",
       "        vertical-align: top;\n",
       "    }\n",
       "\n",
       "    .dataframe thead th {\n",
       "        text-align: right;\n",
       "    }\n",
       "</style>\n",
       "<table border=\"1\" class=\"dataframe\">\n",
       "  <thead>\n",
       "    <tr style=\"text-align: right;\">\n",
       "      <th></th>\n",
       "      <th>event_id</th>\n",
       "      <th>investigation_type</th>\n",
       "      <th>accident_number</th>\n",
       "      <th>event_date</th>\n",
       "      <th>location</th>\n",
       "      <th>country</th>\n",
       "      <th>airport_code</th>\n",
       "      <th>airport_name</th>\n",
       "      <th>injury_severity</th>\n",
       "      <th>aircraft_damage</th>\n",
       "      <th>aircraft_category</th>\n",
       "      <th>make</th>\n",
       "      <th>model</th>\n",
       "      <th>amateur_built</th>\n",
       "      <th>number_of_engines</th>\n",
       "      <th>engine_type</th>\n",
       "      <th>purpose_of_flight</th>\n",
       "      <th>air_carrier</th>\n",
       "      <th>total_fatal_injuries</th>\n",
       "      <th>total_serious_injuries</th>\n",
       "      <th>total_minor_injuries</th>\n",
       "      <th>total_uninjured</th>\n",
       "      <th>weather_condition</th>\n",
       "      <th>broad_phase_of_flight</th>\n",
       "      <th>report_status</th>\n",
       "      <th>year_of_event</th>\n",
       "      <th>month</th>\n",
       "      <th>days</th>\n",
       "      <th>survivable_injuries</th>\n",
       "      <th>manufacturer</th>\n",
       "    </tr>\n",
       "  </thead>\n",
       "  <tbody>\n",
       "    <tr>\n",
       "      <th>0</th>\n",
       "      <td>20001218X45444</td>\n",
       "      <td>Accident</td>\n",
       "      <td>SEA87LA080</td>\n",
       "      <td>1948-10-24</td>\n",
       "      <td>MOOSE CREEK, ID</td>\n",
       "      <td>united states</td>\n",
       "      <td>Unknown</td>\n",
       "      <td>Unknown</td>\n",
       "      <td>Fatal(2)</td>\n",
       "      <td>Destroyed</td>\n",
       "      <td>Unknown</td>\n",
       "      <td>stinson</td>\n",
       "      <td>108-3</td>\n",
       "      <td>No</td>\n",
       "      <td>1.0</td>\n",
       "      <td>Reciprocating</td>\n",
       "      <td>Personal</td>\n",
       "      <td>Unknown</td>\n",
       "      <td>2.0</td>\n",
       "      <td>0.0</td>\n",
       "      <td>0.0</td>\n",
       "      <td>0.0</td>\n",
       "      <td>Unknown</td>\n",
       "      <td>Cruise</td>\n",
       "      <td>Probable Cause</td>\n",
       "      <td>1948</td>\n",
       "      <td>10</td>\n",
       "      <td>24</td>\n",
       "      <td>0.0</td>\n",
       "      <td>stinson</td>\n",
       "    </tr>\n",
       "    <tr>\n",
       "      <th>1</th>\n",
       "      <td>20001218X45447</td>\n",
       "      <td>Accident</td>\n",
       "      <td>LAX94LA336</td>\n",
       "      <td>1962-07-19</td>\n",
       "      <td>BRIDGEPORT, CA</td>\n",
       "      <td>united states</td>\n",
       "      <td>Unknown</td>\n",
       "      <td>Unknown</td>\n",
       "      <td>Fatal(4)</td>\n",
       "      <td>Destroyed</td>\n",
       "      <td>Unknown</td>\n",
       "      <td>piper</td>\n",
       "      <td>PA24-180</td>\n",
       "      <td>No</td>\n",
       "      <td>1.0</td>\n",
       "      <td>Reciprocating</td>\n",
       "      <td>Personal</td>\n",
       "      <td>Unknown</td>\n",
       "      <td>4.0</td>\n",
       "      <td>0.0</td>\n",
       "      <td>0.0</td>\n",
       "      <td>0.0</td>\n",
       "      <td>Unknown</td>\n",
       "      <td>Unknown</td>\n",
       "      <td>Probable Cause</td>\n",
       "      <td>1962</td>\n",
       "      <td>7</td>\n",
       "      <td>19</td>\n",
       "      <td>0.0</td>\n",
       "      <td>Piper</td>\n",
       "    </tr>\n",
       "  </tbody>\n",
       "</table>\n",
       "</div>"
      ],
      "text/plain": [
       "         event_id investigation_type accident_number  event_date  \\\n",
       "0  20001218X45444           Accident      SEA87LA080  1948-10-24   \n",
       "1  20001218X45447           Accident      LAX94LA336  1962-07-19   \n",
       "\n",
       "          location        country airport_code airport_name injury_severity  \\\n",
       "0  MOOSE CREEK, ID  united states      Unknown      Unknown        Fatal(2)   \n",
       "1   BRIDGEPORT, CA  united states      Unknown      Unknown        Fatal(4)   \n",
       "\n",
       "  aircraft_damage aircraft_category     make     model amateur_built  \\\n",
       "0       Destroyed           Unknown  stinson     108-3            No   \n",
       "1       Destroyed           Unknown    piper  PA24-180            No   \n",
       "\n",
       "  number_of_engines    engine_type purpose_of_flight air_carrier  \\\n",
       "0               1.0  Reciprocating          Personal     Unknown   \n",
       "1               1.0  Reciprocating          Personal     Unknown   \n",
       "\n",
       "   total_fatal_injuries  total_serious_injuries  total_minor_injuries  \\\n",
       "0                   2.0                     0.0                   0.0   \n",
       "1                   4.0                     0.0                   0.0   \n",
       "\n",
       "  total_uninjured weather_condition broad_phase_of_flight   report_status  \\\n",
       "0             0.0           Unknown                Cruise  Probable Cause   \n",
       "1             0.0           Unknown               Unknown  Probable Cause   \n",
       "\n",
       "   year_of_event  month  days  survivable_injuries manufacturer  \n",
       "0           1948     10    24                  0.0      stinson  \n",
       "1           1962      7    19                  0.0        Piper  "
      ]
     },
     "execution_count": 373,
     "metadata": {},
     "output_type": "execute_result"
    }
   ],
   "source": [
    "df.head(2)"
   ]
  },
  {
   "cell_type": "markdown",
   "metadata": {},
   "source": [
    "# Trendline of Reports Over Years of Sample"
   ]
  },
  {
   "cell_type": "code",
   "execution_count": 417,
   "metadata": {},
   "outputs": [
    {
     "data": {
      "text/plain": [
       "array([1607, 1545, 1392, 1624, 1681, 1638, 1664, 1582, 1535, 1561, 1835,\n",
       "       1850, 1786, 1783, 1893, 2016, 1851, 2031, 1952, 2085, 2020, 2063,\n",
       "       2220, 2209, 2226, 2148, 2187, 2309, 2257, 2313, 2355, 2462, 2518,\n",
       "       2544, 2730, 2828, 2880, 3096, 3457, 3556, 3593,    1,    2,    1,\n",
       "          1,    1,    1])"
      ]
     },
     "execution_count": 417,
     "metadata": {},
     "output_type": "execute_result"
    }
   ],
   "source": [
    "events_per_year = df['year_of_event'].value_counts().sort_index(ascending=False)\n",
    "events_per_year.values"
   ]
  },
  {
   "cell_type": "code",
   "execution_count": 389,
   "metadata": {},
   "outputs": [
    {
     "data": {
      "text/plain": [
       "Int64Index([1948, 1962, 1974, 1977, 1979, 1981, 1982, 1983, 1984, 1985, 1986,\n",
       "            1987, 1988, 1989, 1990, 1991, 1992, 1993, 1994, 1995, 1996, 1997,\n",
       "            1998, 1999, 2000, 2001, 2002, 2003, 2004, 2005, 2006, 2007, 2008,\n",
       "            2009, 2010, 2011, 2012, 2013, 2014, 2015, 2016, 2017, 2018, 2019,\n",
       "            2020, 2021, 2022],\n",
       "           dtype='int64')"
      ]
     },
     "execution_count": 389,
     "metadata": {},
     "output_type": "execute_result"
    }
   ],
   "source": [
    "df['year_of_event'].value_counts().sort_index().index"
   ]
  },
  {
   "cell_type": "code",
   "execution_count": 418,
   "metadata": {},
   "outputs": [
    {
     "data": {
      "image/png": "[encoded data removed]",
      "text/plain": [
       "<Figure size 1008x576 with 1 Axes>"
      ]
     },
     "metadata": {
      "needs_background": "light"
     },
     "output_type": "display_data"
    }
   ],
   "source": [
    "xticks = [1945, 1950, 1955, 1960, 1965, 1970, 1975, 1980, 1985, 1990, 1995, 2000, 2005, 2010, 2015, 2020, 2022]\n",
    "\n",
    "fig, ax = plt.subplots(figsize=(14,8))\n",
    "ax.bar(list(df['year_of_event'].value_counts().sort_index().index), \n",
    "             list(df['year_of_event'].value_counts().values))\n",
    "ax.set_xticks(xticks)\n",
    "ax.set_xticklabels(labels=xticks, rotation=45)\n",
    "ax.set_title(\"Reports Over the Years\")\n",
    "ax.set_ylabel(\"Number of Reports\");"
   ]
  },
  {
   "cell_type": "markdown",
   "metadata": {},
   "source": [
    "# Manufacturer Related Info"
   ]
  },
  {
   "cell_type": "markdown",
   "metadata": {},
   "source": [
    "### Plot of Models Reports by Percentage"
   ]
  },
  {
   "cell_type": "code",
   "execution_count": 345,
   "metadata": {},
   "outputs": [
    {
     "data": {
      "image/png": "[encoded data removed]",
      "text/plain": [
       "<Figure size 720x504 with 1 Axes>"
      ]
     },
     "metadata": {
      "needs_background": "light"
     },
     "output_type": "display_data"
    }
   ],
   "source": [
    "(df['manufacturer'].value_counts(normalize=True)[:10] * 100).plot(kind=\"bar\", rot=35, figsize=(10,7), \n",
    "                    title= \"Total % of Reports from Top Ten Manufacturers\", ylabel=\"Percent of All Reports\");"
   ]
  },
  {
   "cell_type": "code",
   "execution_count": 346,
   "metadata": {},
   "outputs": [
    {
     "data": {
      "text/plain": [
       "Cessna               27215\n",
       "Piper                14946\n",
       "Beech                 5462\n",
       "Boeing                2833\n",
       "Bell                  2769\n",
       "Robinson              1679\n",
       "Grumman               1647\n",
       "Mooney                1384\n",
       "Bellanca              1047\n",
       "Hughes                 939\n",
       "schweizer              773\n",
       "air tractor            691\n",
       "aeronca                636\n",
       "mcdonnell douglas      608\n",
       "maule                  589\n",
       "champion               519\n",
       "stinson                439\n",
       "aero commander         429\n",
       "de havilland           422\n",
       "luscombe               414\n",
       "Name: manufacturer, dtype: int64"
      ]
     },
     "execution_count": 346,
     "metadata": {},
     "output_type": "execute_result"
    }
   ],
   "source": [
    "df['manufacturer'].value_counts()[:20]"
   ]
  },
  {
   "cell_type": "code",
   "execution_count": null,
   "metadata": {},
   "outputs": [],
   "source": []
  },
  {
   "cell_type": "markdown",
   "metadata": {},
   "source": [
    "# Purpose of Flight Info"
   ]
  },
  {
   "cell_type": "code",
   "execution_count": 356,
   "metadata": {},
   "outputs": [
    {
     "data": {
      "image/png": "[encoded data removed]",
      "text/plain": [
       "<Figure size 720x576 with 1 Axes>"
      ]
     },
     "metadata": {
      "needs_background": "light"
     },
     "output_type": "display_data"
    }
   ],
   "source": [
    "(df['purpose_of_flight'].value_counts(normalize=True)[:10] * 100).plot(kind='bar', figsize=(10,8), \n",
    "                        title=\"Reports by Purpose of Flight\", ylabel=\"Percentage of All Reports\", \n",
    "                        rot=35, yticks=[5, 10, 15, 20, 25, 30, 35, 40, 45, 50, 55, 60]);"
   ]
  },
  {
   "cell_type": "markdown",
   "metadata": {},
   "source": [
    "# Air Carrier - Such small values relative to size of data, unreliable"
   ]
  },
  {
   "cell_type": "code",
   "execution_count": 371,
   "metadata": {
    "scrolled": false
   },
   "outputs": [
    {
     "data": {
      "image/png": "[encoded data removed]",
      "text/plain": [
       "<Figure size 720x576 with 1 Axes>"
      ]
     },
     "metadata": {
      "needs_background": "light"
     },
     "output_type": "display_data"
    }
   ],
   "source": [
    "(df['air_carrier'].value_counts(normalize=True).drop('Unknown')[:10]*100).plot(kind='bar', figsize=(10,8), \n",
    "                        title=\"Reports by Air Carrier\", ylabel=\"Percentage of All Reports\", \n",
    "                        rot=35);"
   ]
  },
  {
   "cell_type": "markdown",
   "metadata": {},
   "source": [
    "# Aircraft Category -"
   ]
  },
  {
   "cell_type": "code",
   "execution_count": 372,
   "metadata": {},
   "outputs": [
    {
     "data": {
      "image/png": "[encoded data removed]",
      "text/plain": [
       "<Figure size 720x576 with 1 Axes>"
      ]
     },
     "metadata": {
      "needs_background": "light"
     },
     "output_type": "display_data"
    }
   ],
   "source": [
    "(df['aircraft_category'].value_counts(normalize=True).drop('Unknown')[:10]*100).plot(kind='bar', figsize=(10,8), \n",
    "                        title=\"Reports by Aircraft Category\", ylabel=\"Percentage of All Reports\", \n",
    "                        rot=35);"
   ]
  },
  {
   "cell_type": "code",
   "execution_count": 203,
   "metadata": {},
   "outputs": [
    {
     "data": {
      "text/plain": [
       "Unknown    18682\n",
       "Name: aircraft_category, dtype: int64"
      ]
     },
     "execution_count": 203,
     "metadata": {},
     "output_type": "execute_result"
    }
   ],
   "source": [
    "df.loc[(df['aircraft_category'] == 'Unknown')  & (df['manufacturer'] == 'Cessna')]['aircraft_category'].value_counts()"
   ]
  },
  {
   "cell_type": "markdown",
   "metadata": {},
   "source": [
    "### MISC DATA STUFF - CLEAN IT UP WHEN POSSIBLE"
   ]
  },
  {
   "cell_type": "code",
   "execution_count": 14,
   "metadata": {},
   "outputs": [
    {
     "data": {
      "image/png": "[encoded data removed]",
      "text/plain": [
       "<Figure size 460x360 with 1 Axes>"
      ]
     },
     "metadata": {
      "needs_background": "light"
     },
     "output_type": "display_data"
    }
   ],
   "source": [
    "sns.lmplot(y='total_fatal_injuries', x='survivable_injuries', data = df, hue='investigation_type')\n",
    "plt.title(\"Fatalities vs Injuries\");"
   ]
  },
  {
   "cell_type": "code",
   "execution_count": null,
   "metadata": {},
   "outputs": [],
   "source": []
  },
  {
   "cell_type": "code",
   "execution_count": 15,
   "metadata": {},
   "outputs": [],
   "source": [
    "boeing_inc = df[(df['make'] == \"BOEING\") & (df['investigation_type'] == 'Incident')]"
   ]
  },
  {
   "cell_type": "markdown",
   "metadata": {},
   "source": [
    "# Clean Countries all Lower Case"
   ]
  },
  {
   "cell_type": "code",
   "execution_count": 35,
   "metadata": {},
   "outputs": [],
   "source": [
    "df['country'] = df['country'].str.lower()"
   ]
  },
  {
   "cell_type": "markdown",
   "metadata": {},
   "source": [
    "# SEPARATING STATES / ASSIGNING REGIONS"
   ]
  },
  {
   "cell_type": "code",
   "execution_count": 36,
   "metadata": {},
   "outputs": [],
   "source": [
    "df[\"states_names\"] = df['location'].map(lambda x: x[-2:])"
   ]
  },
  {
   "cell_type": "code",
   "execution_count": 37,
   "metadata": {},
   "outputs": [],
   "source": [
    "central = [\"WI\", 'MN', 'IL', 'IA', 'IN', 'MI', 'MO', 'KS', 'ND', 'SD', 'NE', 'OK', 'TX']"
   ]
  },
  {
   "cell_type": "code",
   "execution_count": 38,
   "metadata": {},
   "outputs": [],
   "source": [
    "northeast = [\"ME\", 'WV', 'DC', 'OH', 'RI', 'NH', 'VT', 'CT', 'PA', 'MA', 'DE', 'NY', 'NJ', 'MD']"
   ]
  },
  {
   "cell_type": "code",
   "execution_count": 39,
   "metadata": {},
   "outputs": [],
   "source": [
    "southeast = ['VA', 'NC', 'SC', 'GA', 'AL', 'MS', 'LA', 'TN', 'AR', 'KY', 'FL']"
   ]
  },
  {
   "cell_type": "code",
   "execution_count": 40,
   "metadata": {},
   "outputs": [],
   "source": [
    "west = ['MT', 'WY', 'CO', 'NM', 'AZ', 'NV', 'UT', 'ID', 'WA', 'OR', 'CA', 'HI', 'AK']"
   ]
  },
  {
   "cell_type": "code",
   "execution_count": 41,
   "metadata": {},
   "outputs": [
    {
     "data": {
      "text/plain": [
       "51"
      ]
     },
     "execution_count": 41,
     "metadata": {},
     "output_type": "execute_result"
    }
   ],
   "source": [
    "len(central + northeast + southeast + west)"
   ]
  },
  {
   "cell_type": "code",
   "execution_count": 42,
   "metadata": {},
   "outputs": [
    {
     "data": {
      "text/html": [
       "<div>\n",
       "<style scoped>\n",
       "    .dataframe tbody tr th:only-of-type {\n",
       "        vertical-align: middle;\n",
       "    }\n",
       "\n",
       "    .dataframe tbody tr th {\n",
       "        vertical-align: top;\n",
       "    }\n",
       "\n",
       "    .dataframe thead th {\n",
       "        text-align: right;\n",
       "    }\n",
       "</style>\n",
       "<table border=\"1\" class=\"dataframe\">\n",
       "  <thead>\n",
       "    <tr style=\"text-align: right;\">\n",
       "      <th></th>\n",
       "      <th>event_id</th>\n",
       "      <th>investigation_type</th>\n",
       "      <th>accident_number</th>\n",
       "      <th>event_date</th>\n",
       "      <th>location</th>\n",
       "      <th>country</th>\n",
       "      <th>airport_code</th>\n",
       "      <th>airport_name</th>\n",
       "      <th>injury_severity</th>\n",
       "      <th>aircraft_damage</th>\n",
       "      <th>aircraft_category</th>\n",
       "      <th>make</th>\n",
       "      <th>model</th>\n",
       "      <th>amateur_built</th>\n",
       "      <th>number_of_engines</th>\n",
       "      <th>engine_type</th>\n",
       "      <th>purpose_of_flight</th>\n",
       "      <th>air_carrier</th>\n",
       "      <th>total_fatal_injuries</th>\n",
       "      <th>total_serious_injuries</th>\n",
       "      <th>total_minor_injuries</th>\n",
       "      <th>total_uninjured</th>\n",
       "      <th>weather_condition</th>\n",
       "      <th>broad_phase_of_flight</th>\n",
       "      <th>report_status</th>\n",
       "      <th>survivable_injuries</th>\n",
       "      <th>states_names</th>\n",
       "    </tr>\n",
       "  </thead>\n",
       "  <tbody>\n",
       "    <tr>\n",
       "      <th>0</th>\n",
       "      <td>20001218X45444</td>\n",
       "      <td>Accident</td>\n",
       "      <td>SEA87LA080</td>\n",
       "      <td>1948-10-24</td>\n",
       "      <td>MOOSE CREEK, ID</td>\n",
       "      <td>united states</td>\n",
       "      <td>Unknown</td>\n",
       "      <td>Unknown</td>\n",
       "      <td>Fatal(2)</td>\n",
       "      <td>Destroyed</td>\n",
       "      <td>Unknown</td>\n",
       "      <td>Stinson</td>\n",
       "      <td>108-3</td>\n",
       "      <td>No</td>\n",
       "      <td>1.0</td>\n",
       "      <td>Reciprocating</td>\n",
       "      <td>Personal</td>\n",
       "      <td>Unknown</td>\n",
       "      <td>2.0</td>\n",
       "      <td>0.0</td>\n",
       "      <td>0.0</td>\n",
       "      <td>0.0</td>\n",
       "      <td>Unknown</td>\n",
       "      <td>Cruise</td>\n",
       "      <td>Probable Cause</td>\n",
       "      <td>0.0</td>\n",
       "      <td>ID</td>\n",
       "    </tr>\n",
       "    <tr>\n",
       "      <th>1</th>\n",
       "      <td>20001218X45447</td>\n",
       "      <td>Accident</td>\n",
       "      <td>LAX94LA336</td>\n",
       "      <td>1962-07-19</td>\n",
       "      <td>BRIDGEPORT, CA</td>\n",
       "      <td>united states</td>\n",
       "      <td>Unknown</td>\n",
       "      <td>Unknown</td>\n",
       "      <td>Fatal(4)</td>\n",
       "      <td>Destroyed</td>\n",
       "      <td>Unknown</td>\n",
       "      <td>Piper</td>\n",
       "      <td>PA24-180</td>\n",
       "      <td>No</td>\n",
       "      <td>1.0</td>\n",
       "      <td>Reciprocating</td>\n",
       "      <td>Personal</td>\n",
       "      <td>Unknown</td>\n",
       "      <td>4.0</td>\n",
       "      <td>0.0</td>\n",
       "      <td>0.0</td>\n",
       "      <td>0.0</td>\n",
       "      <td>Unknown</td>\n",
       "      <td>Unknown</td>\n",
       "      <td>Probable Cause</td>\n",
       "      <td>0.0</td>\n",
       "      <td>CA</td>\n",
       "    </tr>\n",
       "  </tbody>\n",
       "</table>\n",
       "</div>"
      ],
      "text/plain": [
       "         event_id investigation_type accident_number  event_date  \\\n",
       "0  20001218X45444           Accident      SEA87LA080  1948-10-24   \n",
       "1  20001218X45447           Accident      LAX94LA336  1962-07-19   \n",
       "\n",
       "          location        country airport_code airport_name injury_severity  \\\n",
       "0  MOOSE CREEK, ID  united states      Unknown      Unknown        Fatal(2)   \n",
       "1   BRIDGEPORT, CA  united states      Unknown      Unknown        Fatal(4)   \n",
       "\n",
       "  aircraft_damage aircraft_category     make     model amateur_built  \\\n",
       "0       Destroyed           Unknown  Stinson     108-3            No   \n",
       "1       Destroyed           Unknown    Piper  PA24-180            No   \n",
       "\n",
       "  number_of_engines    engine_type purpose_of_flight air_carrier  \\\n",
       "0               1.0  Reciprocating          Personal     Unknown   \n",
       "1               1.0  Reciprocating          Personal     Unknown   \n",
       "\n",
       "   total_fatal_injuries  total_serious_injuries  total_minor_injuries  \\\n",
       "0                   2.0                     0.0                   0.0   \n",
       "1                   4.0                     0.0                   0.0   \n",
       "\n",
       "  total_uninjured weather_condition broad_phase_of_flight   report_status  \\\n",
       "0             0.0           Unknown                Cruise  Probable Cause   \n",
       "1             0.0           Unknown               Unknown  Probable Cause   \n",
       "\n",
       "   survivable_injuries states_names  \n",
       "0                  0.0           ID  \n",
       "1                  0.0           CA  "
      ]
     },
     "execution_count": 42,
     "metadata": {},
     "output_type": "execute_result"
    }
   ],
   "source": [
    "df.head(2)"
   ]
  },
  {
   "cell_type": "markdown",
   "metadata": {},
   "source": [
    "### CENTRAL STATES"
   ]
  },
  {
   "cell_type": "code",
   "execution_count": 43,
   "metadata": {},
   "outputs": [],
   "source": [
    "central_states = df.loc[(df['states_names'].isin(central)  == True) & (df[\"country\"] == 'united states')]"
   ]
  },
  {
   "cell_type": "code",
   "execution_count": 44,
   "metadata": {
    "scrolled": true
   },
   "outputs": [
    {
     "data": {
      "text/plain": [
       "array(['MN', 'TX', 'OK', 'MI', 'IN', 'MO', 'IL', 'KS', 'IA', 'WI', 'SD',\n",
       "       'NE', 'ND'], dtype=object)"
      ]
     },
     "execution_count": 44,
     "metadata": {},
     "output_type": "execute_result"
    }
   ],
   "source": [
    "central_states[\"states_names\"].unique()"
   ]
  },
  {
   "cell_type": "code",
   "execution_count": 45,
   "metadata": {},
   "outputs": [
    {
     "data": {
      "text/html": [
       "<div>\n",
       "<style scoped>\n",
       "    .dataframe tbody tr th:only-of-type {\n",
       "        vertical-align: middle;\n",
       "    }\n",
       "\n",
       "    .dataframe tbody tr th {\n",
       "        vertical-align: top;\n",
       "    }\n",
       "\n",
       "    .dataframe thead th {\n",
       "        text-align: right;\n",
       "    }\n",
       "</style>\n",
       "<table border=\"1\" class=\"dataframe\">\n",
       "  <thead>\n",
       "    <tr style=\"text-align: right;\">\n",
       "      <th></th>\n",
       "      <th>total_fatal_injuries</th>\n",
       "      <th>total_serious_injuries</th>\n",
       "      <th>total_minor_injuries</th>\n",
       "      <th>survivable_injuries</th>\n",
       "    </tr>\n",
       "  </thead>\n",
       "  <tbody>\n",
       "    <tr>\n",
       "      <th>count</th>\n",
       "      <td>20799.000000</td>\n",
       "      <td>20799.000000</td>\n",
       "      <td>20799.000000</td>\n",
       "      <td>20799.000000</td>\n",
       "    </tr>\n",
       "    <tr>\n",
       "      <th>mean</th>\n",
       "      <td>0.323910</td>\n",
       "      <td>0.208904</td>\n",
       "      <td>0.283764</td>\n",
       "      <td>0.492668</td>\n",
       "    </tr>\n",
       "    <tr>\n",
       "      <th>std</th>\n",
       "      <td>1.907199</td>\n",
       "      <td>0.720522</td>\n",
       "      <td>1.339468</td>\n",
       "      <td>1.770062</td>\n",
       "    </tr>\n",
       "    <tr>\n",
       "      <th>min</th>\n",
       "      <td>0.000000</td>\n",
       "      <td>0.000000</td>\n",
       "      <td>0.000000</td>\n",
       "      <td>0.000000</td>\n",
       "    </tr>\n",
       "    <tr>\n",
       "      <th>25%</th>\n",
       "      <td>0.000000</td>\n",
       "      <td>0.000000</td>\n",
       "      <td>0.000000</td>\n",
       "      <td>0.000000</td>\n",
       "    </tr>\n",
       "    <tr>\n",
       "      <th>50%</th>\n",
       "      <td>0.000000</td>\n",
       "      <td>0.000000</td>\n",
       "      <td>0.000000</td>\n",
       "      <td>0.000000</td>\n",
       "    </tr>\n",
       "    <tr>\n",
       "      <th>75%</th>\n",
       "      <td>0.000000</td>\n",
       "      <td>0.000000</td>\n",
       "      <td>0.000000</td>\n",
       "      <td>1.000000</td>\n",
       "    </tr>\n",
       "    <tr>\n",
       "      <th>max</th>\n",
       "      <td>156.000000</td>\n",
       "      <td>47.000000</td>\n",
       "      <td>125.000000</td>\n",
       "      <td>172.000000</td>\n",
       "    </tr>\n",
       "  </tbody>\n",
       "</table>\n",
       "</div>"
      ],
      "text/plain": [
       "       total_fatal_injuries  total_serious_injuries  total_minor_injuries  \\\n",
       "count          20799.000000            20799.000000          20799.000000   \n",
       "mean               0.323910                0.208904              0.283764   \n",
       "std                1.907199                0.720522              1.339468   \n",
       "min                0.000000                0.000000              0.000000   \n",
       "25%                0.000000                0.000000              0.000000   \n",
       "50%                0.000000                0.000000              0.000000   \n",
       "75%                0.000000                0.000000              0.000000   \n",
       "max              156.000000               47.000000            125.000000   \n",
       "\n",
       "       survivable_injuries  \n",
       "count         20799.000000  \n",
       "mean              0.492668  \n",
       "std               1.770062  \n",
       "min               0.000000  \n",
       "25%               0.000000  \n",
       "50%               0.000000  \n",
       "75%               1.000000  \n",
       "max             172.000000  "
      ]
     },
     "execution_count": 45,
     "metadata": {},
     "output_type": "execute_result"
    }
   ],
   "source": [
    "central_states.describe()"
   ]
  },
  {
   "cell_type": "code",
   "execution_count": 46,
   "metadata": {},
   "outputs": [
    {
     "data": {
      "text/plain": [
       "total_fatal_injuries     6737.0\n",
       "survivable_injuries     10247.0\n",
       "dtype: float64"
      ]
     },
     "execution_count": 46,
     "metadata": {},
     "output_type": "execute_result"
    }
   ],
   "source": [
    "c_plot = central_states.loc[:, ['total_fatal_injuries', 'survivable_injuries']].sum()\n",
    "c_plot"
   ]
  },
  {
   "cell_type": "markdown",
   "metadata": {},
   "source": [
    "### Weather for Reports w Fatalities"
   ]
  },
  {
   "cell_type": "code",
   "execution_count": 47,
   "metadata": {},
   "outputs": [
    {
     "data": {
      "text/plain": [
       "VMC        2778\n",
       "IMC         721\n",
       "Unknown      57\n",
       "Name: weather_condition, dtype: int64"
      ]
     },
     "execution_count": 47,
     "metadata": {},
     "output_type": "execute_result"
    }
   ],
   "source": [
    "central_states.loc[central_states['total_fatal_injuries'] >= 1]['weather_condition'].value_counts()"
   ]
  },
  {
   "cell_type": "code",
   "execution_count": 48,
   "metadata": {},
   "outputs": [
    {
     "data": {
      "text/plain": [
       "VMC        3.852982\n",
       "IMC        1.000000\n",
       "Unknown    0.079057\n",
       "Name: weather_condition, dtype: float64"
      ]
     },
     "execution_count": 48,
     "metadata": {},
     "output_type": "execute_result"
    }
   ],
   "source": [
    "c_weather_ratio = (central_states.loc[central_states['total_fatal_injuries'] >= 1]['weather_condition'].value_counts())/721\n",
    "c_weather_ratio"
   ]
  },
  {
   "cell_type": "code",
   "execution_count": 49,
   "metadata": {},
   "outputs": [
    {
     "data": {
      "image/png": "[encoded data removed]",
      "text/plain": [
       "<Figure size 432x288 with 1 Axes>"
      ]
     },
     "metadata": {
      "needs_background": "light"
     },
     "output_type": "display_data"
    }
   ],
   "source": [
    "central_states.loc[central_states['total_fatal_injuries'] >= 1]['weather_condition'].value_counts().plot(kind='bar', \n",
    "                            title=\"Central Region Weather Conditions for Reports with Fatalities\",\n",
    "                            ylabel=\"Number of People\", color='red', rot=45);"
   ]
  },
  {
   "cell_type": "code",
   "execution_count": 50,
   "metadata": {},
   "outputs": [
    {
     "data": {
      "image/png": "[encoded data removed]",
      "text/plain": [
       "<Figure size 432x288 with 1 Axes>"
      ]
     },
     "metadata": {
      "needs_background": "light"
     },
     "output_type": "display_data"
    }
   ],
   "source": [
    "central_states.loc[:, ['total_fatal_injuries', 'survivable_injuries']].sum().plot(kind='bar', \n",
    "                        title= \"Central Region Totals - Deaths/Injuries\", rot=45);"
   ]
  },
  {
   "cell_type": "code",
   "execution_count": 51,
   "metadata": {},
   "outputs": [
    {
     "data": {
      "text/html": [
       "<div>\n",
       "<style scoped>\n",
       "    .dataframe tbody tr th:only-of-type {\n",
       "        vertical-align: middle;\n",
       "    }\n",
       "\n",
       "    .dataframe tbody tr th {\n",
       "        vertical-align: top;\n",
       "    }\n",
       "\n",
       "    .dataframe thead th {\n",
       "        text-align: right;\n",
       "    }\n",
       "</style>\n",
       "<table border=\"1\" class=\"dataframe\">\n",
       "  <thead>\n",
       "    <tr style=\"text-align: right;\">\n",
       "      <th></th>\n",
       "      <th>event_id</th>\n",
       "      <th>investigation_type</th>\n",
       "      <th>accident_number</th>\n",
       "      <th>event_date</th>\n",
       "      <th>location</th>\n",
       "      <th>country</th>\n",
       "      <th>airport_code</th>\n",
       "      <th>airport_name</th>\n",
       "      <th>injury_severity</th>\n",
       "      <th>aircraft_damage</th>\n",
       "      <th>aircraft_category</th>\n",
       "      <th>make</th>\n",
       "      <th>model</th>\n",
       "      <th>amateur_built</th>\n",
       "      <th>number_of_engines</th>\n",
       "      <th>engine_type</th>\n",
       "      <th>purpose_of_flight</th>\n",
       "      <th>air_carrier</th>\n",
       "      <th>total_fatal_injuries</th>\n",
       "      <th>total_serious_injuries</th>\n",
       "      <th>total_minor_injuries</th>\n",
       "      <th>total_uninjured</th>\n",
       "      <th>weather_condition</th>\n",
       "      <th>broad_phase_of_flight</th>\n",
       "      <th>report_status</th>\n",
       "      <th>survivable_injuries</th>\n",
       "      <th>states_names</th>\n",
       "    </tr>\n",
       "  </thead>\n",
       "  <tbody>\n",
       "    <tr>\n",
       "      <th>6</th>\n",
       "      <td>20001218X45446</td>\n",
       "      <td>Accident</td>\n",
       "      <td>CHI81LA106</td>\n",
       "      <td>1981-08-01</td>\n",
       "      <td>COTTON, MN</td>\n",
       "      <td>united states</td>\n",
       "      <td>Unknown</td>\n",
       "      <td>Unknown</td>\n",
       "      <td>Fatal(4)</td>\n",
       "      <td>Destroyed</td>\n",
       "      <td>Unknown</td>\n",
       "      <td>Cessna</td>\n",
       "      <td>180</td>\n",
       "      <td>No</td>\n",
       "      <td>1.0</td>\n",
       "      <td>Reciprocating</td>\n",
       "      <td>Personal</td>\n",
       "      <td>Unknown</td>\n",
       "      <td>4.0</td>\n",
       "      <td>0.0</td>\n",
       "      <td>0.0</td>\n",
       "      <td>0.0</td>\n",
       "      <td>IMC</td>\n",
       "      <td>Unknown</td>\n",
       "      <td>Probable Cause</td>\n",
       "      <td>0.0</td>\n",
       "      <td>MN</td>\n",
       "    </tr>\n",
       "    <tr>\n",
       "      <th>13</th>\n",
       "      <td>20020917X02134</td>\n",
       "      <td>Accident</td>\n",
       "      <td>FTW82FRA14</td>\n",
       "      <td>1982-01-02</td>\n",
       "      <td>HEARNE, TX</td>\n",
       "      <td>united states</td>\n",
       "      <td>T72</td>\n",
       "      <td>HEARNE MUNICIPAL</td>\n",
       "      <td>Fatal(1)</td>\n",
       "      <td>Destroyed</td>\n",
       "      <td>Airplane</td>\n",
       "      <td>Cessna</td>\n",
       "      <td>R172K</td>\n",
       "      <td>No</td>\n",
       "      <td>1.0</td>\n",
       "      <td>Reciprocating</td>\n",
       "      <td>Personal</td>\n",
       "      <td>Unknown</td>\n",
       "      <td>1.0</td>\n",
       "      <td>0.0</td>\n",
       "      <td>0.0</td>\n",
       "      <td>0.0</td>\n",
       "      <td>IMC</td>\n",
       "      <td>Takeoff</td>\n",
       "      <td>Probable Cause</td>\n",
       "      <td>0.0</td>\n",
       "      <td>TX</td>\n",
       "    </tr>\n",
       "  </tbody>\n",
       "</table>\n",
       "</div>"
      ],
      "text/plain": [
       "          event_id investigation_type accident_number  event_date    location  \\\n",
       "6   20001218X45446           Accident      CHI81LA106  1981-08-01  COTTON, MN   \n",
       "13  20020917X02134           Accident      FTW82FRA14  1982-01-02  HEARNE, TX   \n",
       "\n",
       "          country airport_code      airport_name injury_severity  \\\n",
       "6   united states      Unknown           Unknown        Fatal(4)   \n",
       "13  united states          T72  HEARNE MUNICIPAL        Fatal(1)   \n",
       "\n",
       "   aircraft_damage aircraft_category    make  model amateur_built  \\\n",
       "6        Destroyed           Unknown  Cessna    180            No   \n",
       "13       Destroyed          Airplane  Cessna  R172K            No   \n",
       "\n",
       "   number_of_engines    engine_type purpose_of_flight air_carrier  \\\n",
       "6                1.0  Reciprocating          Personal     Unknown   \n",
       "13               1.0  Reciprocating          Personal     Unknown   \n",
       "\n",
       "    total_fatal_injuries  total_serious_injuries  total_minor_injuries  \\\n",
       "6                    4.0                     0.0                   0.0   \n",
       "13                   1.0                     0.0                   0.0   \n",
       "\n",
       "   total_uninjured weather_condition broad_phase_of_flight   report_status  \\\n",
       "6              0.0               IMC               Unknown  Probable Cause   \n",
       "13             0.0               IMC               Takeoff  Probable Cause   \n",
       "\n",
       "    survivable_injuries states_names  \n",
       "6                   0.0           MN  \n",
       "13                  0.0           TX  "
      ]
     },
     "execution_count": 51,
     "metadata": {},
     "output_type": "execute_result"
    }
   ],
   "source": [
    "central_states.head(2)"
   ]
  },
  {
   "cell_type": "markdown",
   "metadata": {},
   "source": [
    "# TOP TEN MAKE STATS FOR THE CENTRAL REGION"
   ]
  },
  {
   "cell_type": "code",
   "execution_count": 52,
   "metadata": {},
   "outputs": [],
   "source": [
    "cent_top_ten_list = list(central_states['make'].value_counts()[:10].index)"
   ]
  },
  {
   "cell_type": "code",
   "execution_count": 53,
   "metadata": {},
   "outputs": [
    {
     "data": {
      "text/plain": [
       "Cessna     5562\n",
       "Piper      2938\n",
       "Beech      1160\n",
       "CESSNA      957\n",
       "PIPER       577\n",
       "Bell        392\n",
       "Boeing      309\n",
       "Grumman     260\n",
       "Mooney      257\n",
       "BEECH       256\n",
       "Name: make, dtype: int64"
      ]
     },
     "execution_count": 53,
     "metadata": {},
     "output_type": "execute_result"
    }
   ],
   "source": [
    "central_top_ten_df = central_states.loc[central_states['make'].isin(cent_top_ten_list) == True]\n",
    "central_top_ten_df['make'].value_counts()"
   ]
  },
  {
   "cell_type": "code",
   "execution_count": 386,
   "metadata": {},
   "outputs": [
    {
     "data": {
      "image/png": "[encoded data removed]",
      "text/plain": [
       "<Figure size 432x288 with 1 Axes>"
      ]
     },
     "metadata": {
      "needs_background": "light"
     },
     "output_type": "display_data"
    }
   ],
   "source": [
    "(central_states['make'].value_counts(normalize=True)[:10] * 100).plot(kind='bar', \n",
    "                            title=\"Central Region Top Ten Aircraft in Reports\", ylabel= \"Percent of Reports\", rot=45);"
   ]
  },
  {
   "cell_type": "code",
   "execution_count": 389,
   "metadata": {},
   "outputs": [
    {
     "data": {
      "image/png": "[encoded data removed]",
      "text/plain": [
       "<Figure size 720x504 with 1 Axes>"
      ]
     },
     "metadata": {
      "needs_background": "light"
     },
     "output_type": "display_data"
    }
   ],
   "source": [
    "central_top_ten_df.groupby('make')[[\"total_fatal_injuries\", 'survivable_injuries']].sum().sort_values(by=\"total_fatal_injuries\", ascending=False).plot(\n",
    "    kind='bar', figsize=(10,7), title=\"Central Region Side-by-Side Deaths and Injuries\", \n",
    "    ylabel=\"Number of People\", xlabel= \"Top-Ten Makes in Reports\", rot=45);"
   ]
  },
  {
   "cell_type": "markdown",
   "metadata": {},
   "source": [
    "### NORTHEAST STATES"
   ]
  },
  {
   "cell_type": "code",
   "execution_count": 390,
   "metadata": {},
   "outputs": [],
   "source": [
    "northeast_states = df.loc[(df['states_names'].isin(northeast)  == True)  & (df[\"country\"] == 'united states')] "
   ]
  },
  {
   "cell_type": "code",
   "execution_count": 187,
   "metadata": {},
   "outputs": [
    {
     "data": {
      "text/plain": [
       "array(['OH', 'MA', 'NJ', 'PA', 'NY', 'MD', 'WV', 'DC', 'VT', 'NH', 'CT',\n",
       "       'ME', 'RI', 'DE'], dtype=object)"
      ]
     },
     "execution_count": 187,
     "metadata": {},
     "output_type": "execute_result"
    }
   ],
   "source": [
    "northeast_states[\"states_names\"].unique()"
   ]
  },
  {
   "cell_type": "code",
   "execution_count": 183,
   "metadata": {},
   "outputs": [
    {
     "data": {
      "text/html": [
       "<div>\n",
       "<style scoped>\n",
       "    .dataframe tbody tr th:only-of-type {\n",
       "        vertical-align: middle;\n",
       "    }\n",
       "\n",
       "    .dataframe tbody tr th {\n",
       "        vertical-align: top;\n",
       "    }\n",
       "\n",
       "    .dataframe thead th {\n",
       "        text-align: right;\n",
       "    }\n",
       "</style>\n",
       "<table border=\"1\" class=\"dataframe\">\n",
       "  <thead>\n",
       "    <tr style=\"text-align: right;\">\n",
       "      <th></th>\n",
       "      <th>total_fatal_injuries</th>\n",
       "      <th>total_serious_injuries</th>\n",
       "      <th>total_minor_injuries</th>\n",
       "      <th>survivable_injuries</th>\n",
       "      <th>year_of_event</th>\n",
       "    </tr>\n",
       "  </thead>\n",
       "  <tbody>\n",
       "    <tr>\n",
       "      <th>count</th>\n",
       "      <td>10806.000000</td>\n",
       "      <td>10806.00000</td>\n",
       "      <td>10806.000000</td>\n",
       "      <td>10806.000000</td>\n",
       "      <td>10806.000000</td>\n",
       "    </tr>\n",
       "    <tr>\n",
       "      <th>mean</th>\n",
       "      <td>0.424209</td>\n",
       "      <td>0.24727</td>\n",
       "      <td>0.338331</td>\n",
       "      <td>0.585601</td>\n",
       "      <td>1997.650935</td>\n",
       "    </tr>\n",
       "    <tr>\n",
       "      <th>std</th>\n",
       "      <td>4.047445</td>\n",
       "      <td>1.56066</td>\n",
       "      <td>1.231811</td>\n",
       "      <td>2.083591</td>\n",
       "      <td>11.581909</td>\n",
       "    </tr>\n",
       "    <tr>\n",
       "      <th>min</th>\n",
       "      <td>0.000000</td>\n",
       "      <td>0.00000</td>\n",
       "      <td>0.000000</td>\n",
       "      <td>0.000000</td>\n",
       "      <td>1979.000000</td>\n",
       "    </tr>\n",
       "    <tr>\n",
       "      <th>25%</th>\n",
       "      <td>0.000000</td>\n",
       "      <td>0.00000</td>\n",
       "      <td>0.000000</td>\n",
       "      <td>0.000000</td>\n",
       "      <td>1987.000000</td>\n",
       "    </tr>\n",
       "    <tr>\n",
       "      <th>50%</th>\n",
       "      <td>0.000000</td>\n",
       "      <td>0.00000</td>\n",
       "      <td>0.000000</td>\n",
       "      <td>0.000000</td>\n",
       "      <td>1996.000000</td>\n",
       "    </tr>\n",
       "    <tr>\n",
       "      <th>75%</th>\n",
       "      <td>0.000000</td>\n",
       "      <td>0.00000</td>\n",
       "      <td>0.000000</td>\n",
       "      <td>1.000000</td>\n",
       "      <td>2007.000000</td>\n",
       "    </tr>\n",
       "    <tr>\n",
       "      <th>max</th>\n",
       "      <td>265.000000</td>\n",
       "      <td>125.00000</td>\n",
       "      <td>36.000000</td>\n",
       "      <td>133.000000</td>\n",
       "      <td>2022.000000</td>\n",
       "    </tr>\n",
       "  </tbody>\n",
       "</table>\n",
       "</div>"
      ],
      "text/plain": [
       "       total_fatal_injuries  total_serious_injuries  total_minor_injuries  \\\n",
       "count          10806.000000             10806.00000          10806.000000   \n",
       "mean               0.424209                 0.24727              0.338331   \n",
       "std                4.047445                 1.56066              1.231811   \n",
       "min                0.000000                 0.00000              0.000000   \n",
       "25%                0.000000                 0.00000              0.000000   \n",
       "50%                0.000000                 0.00000              0.000000   \n",
       "75%                0.000000                 0.00000              0.000000   \n",
       "max              265.000000               125.00000             36.000000   \n",
       "\n",
       "       survivable_injuries  year_of_event  \n",
       "count         10806.000000   10806.000000  \n",
       "mean              0.585601    1997.650935  \n",
       "std               2.083591      11.581909  \n",
       "min               0.000000    1979.000000  \n",
       "25%               0.000000    1987.000000  \n",
       "50%               0.000000    1996.000000  \n",
       "75%               1.000000    2007.000000  \n",
       "max             133.000000    2022.000000  "
      ]
     },
     "execution_count": 183,
     "metadata": {},
     "output_type": "execute_result"
    }
   ],
   "source": [
    "northeast_states.describe()"
   ]
  },
  {
   "cell_type": "code",
   "execution_count": 292,
   "metadata": {},
   "outputs": [
    {
     "data": {
      "text/plain": [
       "total_fatal_injuries    4584.0\n",
       "survivable_injuries     6328.0\n",
       "dtype: float64"
      ]
     },
     "execution_count": 292,
     "metadata": {},
     "output_type": "execute_result"
    }
   ],
   "source": [
    "n_plot = northeast_states.loc[:, ['total_fatal_injuries', 'survivable_injuries']].sum()\n",
    "n_plot"
   ]
  },
  {
   "cell_type": "code",
   "execution_count": 295,
   "metadata": {},
   "outputs": [
    {
     "data": {
      "text/plain": [
       "VMC        1423\n",
       "IMC         532\n",
       "Unknown      36\n",
       "Name: weather_condition, dtype: int64"
      ]
     },
     "execution_count": 295,
     "metadata": {},
     "output_type": "execute_result"
    }
   ],
   "source": [
    "northeast_states.loc[northeast_states['total_fatal_injuries'] >= 1]['weather_condition'].value_counts()"
   ]
  },
  {
   "cell_type": "code",
   "execution_count": 297,
   "metadata": {},
   "outputs": [
    {
     "data": {
      "text/plain": [
       "VMC        2.674812\n",
       "IMC        1.000000\n",
       "Unknown    0.067669\n",
       "Name: weather_condition, dtype: float64"
      ]
     },
     "execution_count": 297,
     "metadata": {},
     "output_type": "execute_result"
    }
   ],
   "source": [
    "ne_weather_ratio = northeast_states.loc[northeast_states['total_fatal_injuries'] >= 1]['weather_condition'].value_counts()/532\n",
    "ne_weather_ratio"
   ]
  },
  {
   "cell_type": "code",
   "execution_count": 397,
   "metadata": {},
   "outputs": [
    {
     "data": {
      "image/png": "[encoded data removed]",
      "text/plain": [
       "<Figure size 432x288 with 1 Axes>"
      ]
     },
     "metadata": {
      "needs_background": "light"
     },
     "output_type": "display_data"
    }
   ],
   "source": [
    "northeast_states.loc[northeast_states['total_fatal_injuries'] >= 1]['weather_condition'].value_counts().plot(kind='bar', \n",
    "                            title=\"Northeast Region Weather Conditions for Reports with Fatalities\", \n",
    "                            ylabel=\"Number of People\", color='green', rot=45);"
   ]
  },
  {
   "cell_type": "code",
   "execution_count": 396,
   "metadata": {},
   "outputs": [
    {
     "data": {
      "image/png": "[encoded data removed]",
      "text/plain": [
       "<Figure size 432x288 with 1 Axes>"
      ]
     },
     "metadata": {
      "needs_background": "light"
     },
     "output_type": "display_data"
    }
   ],
   "source": [
    "northeast_states.loc[:, ['total_fatal_injuries', 'survivable_injuries']].sum().plot(kind='bar', \n",
    "                            title= \"Northeast Region Totals - Deaths/Injuries\", rot=45);"
   ]
  },
  {
   "cell_type": "markdown",
   "metadata": {},
   "source": [
    "# TOP TEN MAKE STATS FOR THE NORTHEAST"
   ]
  },
  {
   "cell_type": "code",
   "execution_count": 359,
   "metadata": {},
   "outputs": [],
   "source": [
    "northeast_top_ten_list = list(northeast_states['make'].value_counts()[:10].index)"
   ]
  },
  {
   "cell_type": "code",
   "execution_count": 361,
   "metadata": {},
   "outputs": [
    {
     "data": {
      "text/plain": [
       "cessna       3318\n",
       "piper        2142\n",
       "beech         638\n",
       "boeing        245\n",
       "mooney        224\n",
       "bell          198\n",
       "schweizer     156\n",
       "robinson      134\n",
       "bellanca      125\n",
       "aeronca       124\n",
       "Name: make, dtype: int64"
      ]
     },
     "execution_count": 361,
     "metadata": {},
     "output_type": "execute_result"
    }
   ],
   "source": [
    "northeast_top_ten_df = northeast_states.loc[northeast_states['make'].isin(northeast_top_ten_list) == True]\n",
    "northeast_top_ten_df['make'].value_counts()"
   ]
  },
  {
   "cell_type": "code",
   "execution_count": 401,
   "metadata": {},
   "outputs": [
    {
     "data": {
      "image/png": "[encoded data removed]",
      "text/plain": [
       "<Figure size 432x288 with 1 Axes>"
      ]
     },
     "metadata": {
      "needs_background": "light"
     },
     "output_type": "display_data"
    }
   ],
   "source": [
    "(northeast_states['make'].value_counts(normalize=True)[:10] * 100).plot(kind='bar', \n",
    "                            title=\"Northeast Region Top Ten Aircraft in Reports\", \n",
    "                            ylabel= \"Percent of Reports\", rot=45);"
   ]
  },
  {
   "cell_type": "code",
   "execution_count": 404,
   "metadata": {},
   "outputs": [
    {
     "data": {
      "image/png": "[encoded data removed]",
      "text/plain": [
       "<Figure size 720x504 with 1 Axes>"
      ]
     },
     "metadata": {
      "needs_background": "light"
     },
     "output_type": "display_data"
    }
   ],
   "source": [
    "northeast_top_ten_df.groupby('make')[[\"total_fatal_injuries\", 'survivable_injuries']].sum().sort_values(by=\"total_fatal_injuries\", ascending=False).plot(\n",
    "    kind='bar', figsize=(10,7), title=\"Northeast Region Side-by-Side Deaths and Injuries\", \n",
    "    ylabel=\"Number of People\", xlabel= \"Top-Ten Makes in Reports\", rot=45);"
   ]
  },
  {
   "cell_type": "markdown",
   "metadata": {},
   "source": [
    "### SOUTHEAST STATES"
   ]
  },
  {
   "cell_type": "code",
   "execution_count": 191,
   "metadata": {},
   "outputs": [],
   "source": [
    "southeast_states = df.loc[(df['states_names'].isin(southeast)  == True) & (df[\"country\"] == 'united states')]"
   ]
  },
  {
   "cell_type": "code",
   "execution_count": 192,
   "metadata": {},
   "outputs": [
    {
     "data": {
      "text/plain": [
       "array(['VA', 'FL', 'AL', 'LA', 'AR', 'GA', 'NC', 'SC', 'MS', 'KY', 'TN'],\n",
       "      dtype=object)"
      ]
     },
     "execution_count": 192,
     "metadata": {},
     "output_type": "execute_result"
    }
   ],
   "source": [
    "southeast_states[\"states_names\"].unique()"
   ]
  },
  {
   "cell_type": "code",
   "execution_count": 193,
   "metadata": {},
   "outputs": [
    {
     "data": {
      "text/html": [
       "<div>\n",
       "<style scoped>\n",
       "    .dataframe tbody tr th:only-of-type {\n",
       "        vertical-align: middle;\n",
       "    }\n",
       "\n",
       "    .dataframe tbody tr th {\n",
       "        vertical-align: top;\n",
       "    }\n",
       "\n",
       "    .dataframe thead th {\n",
       "        text-align: right;\n",
       "    }\n",
       "</style>\n",
       "<table border=\"1\" class=\"dataframe\">\n",
       "  <thead>\n",
       "    <tr style=\"text-align: right;\">\n",
       "      <th></th>\n",
       "      <th>total_fatal_injuries</th>\n",
       "      <th>total_serious_injuries</th>\n",
       "      <th>total_minor_injuries</th>\n",
       "      <th>survivable_injuries</th>\n",
       "      <th>year_of_event</th>\n",
       "    </tr>\n",
       "  </thead>\n",
       "  <tbody>\n",
       "    <tr>\n",
       "      <th>count</th>\n",
       "      <td>18217.000000</td>\n",
       "      <td>18217.000000</td>\n",
       "      <td>18217.000000</td>\n",
       "      <td>18217.000000</td>\n",
       "      <td>18217.000000</td>\n",
       "    </tr>\n",
       "    <tr>\n",
       "      <th>mean</th>\n",
       "      <td>0.378932</td>\n",
       "      <td>0.224351</td>\n",
       "      <td>0.284679</td>\n",
       "      <td>0.509030</td>\n",
       "      <td>1998.740352</td>\n",
       "    </tr>\n",
       "    <tr>\n",
       "      <th>std</th>\n",
       "      <td>1.811179</td>\n",
       "      <td>0.728523</td>\n",
       "      <td>1.088065</td>\n",
       "      <td>1.478709</td>\n",
       "      <td>11.761047</td>\n",
       "    </tr>\n",
       "    <tr>\n",
       "      <th>min</th>\n",
       "      <td>0.000000</td>\n",
       "      <td>0.000000</td>\n",
       "      <td>0.000000</td>\n",
       "      <td>0.000000</td>\n",
       "      <td>1974.000000</td>\n",
       "    </tr>\n",
       "    <tr>\n",
       "      <th>25%</th>\n",
       "      <td>0.000000</td>\n",
       "      <td>0.000000</td>\n",
       "      <td>0.000000</td>\n",
       "      <td>0.000000</td>\n",
       "      <td>1988.000000</td>\n",
       "    </tr>\n",
       "    <tr>\n",
       "      <th>50%</th>\n",
       "      <td>0.000000</td>\n",
       "      <td>0.000000</td>\n",
       "      <td>0.000000</td>\n",
       "      <td>0.000000</td>\n",
       "      <td>1997.000000</td>\n",
       "    </tr>\n",
       "    <tr>\n",
       "      <th>75%</th>\n",
       "      <td>0.000000</td>\n",
       "      <td>0.000000</td>\n",
       "      <td>0.000000</td>\n",
       "      <td>1.000000</td>\n",
       "      <td>2008.000000</td>\n",
       "    </tr>\n",
       "    <tr>\n",
       "      <th>max</th>\n",
       "      <td>153.000000</td>\n",
       "      <td>45.000000</td>\n",
       "      <td>65.000000</td>\n",
       "      <td>110.000000</td>\n",
       "      <td>2022.000000</td>\n",
       "    </tr>\n",
       "  </tbody>\n",
       "</table>\n",
       "</div>"
      ],
      "text/plain": [
       "       total_fatal_injuries  total_serious_injuries  total_minor_injuries  \\\n",
       "count          18217.000000            18217.000000          18217.000000   \n",
       "mean               0.378932                0.224351              0.284679   \n",
       "std                1.811179                0.728523              1.088065   \n",
       "min                0.000000                0.000000              0.000000   \n",
       "25%                0.000000                0.000000              0.000000   \n",
       "50%                0.000000                0.000000              0.000000   \n",
       "75%                0.000000                0.000000              0.000000   \n",
       "max              153.000000               45.000000             65.000000   \n",
       "\n",
       "       survivable_injuries  year_of_event  \n",
       "count         18217.000000   18217.000000  \n",
       "mean              0.509030    1998.740352  \n",
       "std               1.478709      11.761047  \n",
       "min               0.000000    1974.000000  \n",
       "25%               0.000000    1988.000000  \n",
       "50%               0.000000    1997.000000  \n",
       "75%               1.000000    2008.000000  \n",
       "max             110.000000    2022.000000  "
      ]
     },
     "execution_count": 193,
     "metadata": {},
     "output_type": "execute_result"
    }
   ],
   "source": [
    "southeast_states.describe()"
   ]
  },
  {
   "cell_type": "code",
   "execution_count": 226,
   "metadata": {},
   "outputs": [],
   "source": [
    "s_plot = southeast_states.loc[:, ['total_fatal_injuries', 'survivable_injuries']].sum()"
   ]
  },
  {
   "cell_type": "code",
   "execution_count": 298,
   "metadata": {},
   "outputs": [
    {
     "data": {
      "text/plain": [
       "VMC        2726\n",
       "IMC         818\n",
       "Unknown      63\n",
       "Name: weather_condition, dtype: int64"
      ]
     },
     "execution_count": 298,
     "metadata": {},
     "output_type": "execute_result"
    }
   ],
   "source": [
    "southeast_states.loc[southeast_states['total_fatal_injuries'] >= 1]['weather_condition'].value_counts()"
   ]
  },
  {
   "cell_type": "code",
   "execution_count": 300,
   "metadata": {},
   "outputs": [
    {
     "data": {
      "text/plain": [
       "VMC        3.332518\n",
       "IMC        1.000000\n",
       "Unknown    0.077017\n",
       "Name: weather_condition, dtype: float64"
      ]
     },
     "execution_count": 300,
     "metadata": {},
     "output_type": "execute_result"
    }
   ],
   "source": [
    "se_weather_ratio = southeast_states.loc[southeast_states['total_fatal_injuries'] >= 1]['weather_condition'].value_counts()/818\n",
    "se_weather_ratio"
   ]
  },
  {
   "cell_type": "code",
   "execution_count": 406,
   "metadata": {},
   "outputs": [
    {
     "data": {
      "image/png": "[encoded data removed]",
      "text/plain": [
       "<Figure size 432x288 with 1 Axes>"
      ]
     },
     "metadata": {
      "needs_background": "light"
     },
     "output_type": "display_data"
    }
   ],
   "source": [
    "southeast_states.loc[southeast_states['total_fatal_injuries'] >= 1]['weather_condition'].value_counts().plot(kind='bar', \n",
    "            title=\"Southeast Region Weather Conditions for Reports With Fatalities\", ylabel=\"Number of People\", rot=45);"
   ]
  },
  {
   "cell_type": "code",
   "execution_count": 408,
   "metadata": {},
   "outputs": [
    {
     "data": {
      "image/png": "[encoded data removed]",
      "text/plain": [
       "<Figure size 432x288 with 1 Axes>"
      ]
     },
     "metadata": {
      "needs_background": "light"
     },
     "output_type": "display_data"
    }
   ],
   "source": [
    "southeast_states.loc[:, ['total_fatal_injuries', 'survivable_injuries']].sum().plot(kind='bar', \n",
    "                    title= \"Southeast Region Totals - Deaths/Injuries\", rot=45);"
   ]
  },
  {
   "cell_type": "markdown",
   "metadata": {},
   "source": [
    "# TOP TEN MAKE STATS FOR SOUTHEAST REGION"
   ]
  },
  {
   "cell_type": "code",
   "execution_count": 366,
   "metadata": {},
   "outputs": [],
   "source": [
    "southeast_top_ten_list = list(southeast_states['make'].value_counts()[:10].index)"
   ]
  },
  {
   "cell_type": "code",
   "execution_count": 367,
   "metadata": {},
   "outputs": [
    {
     "data": {
      "text/plain": [
       "cessna         5396\n",
       "piper          3056\n",
       "beech          1318\n",
       "bell            536\n",
       "grumman         448\n",
       "boeing          336\n",
       "mooney          323\n",
       "air tractor     264\n",
       "hughes          196\n",
       "bellanca        187\n",
       "Name: make, dtype: int64"
      ]
     },
     "execution_count": 367,
     "metadata": {},
     "output_type": "execute_result"
    }
   ],
   "source": [
    "southeast_top_ten_df = southeast_states.loc[southeast_states['make'].isin(southeast_top_ten_list) == True]\n",
    "southeast_top_ten_df['make'].value_counts()"
   ]
  },
  {
   "cell_type": "code",
   "execution_count": 410,
   "metadata": {},
   "outputs": [
    {
     "data": {
      "image/png": "[encoded data removed]",
      "text/plain": [
       "<Figure size 576x432 with 1 Axes>"
      ]
     },
     "metadata": {
      "needs_background": "light"
     },
     "output_type": "display_data"
    }
   ],
   "source": [
    "(southeast_states['make'].value_counts(normalize=True)[:10] * 100).plot(kind='bar', \n",
    "                            title=\"Southeast Region Top Ten Aircraft in Reports\", \n",
    "                            ylabel= \"Percent of Reports\", rot=45, figsize=(8,6));"
   ]
  },
  {
   "cell_type": "code",
   "execution_count": 412,
   "metadata": {},
   "outputs": [
    {
     "data": {
      "image/png": "[encoded data removed]",
      "text/plain": [
       "<Figure size 720x504 with 1 Axes>"
      ]
     },
     "metadata": {
      "needs_background": "light"
     },
     "output_type": "display_data"
    }
   ],
   "source": [
    "southeast_top_ten_df.groupby('make')[[\"total_fatal_injuries\", 'survivable_injuries']].sum().sort_values(by=\"total_fatal_injuries\", ascending=False).plot(\n",
    "    kind='bar', figsize=(10,7), title=\"Southeast Region Side-by-Side Deaths and Injuries\", \n",
    "    ylabel=\"Number of People\", xlabel= \"Top-Ten Makes in Reports\", rot=45);"
   ]
  },
  {
   "cell_type": "markdown",
   "metadata": {},
   "source": [
    "### WEST STATES"
   ]
  },
  {
   "cell_type": "code",
   "execution_count": 413,
   "metadata": {},
   "outputs": [
    {
     "data": {
      "text/html": [
       "<div>\n",
       "<style scoped>\n",
       "    .dataframe tbody tr th:only-of-type {\n",
       "        vertical-align: middle;\n",
       "    }\n",
       "\n",
       "    .dataframe tbody tr th {\n",
       "        vertical-align: top;\n",
       "    }\n",
       "\n",
       "    .dataframe thead th {\n",
       "        text-align: right;\n",
       "    }\n",
       "</style>\n",
       "<table border=\"1\" class=\"dataframe\">\n",
       "  <thead>\n",
       "    <tr style=\"text-align: right;\">\n",
       "      <th></th>\n",
       "      <th>event_id</th>\n",
       "      <th>investigation_type</th>\n",
       "      <th>accident_number</th>\n",
       "      <th>event_date</th>\n",
       "      <th>location</th>\n",
       "      <th>country</th>\n",
       "      <th>airport_code</th>\n",
       "      <th>airport_name</th>\n",
       "      <th>injury_severity</th>\n",
       "      <th>aircraft_damage</th>\n",
       "      <th>aircraft_category</th>\n",
       "      <th>make</th>\n",
       "      <th>model</th>\n",
       "      <th>amateur_built</th>\n",
       "      <th>number_of_engines</th>\n",
       "      <th>engine_type</th>\n",
       "      <th>purpose_of_flight</th>\n",
       "      <th>air_carrier</th>\n",
       "      <th>total_fatal_injuries</th>\n",
       "      <th>total_serious_injuries</th>\n",
       "      <th>total_minor_injuries</th>\n",
       "      <th>total_uninjured</th>\n",
       "      <th>weather_condition</th>\n",
       "      <th>broad_phase_of_flight</th>\n",
       "      <th>report_status</th>\n",
       "      <th>survivable_injuries</th>\n",
       "      <th>year_of_event</th>\n",
       "      <th>states_names</th>\n",
       "    </tr>\n",
       "  </thead>\n",
       "  <tbody>\n",
       "    <tr>\n",
       "      <th>0</th>\n",
       "      <td>20001218X45444</td>\n",
       "      <td>Accident</td>\n",
       "      <td>SEA87LA080</td>\n",
       "      <td>1948-10-24</td>\n",
       "      <td>MOOSE CREEK, ID</td>\n",
       "      <td>united states</td>\n",
       "      <td>Unknown</td>\n",
       "      <td>Unknown</td>\n",
       "      <td>Fatal(2)</td>\n",
       "      <td>Destroyed</td>\n",
       "      <td>Unknown</td>\n",
       "      <td>stinson</td>\n",
       "      <td>108-3</td>\n",
       "      <td>No</td>\n",
       "      <td>1.0</td>\n",
       "      <td>Reciprocating</td>\n",
       "      <td>Personal</td>\n",
       "      <td>Unknown</td>\n",
       "      <td>2.0</td>\n",
       "      <td>0.0</td>\n",
       "      <td>0.0</td>\n",
       "      <td>0.0</td>\n",
       "      <td>Unknown</td>\n",
       "      <td>Cruise</td>\n",
       "      <td>Probable Cause</td>\n",
       "      <td>0.0</td>\n",
       "      <td>1948</td>\n",
       "      <td>ID</td>\n",
       "    </tr>\n",
       "    <tr>\n",
       "      <th>1</th>\n",
       "      <td>20001218X45447</td>\n",
       "      <td>Accident</td>\n",
       "      <td>LAX94LA336</td>\n",
       "      <td>1962-07-19</td>\n",
       "      <td>BRIDGEPORT, CA</td>\n",
       "      <td>united states</td>\n",
       "      <td>Unknown</td>\n",
       "      <td>Unknown</td>\n",
       "      <td>Fatal(4)</td>\n",
       "      <td>Destroyed</td>\n",
       "      <td>Unknown</td>\n",
       "      <td>piper</td>\n",
       "      <td>PA24-180</td>\n",
       "      <td>No</td>\n",
       "      <td>1.0</td>\n",
       "      <td>Reciprocating</td>\n",
       "      <td>Personal</td>\n",
       "      <td>Unknown</td>\n",
       "      <td>4.0</td>\n",
       "      <td>0.0</td>\n",
       "      <td>0.0</td>\n",
       "      <td>0.0</td>\n",
       "      <td>Unknown</td>\n",
       "      <td>Unknown</td>\n",
       "      <td>Probable Cause</td>\n",
       "      <td>0.0</td>\n",
       "      <td>1962</td>\n",
       "      <td>CA</td>\n",
       "    </tr>\n",
       "  </tbody>\n",
       "</table>\n",
       "</div>"
      ],
      "text/plain": [
       "         event_id investigation_type accident_number  event_date  \\\n",
       "0  20001218X45444           Accident      SEA87LA080  1948-10-24   \n",
       "1  20001218X45447           Accident      LAX94LA336  1962-07-19   \n",
       "\n",
       "          location        country airport_code airport_name injury_severity  \\\n",
       "0  MOOSE CREEK, ID  united states      Unknown      Unknown        Fatal(2)   \n",
       "1   BRIDGEPORT, CA  united states      Unknown      Unknown        Fatal(4)   \n",
       "\n",
       "  aircraft_damage aircraft_category     make     model amateur_built  \\\n",
       "0       Destroyed           Unknown  stinson     108-3            No   \n",
       "1       Destroyed           Unknown    piper  PA24-180            No   \n",
       "\n",
       "  number_of_engines    engine_type purpose_of_flight air_carrier  \\\n",
       "0               1.0  Reciprocating          Personal     Unknown   \n",
       "1               1.0  Reciprocating          Personal     Unknown   \n",
       "\n",
       "   total_fatal_injuries  total_serious_injuries  total_minor_injuries  \\\n",
       "0                   2.0                     0.0                   0.0   \n",
       "1                   4.0                     0.0                   0.0   \n",
       "\n",
       "  total_uninjured weather_condition broad_phase_of_flight   report_status  \\\n",
       "0             0.0           Unknown                Cruise  Probable Cause   \n",
       "1             0.0           Unknown               Unknown  Probable Cause   \n",
       "\n",
       "   survivable_injuries  year_of_event states_names  \n",
       "0                  0.0           1948           ID  \n",
       "1                  0.0           1962           CA  "
      ]
     },
     "execution_count": 413,
     "metadata": {},
     "output_type": "execute_result"
    }
   ],
   "source": [
    "west_states.head(2)"
   ]
  },
  {
   "cell_type": "code",
   "execution_count": 414,
   "metadata": {},
   "outputs": [],
   "source": [
    "west_states = df.loc[(df['states_names'].isin(west)  == True) & (df[\"country\"] == 'united states')]"
   ]
  },
  {
   "cell_type": "code",
   "execution_count": 415,
   "metadata": {},
   "outputs": [
    {
     "data": {
      "text/plain": [
       "array(['ID', 'CA', 'WA', 'NM', 'UT', 'AK', 'MT', 'OR', 'NV', 'AZ', 'WY',\n",
       "       'HI', 'CO'], dtype=object)"
      ]
     },
     "execution_count": 415,
     "metadata": {},
     "output_type": "execute_result"
    }
   ],
   "source": [
    "west_states[\"states_names\"].unique()"
   ]
  },
  {
   "cell_type": "code",
   "execution_count": 416,
   "metadata": {},
   "outputs": [
    {
     "data": {
      "text/html": [
       "<div>\n",
       "<style scoped>\n",
       "    .dataframe tbody tr th:only-of-type {\n",
       "        vertical-align: middle;\n",
       "    }\n",
       "\n",
       "    .dataframe tbody tr th {\n",
       "        vertical-align: top;\n",
       "    }\n",
       "\n",
       "    .dataframe thead th {\n",
       "        text-align: right;\n",
       "    }\n",
       "</style>\n",
       "<table border=\"1\" class=\"dataframe\">\n",
       "  <thead>\n",
       "    <tr style=\"text-align: right;\">\n",
       "      <th></th>\n",
       "      <th>total_fatal_injuries</th>\n",
       "      <th>total_serious_injuries</th>\n",
       "      <th>total_minor_injuries</th>\n",
       "      <th>survivable_injuries</th>\n",
       "      <th>year_of_event</th>\n",
       "    </tr>\n",
       "  </thead>\n",
       "  <tbody>\n",
       "    <tr>\n",
       "      <th>count</th>\n",
       "      <td>32128.000000</td>\n",
       "      <td>32128.000000</td>\n",
       "      <td>32128.000000</td>\n",
       "      <td>32128.000000</td>\n",
       "      <td>32128.000000</td>\n",
       "    </tr>\n",
       "    <tr>\n",
       "      <th>mean</th>\n",
       "      <td>0.360091</td>\n",
       "      <td>0.218034</td>\n",
       "      <td>0.277764</td>\n",
       "      <td>0.495798</td>\n",
       "      <td>1998.583479</td>\n",
       "    </tr>\n",
       "    <tr>\n",
       "      <th>std</th>\n",
       "      <td>1.376663</td>\n",
       "      <td>1.193847</td>\n",
       "      <td>1.211826</td>\n",
       "      <td>1.989228</td>\n",
       "      <td>11.525979</td>\n",
       "    </tr>\n",
       "    <tr>\n",
       "      <th>min</th>\n",
       "      <td>0.000000</td>\n",
       "      <td>0.000000</td>\n",
       "      <td>0.000000</td>\n",
       "      <td>0.000000</td>\n",
       "      <td>1948.000000</td>\n",
       "    </tr>\n",
       "    <tr>\n",
       "      <th>25%</th>\n",
       "      <td>0.000000</td>\n",
       "      <td>0.000000</td>\n",
       "      <td>0.000000</td>\n",
       "      <td>0.000000</td>\n",
       "      <td>1988.000000</td>\n",
       "    </tr>\n",
       "    <tr>\n",
       "      <th>50%</th>\n",
       "      <td>0.000000</td>\n",
       "      <td>0.000000</td>\n",
       "      <td>0.000000</td>\n",
       "      <td>0.000000</td>\n",
       "      <td>1997.000000</td>\n",
       "    </tr>\n",
       "    <tr>\n",
       "      <th>75%</th>\n",
       "      <td>0.000000</td>\n",
       "      <td>0.000000</td>\n",
       "      <td>0.000000</td>\n",
       "      <td>1.000000</td>\n",
       "      <td>2008.000000</td>\n",
       "    </tr>\n",
       "    <tr>\n",
       "      <th>max</th>\n",
       "      <td>88.000000</td>\n",
       "      <td>137.000000</td>\n",
       "      <td>96.000000</td>\n",
       "      <td>187.000000</td>\n",
       "      <td>2022.000000</td>\n",
       "    </tr>\n",
       "  </tbody>\n",
       "</table>\n",
       "</div>"
      ],
      "text/plain": [
       "       total_fatal_injuries  total_serious_injuries  total_minor_injuries  \\\n",
       "count          32128.000000            32128.000000          32128.000000   \n",
       "mean               0.360091                0.218034              0.277764   \n",
       "std                1.376663                1.193847              1.211826   \n",
       "min                0.000000                0.000000              0.000000   \n",
       "25%                0.000000                0.000000              0.000000   \n",
       "50%                0.000000                0.000000              0.000000   \n",
       "75%                0.000000                0.000000              0.000000   \n",
       "max               88.000000              137.000000             96.000000   \n",
       "\n",
       "       survivable_injuries  year_of_event  \n",
       "count         32128.000000   32128.000000  \n",
       "mean              0.495798    1998.583479  \n",
       "std               1.989228      11.525979  \n",
       "min               0.000000    1948.000000  \n",
       "25%               0.000000    1988.000000  \n",
       "50%               0.000000    1997.000000  \n",
       "75%               1.000000    2008.000000  \n",
       "max             187.000000    2022.000000  "
      ]
     },
     "execution_count": 416,
     "metadata": {},
     "output_type": "execute_result"
    }
   ],
   "source": [
    "west_states.describe()"
   ]
  },
  {
   "cell_type": "code",
   "execution_count": 417,
   "metadata": {},
   "outputs": [],
   "source": [
    "w_plot = west_states.loc[:, ['total_fatal_injuries', 'survivable_injuries']].sum()"
   ]
  },
  {
   "cell_type": "code",
   "execution_count": 301,
   "metadata": {},
   "outputs": [
    {
     "data": {
      "text/plain": [
       "VMC        4392\n",
       "IMC        1109\n",
       "Unknown     279\n",
       "Name: weather_condition, dtype: int64"
      ]
     },
     "execution_count": 301,
     "metadata": {},
     "output_type": "execute_result"
    }
   ],
   "source": [
    "west_states.loc[west_states['total_fatal_injuries'] >= 1]['weather_condition'].value_counts()"
   ]
  },
  {
   "cell_type": "code",
   "execution_count": 303,
   "metadata": {},
   "outputs": [
    {
     "data": {
      "text/plain": [
       "VMC        3.960325\n",
       "IMC        1.000000\n",
       "Unknown    0.251578\n",
       "Name: weather_condition, dtype: float64"
      ]
     },
     "execution_count": 303,
     "metadata": {},
     "output_type": "execute_result"
    }
   ],
   "source": [
    "w_weather_ratio = west_states.loc[west_states['total_fatal_injuries'] >= 1]['weather_condition'].value_counts()/1109\n",
    "w_weather_ratio"
   ]
  },
  {
   "cell_type": "code",
   "execution_count": 419,
   "metadata": {},
   "outputs": [
    {
     "data": {
      "image/png": "[encoded data removed]",
      "text/plain": [
       "<Figure size 432x288 with 1 Axes>"
      ]
     },
     "metadata": {
      "needs_background": "light"
     },
     "output_type": "display_data"
    }
   ],
   "source": [
    "west_states.loc[west_states['total_fatal_injuries'] >= 1]['weather_condition'].value_counts().plot(kind='bar', \n",
    "         title=\"West Region Weather Conditions for Reports With Fatalities\", \n",
    "         ylabel=\"Number of People\", color='orange', rot=45);"
   ]
  },
  {
   "cell_type": "code",
   "execution_count": 421,
   "metadata": {},
   "outputs": [
    {
     "data": {
      "image/png": "[encoded data removed]",
      "text/plain": [
       "<Figure size 432x288 with 1 Axes>"
      ]
     },
     "metadata": {
      "needs_background": "light"
     },
     "output_type": "display_data"
    }
   ],
   "source": [
    "west_states.loc[:, ['total_fatal_injuries', 'survivable_injuries']].sum().plot(kind='bar', \n",
    "                    title= \"West Region Totals - Deaths/Injuries\", rot=45);"
   ]
  },
  {
   "cell_type": "markdown",
   "metadata": {},
   "source": [
    "# TOP TEN MAKE STATS FOR WEST REGION"
   ]
  },
  {
   "cell_type": "code",
   "execution_count": 373,
   "metadata": {},
   "outputs": [],
   "source": [
    "west_top_ten_list = list(west_states['make'].value_counts()[:10].index)"
   ]
  },
  {
   "cell_type": "code",
   "execution_count": 374,
   "metadata": {},
   "outputs": [
    {
     "data": {
      "text/plain": [
       "cessna      10564\n",
       "piper        5421\n",
       "beech        1678\n",
       "bell          994\n",
       "boeing        491\n",
       "bellanca      466\n",
       "mooney        441\n",
       "robinson      409\n",
       "hughes        386\n",
       "maule         337\n",
       "Name: make, dtype: int64"
      ]
     },
     "execution_count": 374,
     "metadata": {},
     "output_type": "execute_result"
    }
   ],
   "source": [
    "west_top_ten_df = west_states.loc[west_states['make'].isin(west_top_ten_list) == True]\n",
    "west_top_ten_df['make'].value_counts()"
   ]
  },
  {
   "cell_type": "code",
   "execution_count": 423,
   "metadata": {},
   "outputs": [
    {
     "data": {
      "image/png": "[encoded data removed]",
      "text/plain": [
       "<Figure size 576x432 with 1 Axes>"
      ]
     },
     "metadata": {
      "needs_background": "light"
     },
     "output_type": "display_data"
    }
   ],
   "source": [
    "(west_states['make'].value_counts(normalize=True)[:10] * 100).plot(kind='bar', figsize=(8,6),\n",
    "                            title=\"West Region Top Ten Aircraft in Reports\", ylabel= \"Percent of Reports\", rot=45);"
   ]
  },
  {
   "cell_type": "code",
   "execution_count": 425,
   "metadata": {},
   "outputs": [
    {
     "data": {
      "image/png": "[encoded data removed]",
      "text/plain": [
       "<Figure size 720x504 with 1 Axes>"
      ]
     },
     "metadata": {
      "needs_background": "light"
     },
     "output_type": "display_data"
    }
   ],
   "source": [
    "west_top_ten_df.groupby('make')[[\"total_fatal_injuries\", 'survivable_injuries']].sum().sort_values(by=\"total_fatal_injuries\", ascending=False).plot(\n",
    "    kind='bar', figsize=(10,7), title=\"West Region Side-by-Side Deaths and Injuries\", \n",
    "    ylabel=\"Number of People\", xlabel= \"Top-Ten Makes in Reports\", rot=45);"
   ]
  },
  {
   "cell_type": "code",
   "execution_count": null,
   "metadata": {},
   "outputs": [],
   "source": []
  },
  {
   "cell_type": "markdown",
   "metadata": {},
   "source": [
    "# COMPARISON CHARTS"
   ]
  },
  {
   "cell_type": "code",
   "execution_count": 258,
   "metadata": {},
   "outputs": [
    {
     "data": {
      "image/png": "[encoded data removed]",
      "text/plain": [
       "<Figure size 720x720 with 4 Axes>"
      ]
     },
     "metadata": {
      "needs_background": "light"
     },
     "output_type": "display_data"
    }
   ],
   "source": [
    "fig, ax = plt.subplots(ncols=2, nrows=2, figsize=(10,10))\n",
    "fig.suptitle(\"Deaths and Injuries by US Region\", fontsize=40)\n",
    "n_plot.plot(kind='bar', title='Northeast', ax=ax[0][0], ylabel=\"Number of People\", rot=0, color='green')\n",
    "s_plot.plot(kind='bar', title='Southeast', ax=ax[0][1], rot=0)\n",
    "c_plot.plot(kind='bar', title='Central', ax=ax[1][0], ylabel=\"Number of People\", rot=0, color='red')\n",
    "w_plot.plot(kind='bar', title='West', ax= ax[1][1], rot=0, color='orange')\n",
    "ax[0][0].set_xticklabels([\"Deaths\", \"Injuries\"])\n",
    "ax[0][1].set_xticklabels([\"Deaths\", \"Injuries\"])\n",
    "ax[1][1].set_xticklabels([\"Deaths\", \"Injuries\"])\n",
    "ax[1][0].set_xticklabels([\"Deaths\", \"Injuries\"]);"
   ]
  },
  {
   "cell_type": "code",
   "execution_count": 429,
   "metadata": {},
   "outputs": [
    {
     "data": {
      "image/png": "[encoded data removed]",
      "text/plain": [
       "<Figure size 720x720 with 4 Axes>"
      ]
     },
     "metadata": {
      "needs_background": "light"
     },
     "output_type": "display_data"
    }
   ],
   "source": [
    "fig, ax = plt.subplots(ncols=2, nrows=2, figsize=(10,10), sharey=True)\n",
    "fig.suptitle(\"Fatal Accident Weather Ratios (VMC/IMC)\", fontsize=40)\n",
    "ne_weather_ratio.plot(kind='bar', title='Northeast', ax=ax[0][0], ylabel=\"Ratio of VMC/IMC\", rot=0, color='green')\n",
    "se_weather_ratio.plot(kind='bar', title='Southeast', ax=ax[0][1], rot=0)\n",
    "c_weather_ratio.plot(kind='bar', title='Central', ax=ax[1][0], ylabel=\"Ratio of VMC/IMC\", rot=0, color='red')\n",
    "w_weather_ratio.plot(kind='bar', title='West', ax= ax[1][1], rot=0, color='orange')\n",
    "ax[0][0].set_xticklabels([\"VMC\", 'IMC', 'Unknown'])\n",
    "ax[0][1].set_xticklabels([\"VMC\", 'IMC', 'Unknown'])\n",
    "# ax[0][1].set_xticks([0, .5, 1, 1.5, 2, 2.5, 3, 3.5, 4])\n",
    "ax[1][1].set_xticklabels([\"VMC\", 'IMC', 'Unknown'])\n",
    "ax[1][0].set_xticklabels([\"VMC\", 'IMC', 'Unknown']);"
   ]
  },
  {
   "cell_type": "markdown",
   "metadata": {},
   "source": [
    "# Adjusting the above values on a per-flight basis"
   ]
  },
  {
   "cell_type": "code",
   "execution_count": 261,
   "metadata": {},
   "outputs": [
    {
     "data": {
      "text/plain": [
       "(10806, 28)"
      ]
     },
     "execution_count": 261,
     "metadata": {},
     "output_type": "execute_result"
    }
   ],
   "source": [
    "northeast_states.shape"
   ]
  },
  {
   "cell_type": "code",
   "execution_count": 260,
   "metadata": {
    "scrolled": true
   },
   "outputs": [
    {
     "data": {
      "text/plain": [
       "10806"
      ]
     },
     "execution_count": 260,
     "metadata": {},
     "output_type": "execute_result"
    }
   ],
   "source": [
    "len(northeast_states)"
   ]
  },
  {
   "cell_type": "code",
   "execution_count": 259,
   "metadata": {},
   "outputs": [
    {
     "data": {
      "text/plain": [
       "total_fatal_injuries    0.424209\n",
       "survivable_injuries     0.585601\n",
       "dtype: float64"
      ]
     },
     "execution_count": 259,
     "metadata": {},
     "output_type": "execute_result"
    }
   ],
   "source": [
    "n_plot / len(northeast_states)"
   ]
  },
  {
   "cell_type": "code",
   "execution_count": 262,
   "metadata": {},
   "outputs": [],
   "source": [
    "np2 = n_plot / len(northeast_states)\n",
    "sp2 = s_plot / len(southeast_states)\n",
    "cp2 = c_plot / len(central_states)\n",
    "wp2 = w_plot / len(west_states)"
   ]
  },
  {
   "cell_type": "code",
   "execution_count": 264,
   "metadata": {},
   "outputs": [
    {
     "data": {
      "image/png": "[encoded data removed]",
      "text/plain": [
       "<Figure size 720x720 with 4 Axes>"
      ]
     },
     "metadata": {
      "needs_background": "light"
     },
     "output_type": "display_data"
    }
   ],
   "source": [
    "fig, ax = plt.subplots(ncols=2, nrows=2, figsize=(10,10))\n",
    "fig.suptitle(\"Deaths/Injuries Per Flight by US Region\", fontsize=40)\n",
    "np2.plot(kind='bar', title='Northeast', ax=ax[0][0], ylabel=\"Number of People\", rot=0, color='green')\n",
    "sp2.plot(kind='bar', title='Southeast', ax=ax[0][1], rot=0)\n",
    "cp2.plot(kind='bar', title='Central', ax=ax[1][0], ylabel=\"Number of People\", rot=0, color='red')\n",
    "wp2.plot(kind='bar', title='West', ax= ax[1][1], rot=0, color='orange')\n",
    "ax[0][0].set_xticklabels([\"Deaths\", \"Injuries\"])\n",
    "ax[0][1].set_xticklabels([\"Deaths\", \"Injuries\"])\n",
    "ax[1][1].set_xticklabels([\"Deaths\", \"Injuries\"])\n",
    "ax[1][0].set_xticklabels([\"Deaths\", \"Injuries\"]);"
   ]
  },
  {
   "cell_type": "code",
   "execution_count": null,
   "metadata": {},
   "outputs": [],
   "source": [
    "southeast_states.loc[southeast_states['total_fatal_injuries'] >= 1]['weather_condition'].value_counts().plot(kind='bar', \n",
    "                            title=\"Weather Conditions for Reports With Fatalities\", ylabel=\"Number of People\");"
   ]
  },
  {
   "cell_type": "markdown",
   "metadata": {},
   "source": [
    "# GENERAL EXPLORATION"
   ]
  },
  {
   "cell_type": "code",
   "execution_count": 17,
   "metadata": {},
   "outputs": [
    {
     "data": {
      "text/plain": [
       "Cessna                    21973\n",
       "Piper                     11885\n",
       "CESSNA                     4820\n",
       "Beech                      4170\n",
       "PIPER                      2799\n",
       "                          ...  \n",
       "HEBERLEIN RONALD              1\n",
       "Larsen Charles Bennett        1\n",
       "BROWN NARCISSE A              1\n",
       "Sayer, Trevor A.              1\n",
       "MICHAEL W MORGAN              1\n",
       "Name: make, Length: 8170, dtype: int64"
      ]
     },
     "execution_count": 17,
     "metadata": {},
     "output_type": "execute_result"
    }
   ],
   "source": [
    "df[df[\"investigation_type\"] == \"Accident\"]['make'].value_counts()"
   ]
  },
  {
   "cell_type": "markdown",
   "metadata": {},
   "source": [
    "      "
   ]
  },
  {
   "cell_type": "markdown",
   "metadata": {},
   "source": [
    "# Need to standardize the case of letters in this column"
   ]
  },
  {
   "cell_type": "markdown",
   "metadata": {},
   "source": [
    "       "
   ]
  },
  {
   "cell_type": "markdown",
   "metadata": {},
   "source": [
    "#### Adjusting the Manufacturer name of the aircraft to lower case"
   ]
  },
  {
   "cell_type": "code",
   "execution_count": 18,
   "metadata": {},
   "outputs": [],
   "source": [
    "df['make'] = df['make'].str.lower()"
   ]
  },
  {
   "cell_type": "markdown",
   "metadata": {},
   "source": [
    "### LOWERCASE Country Column"
   ]
  },
  {
   "cell_type": "code",
   "execution_count": 89,
   "metadata": {},
   "outputs": [],
   "source": [
    "df['country'] = df['country'].str.lower()"
   ]
  },
  {
   "cell_type": "markdown",
   "metadata": {},
   "source": [
    "### 1948 - 2022, median is from 1998 - overall span of 74 years"
   ]
  },
  {
   "cell_type": "code",
   "execution_count": 21,
   "metadata": {},
   "outputs": [
    {
     "data": {
      "text/plain": [
       "count    88889.000000\n",
       "mean      1999.206662\n",
       "std         11.888226\n",
       "min       1948.000000\n",
       "25%       1989.000000\n",
       "50%       1998.000000\n",
       "75%       2009.000000\n",
       "max       2022.000000\n",
       "Name: year_of_event, dtype: float64"
      ]
     },
     "execution_count": 21,
     "metadata": {},
     "output_type": "execute_result"
    }
   ],
   "source": [
    "df['year_of_event'].describe()"
   ]
  },
  {
   "cell_type": "code",
   "execution_count": 22,
   "metadata": {},
   "outputs": [
    {
     "data": {
      "text/plain": [
       "cessna      26793\n",
       "piper       14684\n",
       "beech        5177\n",
       "bell         2662\n",
       "boeing       1362\n",
       "mooney       1311\n",
       "robinson     1219\n",
       "grumman      1158\n",
       "bellanca     1040\n",
       "hughes        925\n",
       "Name: make, dtype: int64"
      ]
     },
     "execution_count": 22,
     "metadata": {},
     "output_type": "execute_result"
    }
   ],
   "source": [
    "top_ten_accident_craft = df[df[\"investigation_type\"] == \"Accident\"]['make'].value_counts(normalize=False)[:10]\n",
    "top_ten_accident_craft"
   ]
  },
  {
   "cell_type": "code",
   "execution_count": 23,
   "metadata": {},
   "outputs": [
    {
     "data": {
      "text/plain": [
       "['cessna',\n",
       " 'piper',\n",
       " 'beech',\n",
       " 'bell',\n",
       " 'boeing',\n",
       " 'mooney',\n",
       " 'robinson',\n",
       " 'grumman',\n",
       " 'bellanca',\n",
       " 'hughes']"
      ]
     },
     "execution_count": 23,
     "metadata": {},
     "output_type": "execute_result"
    }
   ],
   "source": [
    "list(top_ten_accident_craft.index)"
   ]
  },
  {
   "cell_type": "code",
   "execution_count": 24,
   "metadata": {},
   "outputs": [],
   "source": [
    "top_ten_incident_craft = df[df[\"investigation_type\"] == \"Incident\"]['make'].value_counts(normalize=False)[:10]"
   ]
  },
  {
   "cell_type": "code",
   "execution_count": 25,
   "metadata": {
    "scrolled": false
   },
   "outputs": [
    {
     "data": {
      "image/png": "[encoded data removed]",
      "text/plain": [
       "<Figure size 1152x576 with 2 Axes>"
      ]
     },
     "metadata": {
      "needs_background": "light"
     },
     "output_type": "display_data"
    }
   ],
   "source": [
    "fig, (ax1, ax2) = plt.subplots(ncols=2, figsize=(16, 8))\n",
    "ax1.set_title(\"Top 10 Number of Reports/Make of Aircraft: ACCIDENTS\")\n",
    "ax2.set_title(\"Top 10 Number of Reports/Make of Aircraft: INCIDENTS\")\n",
    "ax1.annotate(xy=(1, 25000), text=\"Cessna is 31.5% of overall reports\")\n",
    "ax1.annotate(\"Piper is 17% of overall reports\", xy=(2, 18000))\n",
    "ax2.annotate(\"Boeing is 35.6% of overall reports\", xy=(2, 1200))\n",
    "top_ten_accident_craft.plot(kind='bar', ax=ax1)\n",
    "top_ten_incident_craft.plot(kind='bar', ax=ax2);"
   ]
  },
  {
   "cell_type": "code",
   "execution_count": 26,
   "metadata": {},
   "outputs": [],
   "source": [
    "top_ten_accident_craft_normalized = df[df[\"investigation_type\"] == \"Accident\"]['make'].value_counts(normalize=True)[:10]"
   ]
  },
  {
   "cell_type": "code",
   "execution_count": 27,
   "metadata": {},
   "outputs": [],
   "source": [
    "top_ten_incident_craft_normalized = df[df[\"investigation_type\"] == \"Incident\"]['make'].value_counts(normalize=True)[:10]"
   ]
  },
  {
   "cell_type": "code",
   "execution_count": 28,
   "metadata": {},
   "outputs": [
    {
     "data": {
      "image/png": "[encoded data removed]",
      "text/plain": [
       "<Figure size 1152x576 with 2 Axes>"
      ]
     },
     "metadata": {
      "needs_background": "light"
     },
     "output_type": "display_data"
    }
   ],
   "source": [
    "fig, (ax1, ax2) = plt.subplots(ncols=2, figsize=(16, 8))\n",
    "ax1.set_title(\"Top 10 Number of Reports/Make of Aircraft: ACCIDENTS\")\n",
    "ax2.set_title(\"Top 10 Number of Reports/Make of Aircraft: INCIDENTS\")\n",
    "ax1.annotate(xy=(1, 30), text=\"Cessna is 31.5% of overall reports\")\n",
    "ax1.annotate(\"Piper is 17% of overall reports\", xy=(2, 15))\n",
    "ax2.annotate(\"Boeing is 35.6% of overall reports\", xy=(1.5, 34))\n",
    "(top_ten_accident_craft_normalized * 100).plot(kind='bar', ax=ax1)\n",
    "(top_ten_incident_craft_normalized * 100).plot(kind='bar', ax=ax2);"
   ]
  },
  {
   "cell_type": "markdown",
   "metadata": {},
   "source": [
    "### ACCIDENTS: Severe outcome not caused by instrumental failure"
   ]
  },
  {
   "cell_type": "markdown",
   "metadata": {},
   "source": [
    "### INCIDENTS: Moderate outcome typically caused by instrumental failure"
   ]
  },
  {
   "cell_type": "markdown",
   "metadata": {},
   "source": [
    "     "
   ]
  },
  {
   "cell_type": "markdown",
   "metadata": {},
   "source": [
    "# TOP TEN ACCIDENT ANALYSIS"
   ]
  },
  {
   "cell_type": "code",
   "execution_count": 29,
   "metadata": {},
   "outputs": [],
   "source": [
    "top_ten_accident_craft_normalized = df[df[\"investigation_type\"] == \"Accident\"]['make'].value_counts(normalize=True)[:10]"
   ]
  },
  {
   "cell_type": "code",
   "execution_count": 30,
   "metadata": {},
   "outputs": [
    {
     "data": {
      "text/plain": [
       "cessna      26793\n",
       "piper       14684\n",
       "beech        5177\n",
       "bell         2662\n",
       "boeing       1362\n",
       "mooney       1311\n",
       "robinson     1219\n",
       "grumman      1158\n",
       "bellanca     1040\n",
       "hughes        925\n",
       "Name: make, dtype: int64"
      ]
     },
     "execution_count": 30,
     "metadata": {},
     "output_type": "execute_result"
    }
   ],
   "source": [
    "top_ten_accident_craft"
   ]
  },
  {
   "cell_type": "code",
   "execution_count": 33,
   "metadata": {},
   "outputs": [
    {
     "name": "stdout",
     "output_type": "stream",
     "text": [
      "cessna      26793\n",
      "piper       14684\n",
      "beech        5177\n",
      "bell         2662\n",
      "boeing       1362\n",
      "mooney       1311\n",
      "robinson     1219\n",
      "grumman      1158\n",
      "bellanca     1040\n",
      "hughes        925\n",
      "Name: make, dtype: int64 cessna      0.315156\n",
      "piper       0.172722\n",
      "beech       0.060895\n",
      "bell        0.031312\n",
      "boeing      0.016021\n",
      "mooney      0.015421\n",
      "robinson    0.014339\n",
      "grumman     0.013621\n",
      "bellanca    0.012233\n",
      "hughes      0.010880\n",
      "Name: make, dtype: float64\n"
     ]
    }
   ],
   "source": [
    "print(top_ten_accident_craft, top_ten_accident_craft_normalized)"
   ]
  },
  {
   "cell_type": "markdown",
   "metadata": {},
   "source": [
    "# INCIDENT ANALYSIS"
   ]
  },
  {
   "cell_type": "code",
   "execution_count": 31,
   "metadata": {},
   "outputs": [],
   "source": [
    "top_ten_incident_craft_normalized = df[df[\"investigation_type\"] == \"Incident\"]['make'].value_counts(normalize=True)[:10]"
   ]
  },
  {
   "cell_type": "code",
   "execution_count": 32,
   "metadata": {},
   "outputs": [
    {
     "name": "stdout",
     "output_type": "stream",
     "text": [
      "boeing               1383\n",
      "cessna                356\n",
      "mcdonnell douglas     247\n",
      "beech                 195\n",
      "piper                 186\n",
      "airbus                179\n",
      "embraer                88\n",
      "airbus industrie       88\n",
      "douglas                85\n",
      "bell                   60\n",
      "Name: make, dtype: int64 boeing               0.356995\n",
      "cessna               0.091895\n",
      "mcdonnell douglas    0.063758\n",
      "beech                0.050336\n",
      "piper                0.048012\n",
      "airbus               0.046205\n",
      "embraer              0.022716\n",
      "airbus industrie     0.022716\n",
      "douglas              0.021941\n",
      "bell                 0.015488\n",
      "Name: make, dtype: float64\n"
     ]
    }
   ],
   "source": [
    "print(top_ten_incident_craft, top_ten_incident_craft_normalized)"
   ]
  },
  {
   "cell_type": "markdown",
   "metadata": {},
   "source": [
    "### BOEING ANALYSIS"
   ]
  },
  {
   "cell_type": "code",
   "execution_count": 34,
   "metadata": {},
   "outputs": [],
   "source": [
    "boeing_inc = df[(df['make'] == \"boeing\") & (df['investigation_type'] == 'Incident')]"
   ]
  },
  {
   "cell_type": "code",
   "execution_count": 35,
   "metadata": {},
   "outputs": [
    {
     "data": {
      "text/html": [
       "<div>\n",
       "<style scoped>\n",
       "    .dataframe tbody tr th:only-of-type {\n",
       "        vertical-align: middle;\n",
       "    }\n",
       "\n",
       "    .dataframe tbody tr th {\n",
       "        vertical-align: top;\n",
       "    }\n",
       "\n",
       "    .dataframe thead th {\n",
       "        text-align: right;\n",
       "    }\n",
       "</style>\n",
       "<table border=\"1\" class=\"dataframe\">\n",
       "  <thead>\n",
       "    <tr style=\"text-align: right;\">\n",
       "      <th></th>\n",
       "      <th>event_id</th>\n",
       "      <th>investigation_type</th>\n",
       "      <th>accident_number</th>\n",
       "      <th>event_date</th>\n",
       "      <th>location</th>\n",
       "      <th>country</th>\n",
       "      <th>airport_code</th>\n",
       "      <th>airport_name</th>\n",
       "      <th>injury_severity</th>\n",
       "      <th>aircraft_damage</th>\n",
       "      <th>aircraft_category</th>\n",
       "      <th>make</th>\n",
       "      <th>model</th>\n",
       "      <th>amateur_built</th>\n",
       "      <th>number_of_engines</th>\n",
       "      <th>engine_type</th>\n",
       "      <th>purpose_of_flight</th>\n",
       "      <th>air_carrier</th>\n",
       "      <th>total_fatal_injuries</th>\n",
       "      <th>total_serious_injuries</th>\n",
       "      <th>total_minor_injuries</th>\n",
       "      <th>total_uninjured</th>\n",
       "      <th>weather_condition</th>\n",
       "      <th>broad_phase_of_flight</th>\n",
       "      <th>report_status</th>\n",
       "      <th>survivable_injuries</th>\n",
       "      <th>year_of_event</th>\n",
       "    </tr>\n",
       "  </thead>\n",
       "  <tbody>\n",
       "    <tr>\n",
       "      <th>320</th>\n",
       "      <td>20020917X02336</td>\n",
       "      <td>Incident</td>\n",
       "      <td>LAX82IA075</td>\n",
       "      <td>1982-02-15</td>\n",
       "      <td>ONTARIO, CA</td>\n",
       "      <td>UNITED STATES</td>\n",
       "      <td>ONT</td>\n",
       "      <td>ONTARIO INTERNATIONAL</td>\n",
       "      <td>Incident</td>\n",
       "      <td>Minor</td>\n",
       "      <td>Airplane</td>\n",
       "      <td>boeing</td>\n",
       "      <td>B737-2H4</td>\n",
       "      <td>No</td>\n",
       "      <td>2.0</td>\n",
       "      <td>Turbo Jet</td>\n",
       "      <td>Unknown</td>\n",
       "      <td>Aircal</td>\n",
       "      <td>0</td>\n",
       "      <td>0</td>\n",
       "      <td>0</td>\n",
       "      <td>119.0</td>\n",
       "      <td>IMC</td>\n",
       "      <td>Approach</td>\n",
       "      <td>Probable Cause</td>\n",
       "      <td>0.0</td>\n",
       "      <td>1982</td>\n",
       "    </tr>\n",
       "    <tr>\n",
       "      <th>351</th>\n",
       "      <td>20020917X02151</td>\n",
       "      <td>Incident</td>\n",
       "      <td>FTW82IA062</td>\n",
       "      <td>1982-02-19</td>\n",
       "      <td>HARLINGEN, TX</td>\n",
       "      <td>UNITED STATES</td>\n",
       "      <td>HRL</td>\n",
       "      <td>HARLINGEN IND.AIR PARK</td>\n",
       "      <td>Incident</td>\n",
       "      <td>Unknown</td>\n",
       "      <td>Airplane</td>\n",
       "      <td>boeing</td>\n",
       "      <td>B-727-200</td>\n",
       "      <td>No</td>\n",
       "      <td>3.0</td>\n",
       "      <td>Turbo Jet</td>\n",
       "      <td>Unknown</td>\n",
       "      <td>Mexicana Airlines</td>\n",
       "      <td>Unknown</td>\n",
       "      <td>Unknown</td>\n",
       "      <td>Unknown</td>\n",
       "      <td>83.0</td>\n",
       "      <td>IMC</td>\n",
       "      <td>Landing</td>\n",
       "      <td>Probable Cause</td>\n",
       "      <td>0.0</td>\n",
       "      <td>1982</td>\n",
       "    </tr>\n",
       "  </tbody>\n",
       "</table>\n",
       "</div>"
      ],
      "text/plain": [
       "           event_id investigation_type accident_number  event_date  \\\n",
       "320  20020917X02336           Incident      LAX82IA075  1982-02-15   \n",
       "351  20020917X02151           Incident      FTW82IA062  1982-02-19   \n",
       "\n",
       "          location        country airport_code            airport_name  \\\n",
       "320    ONTARIO, CA  UNITED STATES          ONT   ONTARIO INTERNATIONAL   \n",
       "351  HARLINGEN, TX  UNITED STATES          HRL  HARLINGEN IND.AIR PARK   \n",
       "\n",
       "    injury_severity aircraft_damage aircraft_category    make      model  \\\n",
       "320        Incident           Minor          Airplane  boeing   B737-2H4   \n",
       "351        Incident         Unknown          Airplane  boeing  B-727-200   \n",
       "\n",
       "    amateur_built number_of_engines engine_type purpose_of_flight  \\\n",
       "320            No               2.0   Turbo Jet           Unknown   \n",
       "351            No               3.0   Turbo Jet           Unknown   \n",
       "\n",
       "           air_carrier total_fatal_injuries total_serious_injuries  \\\n",
       "320             Aircal                    0                      0   \n",
       "351  Mexicana Airlines              Unknown                Unknown   \n",
       "\n",
       "    total_minor_injuries total_uninjured weather_condition  \\\n",
       "320                    0           119.0               IMC   \n",
       "351              Unknown            83.0               IMC   \n",
       "\n",
       "    broad_phase_of_flight   report_status  survivable_injuries  year_of_event  \n",
       "320              Approach  Probable Cause                  0.0           1982  \n",
       "351               Landing  Probable Cause                  0.0           1982  "
      ]
     },
     "execution_count": 35,
     "metadata": {},
     "output_type": "execute_result"
    }
   ],
   "source": [
    "boeing_inc.head(2)"
   ]
  },
  {
   "cell_type": "markdown",
   "metadata": {},
   "source": [
    "### engine types:"
   ]
  },
  {
   "cell_type": "code",
   "execution_count": 91,
   "metadata": {
    "scrolled": true
   },
   "outputs": [],
   "source": [
    "engine = boeing_inc['engine_type'].value_counts()"
   ]
  },
  {
   "cell_type": "code",
   "execution_count": 93,
   "metadata": {},
   "outputs": [
    {
     "data": {
      "image/png": "[encoded data removed]",
      "text/plain": [
       "<Figure size 432x288 with 1 Axes>"
      ]
     },
     "metadata": {
      "needs_background": "light"
     },
     "output_type": "display_data"
    }
   ],
   "source": [
    "engine.drop(\"Unknown\").plot(kind=\"bar\", title=(\"Engine Types for Boeing Incidents\"));"
   ]
  },
  {
   "cell_type": "markdown",
   "metadata": {},
   "source": [
    "### number of engines"
   ]
  },
  {
   "cell_type": "code",
   "execution_count": 38,
   "metadata": {},
   "outputs": [],
   "source": [
    "boe_eng_num = boeing_inc['number_of_engines'].value_counts()"
   ]
  },
  {
   "cell_type": "code",
   "execution_count": 39,
   "metadata": {},
   "outputs": [
    {
     "data": {
      "image/png": "[encoded data removed]",
      "text/plain": [
       "<Figure size 432x288 with 1 Axes>"
      ]
     },
     "metadata": {
      "needs_background": "light"
     },
     "output_type": "display_data"
    }
   ],
   "source": [
    "boe_eng_num.drop(\"Unknown\").plot(kind='bar');"
   ]
  },
  {
   "cell_type": "markdown",
   "metadata": {},
   "source": [
    "### Broad-phase info"
   ]
  },
  {
   "cell_type": "code",
   "execution_count": 40,
   "metadata": {},
   "outputs": [
    {
     "data": {
      "text/plain": [
       "911"
      ]
     },
     "execution_count": 40,
     "metadata": {},
     "output_type": "execute_result"
    }
   ],
   "source": [
    "boe_phase = boeing_inc['broad_phase_of_flight'].value_counts()\n",
    "boe_phase['Unknown']"
   ]
  },
  {
   "cell_type": "code",
   "execution_count": 41,
   "metadata": {},
   "outputs": [
    {
     "data": {
      "image/png": "[encoded data removed]",
      "text/plain": [
       "<Figure size 432x288 with 1 Axes>"
      ]
     },
     "metadata": {
      "needs_background": "light"
     },
     "output_type": "display_data"
    }
   ],
   "source": [
    "boe_phase.drop(\"Unknown\").plot(kind='bar', title=(\"Modes of Flight Incidents\"));"
   ]
  },
  {
   "cell_type": "markdown",
   "metadata": {},
   "source": [
    "### Different models of Boeing"
   ]
  },
  {
   "cell_type": "code",
   "execution_count": 42,
   "metadata": {},
   "outputs": [
    {
     "data": {
      "text/plain": [
       "dtype('O')"
      ]
     },
     "execution_count": 42,
     "metadata": {},
     "output_type": "execute_result"
    }
   ],
   "source": [
    "boeing_inc['model'].dtype"
   ]
  },
  {
   "cell_type": "code",
   "execution_count": 43,
   "metadata": {},
   "outputs": [
    {
     "data": {
      "text/plain": [
       "737         0.255965\n",
       "777         0.052061\n",
       "747         0.046999\n",
       "767         0.028200\n",
       "757         0.026753\n",
       "              ...   \n",
       "747-212B    0.000723\n",
       "737 823     0.000723\n",
       "737-3A4     0.000723\n",
       "747-240     0.000723\n",
       "747-481F    0.000723\n",
       "Name: model, Length: 347, dtype: float64"
      ]
     },
     "execution_count": 43,
     "metadata": {},
     "output_type": "execute_result"
    }
   ],
   "source": [
    "boeing_inc['model'].value_counts(normalize=True)"
   ]
  },
  {
   "cell_type": "code",
   "execution_count": 44,
   "metadata": {},
   "outputs": [],
   "source": [
    "boeing_sts_model = boeing_inc[boeing_inc['model'].str.startswith(\"737\") == True]"
   ]
  },
  {
   "cell_type": "code",
   "execution_count": 45,
   "metadata": {},
   "outputs": [
    {
     "data": {
      "text/plain": [
       "737          354\n",
       "737-800       22\n",
       "737-300       22\n",
       "737-200       18\n",
       "737-400       15\n",
       "            ... \n",
       "737 - 4Q8      1\n",
       "737-4Q8        1\n",
       "737 7L9        1\n",
       "737-8H4        1\n",
       "737 - 476      1\n",
       "Name: model, Length: 80, dtype: int64"
      ]
     },
     "execution_count": 45,
     "metadata": {},
     "output_type": "execute_result"
    }
   ],
   "source": [
    "boeing_sts_model['model'].value_counts()"
   ]
  },
  {
   "cell_type": "markdown",
   "metadata": {},
   "source": [
    "### A lot of detail around model 737"
   ]
  },
  {
   "cell_type": "code",
   "execution_count": null,
   "metadata": {},
   "outputs": [],
   "source": []
  }
 ],
 "metadata": {
  "kernelspec": {
   "display_name": "Python (learn-env)",
   "language": "python",
   "name": "learn-env"
  },
  "language_info": {
   "codemirror_mode": {
    "name": "ipython",
    "version": 3
   },
   "file_extension": ".py",
   "mimetype": "text/x-python",
   "name": "python",
   "nbconvert_exporter": "python",
   "pygments_lexer": "ipython3",
   "version": "3.8.5"
  }
 },
 "nbformat": 4,
 "nbformat_minor": 4
}
