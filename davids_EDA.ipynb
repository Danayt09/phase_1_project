{
 "cells": [
  {
   "cell_type": "code",
   "execution_count": 1,
   "metadata": {},
   "outputs": [],
   "source": [
    "import pandas as pd\n",
    "import numpy as np\n",
    "import matplotlib.pyplot as plt\n",
    "import seaborn as sns\n",
    "%matplotlib inline"
   ]
  },
  {
   "cell_type": "code",
   "execution_count": 2,
   "metadata": {},
   "outputs": [
    {
     "name": "stderr",
     "output_type": "stream",
     "text": [
      "/Users/samalainabayeva/anaconda3/envs/learn-env/lib/python3.8/site-packages/IPython/core/interactiveshell.py:3145: DtypeWarning: Columns (18,19,20,21) have mixed types.Specify dtype option on import or set low_memory=False.\n",
      "  has_raised = await self.run_ast_nodes(code_ast.body, cell_name,\n"
     ]
    }
   ],
   "source": [
    "df = pd.read_csv('data/aviation_cleaned.csv')"
   ]
  },
  {
   "cell_type": "markdown",
   "metadata": {},
   "source": [
    "### Need to convert injury columns to ints..."
   ]
  },
  {
   "cell_type": "code",
   "execution_count": 3,
   "metadata": {
    "scrolled": true
   },
   "outputs": [],
   "source": [
    "df['total_fatal_injuries'] = df['total_fatal_injuries'].map(lambda x: float(x) if x != \"Unknown\" else x)"
   ]
  },
  {
   "cell_type": "code",
   "execution_count": 4,
   "metadata": {},
   "outputs": [],
   "source": [
    "df['total_serious_injuries'] = df['total_serious_injuries'].map(lambda x: float(x) if x != \"Unknown\" else x)"
   ]
  },
  {
   "cell_type": "code",
   "execution_count": 5,
   "metadata": {},
   "outputs": [],
   "source": [
    "df['total_minor_injuries'] =df['total_minor_injuries'].map(lambda x: float(x) if x != \"Unknown\" else x)"
   ]
  },
  {
   "cell_type": "code",
   "execution_count": 6,
   "metadata": {},
   "outputs": [],
   "source": [
    "hypothetical_data = df['total_minor_injuries'].replace(\"Unknown\", 0)"
   ]
  },
  {
   "cell_type": "code",
   "execution_count": 7,
   "metadata": {},
   "outputs": [],
   "source": [
    "hypothetical_data_ser = df['total_serious_injuries'].replace(\"Unknown\", 0)"
   ]
  },
  {
   "cell_type": "code",
   "execution_count": 8,
   "metadata": {},
   "outputs": [
    {
     "data": {
      "text/plain": [
       "count    88889.000000\n",
       "mean         0.309127\n",
       "std          2.083715\n",
       "min          0.000000\n",
       "25%          0.000000\n",
       "50%          0.000000\n",
       "75%          0.000000\n",
       "max        380.000000\n",
       "Name: total_minor_injuries, dtype: float64"
      ]
     },
     "execution_count": 8,
     "metadata": {},
     "output_type": "execute_result"
    }
   ],
   "source": [
    "hypothetical_data.describe()"
   ]
  },
  {
   "cell_type": "code",
   "execution_count": 9,
   "metadata": {},
   "outputs": [
    {
     "data": {
      "text/plain": [
       "count    88889.000000\n",
       "mean         0.240491\n",
       "std          1.434614\n",
       "min          0.000000\n",
       "25%          0.000000\n",
       "50%          0.000000\n",
       "75%          0.000000\n",
       "max        161.000000\n",
       "Name: total_serious_injuries, dtype: float64"
      ]
     },
     "execution_count": 9,
     "metadata": {},
     "output_type": "execute_result"
    }
   ],
   "source": [
    "hypothetical_data_ser.describe()"
   ]
  },
  {
   "cell_type": "code",
   "execution_count": 10,
   "metadata": {},
   "outputs": [],
   "source": [
    "hypothetical_data_fat = df['total_fatal_injuries'].replace(\"Unknown\", 0)"
   ]
  },
  {
   "cell_type": "code",
   "execution_count": 11,
   "metadata": {},
   "outputs": [
    {
     "data": {
      "text/plain": [
       "count    88889.000000\n",
       "mean         0.564761\n",
       "std          5.126649\n",
       "min          0.000000\n",
       "25%          0.000000\n",
       "50%          0.000000\n",
       "75%          0.000000\n",
       "max        349.000000\n",
       "Name: total_fatal_injuries, dtype: float64"
      ]
     },
     "execution_count": 11,
     "metadata": {},
     "output_type": "execute_result"
    }
   ],
   "source": [
    "hypothetical_data_fat.describe()"
   ]
  },
  {
   "cell_type": "code",
   "execution_count": 12,
   "metadata": {},
   "outputs": [],
   "source": [
    "df[\"survivable_injuries\"] = (df['total_minor_injuries'].replace(\"Unknown\", 0)) + (df[\"total_serious_injuries\"].replace(\"Unknown\", 0))"
   ]
  },
  {
   "cell_type": "code",
   "execution_count": 13,
   "metadata": {},
   "outputs": [
    {
     "data": {
      "text/plain": [
       "0.0      63365\n",
       "1.0      15270\n",
       "2.0       6903\n",
       "3.0       1580\n",
       "4.0        901\n",
       "         ...  \n",
       "172.0        1\n",
       "57.0         1\n",
       "46.0         1\n",
       "80.0         1\n",
       "64.0         1\n",
       "Name: survivable_injuries, Length: 74, dtype: int64"
      ]
     },
     "execution_count": 13,
     "metadata": {},
     "output_type": "execute_result"
    }
   ],
   "source": [
    "df['survivable_injuries'].value_counts()"
   ]
  },
  {
   "cell_type": "code",
   "execution_count": 14,
   "metadata": {},
   "outputs": [],
   "source": [
    "# sns.scatterplot(x='total_fatal_injuries', y='survivable_injuries', data = df)"
   ]
  },
  {
   "cell_type": "code",
   "execution_count": null,
   "metadata": {},
   "outputs": [],
   "source": []
  },
  {
   "cell_type": "code",
   "execution_count": 15,
   "metadata": {},
   "outputs": [],
   "source": [
    "boeing_inc = df[(df['make'] == \"BOEING\") & (df['investigation_type'] == 'Incident')]"
   ]
  },
  {
   "cell_type": "code",
   "execution_count": 16,
   "metadata": {
    "scrolled": true
   },
   "outputs": [
    {
     "data": {
      "text/html": [
       "<div>\n",
       "<style scoped>\n",
       "    .dataframe tbody tr th:only-of-type {\n",
       "        vertical-align: middle;\n",
       "    }\n",
       "\n",
       "    .dataframe tbody tr th {\n",
       "        vertical-align: top;\n",
       "    }\n",
       "\n",
       "    .dataframe thead th {\n",
       "        text-align: right;\n",
       "    }\n",
       "</style>\n",
       "<table border=\"1\" class=\"dataframe\">\n",
       "  <thead>\n",
       "    <tr style=\"text-align: right;\">\n",
       "      <th></th>\n",
       "      <th>event_id</th>\n",
       "      <th>investigation_type</th>\n",
       "      <th>accident_number</th>\n",
       "      <th>event_date</th>\n",
       "      <th>location</th>\n",
       "      <th>country</th>\n",
       "      <th>airport_code</th>\n",
       "      <th>airport_name</th>\n",
       "      <th>injury_severity</th>\n",
       "      <th>aircraft_damage</th>\n",
       "      <th>aircraft_category</th>\n",
       "      <th>make</th>\n",
       "      <th>model</th>\n",
       "      <th>amateur_built</th>\n",
       "      <th>number_of_engines</th>\n",
       "      <th>engine_type</th>\n",
       "      <th>purpose_of_flight</th>\n",
       "      <th>air_carrier</th>\n",
       "      <th>total_fatal_injuries</th>\n",
       "      <th>total_serious_injuries</th>\n",
       "      <th>total_minor_injuries</th>\n",
       "      <th>total_uninjured</th>\n",
       "      <th>weather_condition</th>\n",
       "      <th>broad_phase_of_flight</th>\n",
       "      <th>report_status</th>\n",
       "      <th>survivable_injuries</th>\n",
       "    </tr>\n",
       "  </thead>\n",
       "  <tbody>\n",
       "    <tr>\n",
       "      <th>0</th>\n",
       "      <td>20001218X45444</td>\n",
       "      <td>Accident</td>\n",
       "      <td>SEA87LA080</td>\n",
       "      <td>1948-10-24</td>\n",
       "      <td>MOOSE CREEK, ID</td>\n",
       "      <td>United States</td>\n",
       "      <td>Unknown</td>\n",
       "      <td>Unknown</td>\n",
       "      <td>Fatal(2)</td>\n",
       "      <td>Destroyed</td>\n",
       "      <td>Unknown</td>\n",
       "      <td>Stinson</td>\n",
       "      <td>108-3</td>\n",
       "      <td>No</td>\n",
       "      <td>1.0</td>\n",
       "      <td>Reciprocating</td>\n",
       "      <td>Personal</td>\n",
       "      <td>Unknown</td>\n",
       "      <td>2</td>\n",
       "      <td>0</td>\n",
       "      <td>0</td>\n",
       "      <td>0.0</td>\n",
       "      <td>Unknown</td>\n",
       "      <td>Cruise</td>\n",
       "      <td>Probable Cause</td>\n",
       "      <td>0.0</td>\n",
       "    </tr>\n",
       "    <tr>\n",
       "      <th>1</th>\n",
       "      <td>20001218X45447</td>\n",
       "      <td>Accident</td>\n",
       "      <td>LAX94LA336</td>\n",
       "      <td>1962-07-19</td>\n",
       "      <td>BRIDGEPORT, CA</td>\n",
       "      <td>United States</td>\n",
       "      <td>Unknown</td>\n",
       "      <td>Unknown</td>\n",
       "      <td>Fatal(4)</td>\n",
       "      <td>Destroyed</td>\n",
       "      <td>Unknown</td>\n",
       "      <td>Piper</td>\n",
       "      <td>PA24-180</td>\n",
       "      <td>No</td>\n",
       "      <td>1.0</td>\n",
       "      <td>Reciprocating</td>\n",
       "      <td>Personal</td>\n",
       "      <td>Unknown</td>\n",
       "      <td>4</td>\n",
       "      <td>0</td>\n",
       "      <td>0</td>\n",
       "      <td>0.0</td>\n",
       "      <td>Unknown</td>\n",
       "      <td>Unknown</td>\n",
       "      <td>Probable Cause</td>\n",
       "      <td>0.0</td>\n",
       "    </tr>\n",
       "    <tr>\n",
       "      <th>2</th>\n",
       "      <td>20061025X01555</td>\n",
       "      <td>Accident</td>\n",
       "      <td>NYC07LA005</td>\n",
       "      <td>1974-08-30</td>\n",
       "      <td>Saltville, VA</td>\n",
       "      <td>United States</td>\n",
       "      <td>Unknown</td>\n",
       "      <td>Unknown</td>\n",
       "      <td>Fatal(3)</td>\n",
       "      <td>Destroyed</td>\n",
       "      <td>Unknown</td>\n",
       "      <td>Cessna</td>\n",
       "      <td>172M</td>\n",
       "      <td>No</td>\n",
       "      <td>1.0</td>\n",
       "      <td>Reciprocating</td>\n",
       "      <td>Personal</td>\n",
       "      <td>Unknown</td>\n",
       "      <td>3</td>\n",
       "      <td>Unknown</td>\n",
       "      <td>Unknown</td>\n",
       "      <td>Unknown</td>\n",
       "      <td>IMC</td>\n",
       "      <td>Cruise</td>\n",
       "      <td>Probable Cause</td>\n",
       "      <td>0.0</td>\n",
       "    </tr>\n",
       "    <tr>\n",
       "      <th>3</th>\n",
       "      <td>20001218X45448</td>\n",
       "      <td>Accident</td>\n",
       "      <td>LAX96LA321</td>\n",
       "      <td>1977-06-19</td>\n",
       "      <td>EUREKA, CA</td>\n",
       "      <td>United States</td>\n",
       "      <td>Unknown</td>\n",
       "      <td>Unknown</td>\n",
       "      <td>Fatal(2)</td>\n",
       "      <td>Destroyed</td>\n",
       "      <td>Unknown</td>\n",
       "      <td>Rockwell</td>\n",
       "      <td>112</td>\n",
       "      <td>No</td>\n",
       "      <td>1.0</td>\n",
       "      <td>Reciprocating</td>\n",
       "      <td>Personal</td>\n",
       "      <td>Unknown</td>\n",
       "      <td>2</td>\n",
       "      <td>0</td>\n",
       "      <td>0</td>\n",
       "      <td>0.0</td>\n",
       "      <td>IMC</td>\n",
       "      <td>Cruise</td>\n",
       "      <td>Probable Cause</td>\n",
       "      <td>0.0</td>\n",
       "    </tr>\n",
       "    <tr>\n",
       "      <th>4</th>\n",
       "      <td>20041105X01764</td>\n",
       "      <td>Accident</td>\n",
       "      <td>CHI79FA064</td>\n",
       "      <td>1979-08-02</td>\n",
       "      <td>Canton, OH</td>\n",
       "      <td>United States</td>\n",
       "      <td>Unknown</td>\n",
       "      <td>Unknown</td>\n",
       "      <td>Fatal(1)</td>\n",
       "      <td>Destroyed</td>\n",
       "      <td>Unknown</td>\n",
       "      <td>Cessna</td>\n",
       "      <td>501</td>\n",
       "      <td>No</td>\n",
       "      <td>Unknown</td>\n",
       "      <td>Unknown</td>\n",
       "      <td>Personal</td>\n",
       "      <td>Unknown</td>\n",
       "      <td>1</td>\n",
       "      <td>2</td>\n",
       "      <td>Unknown</td>\n",
       "      <td>0.0</td>\n",
       "      <td>VMC</td>\n",
       "      <td>Approach</td>\n",
       "      <td>Probable Cause</td>\n",
       "      <td>2.0</td>\n",
       "    </tr>\n",
       "  </tbody>\n",
       "</table>\n",
       "</div>"
      ],
      "text/plain": [
       "         event_id investigation_type accident_number  event_date  \\\n",
       "0  20001218X45444           Accident      SEA87LA080  1948-10-24   \n",
       "1  20001218X45447           Accident      LAX94LA336  1962-07-19   \n",
       "2  20061025X01555           Accident      NYC07LA005  1974-08-30   \n",
       "3  20001218X45448           Accident      LAX96LA321  1977-06-19   \n",
       "4  20041105X01764           Accident      CHI79FA064  1979-08-02   \n",
       "\n",
       "          location        country airport_code airport_name injury_severity  \\\n",
       "0  MOOSE CREEK, ID  United States      Unknown      Unknown        Fatal(2)   \n",
       "1   BRIDGEPORT, CA  United States      Unknown      Unknown        Fatal(4)   \n",
       "2    Saltville, VA  United States      Unknown      Unknown        Fatal(3)   \n",
       "3       EUREKA, CA  United States      Unknown      Unknown        Fatal(2)   \n",
       "4       Canton, OH  United States      Unknown      Unknown        Fatal(1)   \n",
       "\n",
       "  aircraft_damage aircraft_category      make     model amateur_built  \\\n",
       "0       Destroyed           Unknown   Stinson     108-3            No   \n",
       "1       Destroyed           Unknown     Piper  PA24-180            No   \n",
       "2       Destroyed           Unknown    Cessna      172M            No   \n",
       "3       Destroyed           Unknown  Rockwell       112            No   \n",
       "4       Destroyed           Unknown    Cessna       501            No   \n",
       "\n",
       "  number_of_engines    engine_type purpose_of_flight air_carrier  \\\n",
       "0               1.0  Reciprocating          Personal     Unknown   \n",
       "1               1.0  Reciprocating          Personal     Unknown   \n",
       "2               1.0  Reciprocating          Personal     Unknown   \n",
       "3               1.0  Reciprocating          Personal     Unknown   \n",
       "4           Unknown        Unknown          Personal     Unknown   \n",
       "\n",
       "  total_fatal_injuries total_serious_injuries total_minor_injuries  \\\n",
       "0                    2                      0                    0   \n",
       "1                    4                      0                    0   \n",
       "2                    3                Unknown              Unknown   \n",
       "3                    2                      0                    0   \n",
       "4                    1                      2              Unknown   \n",
       "\n",
       "  total_uninjured weather_condition broad_phase_of_flight   report_status  \\\n",
       "0             0.0           Unknown                Cruise  Probable Cause   \n",
       "1             0.0           Unknown               Unknown  Probable Cause   \n",
       "2         Unknown               IMC                Cruise  Probable Cause   \n",
       "3             0.0               IMC                Cruise  Probable Cause   \n",
       "4             0.0               VMC              Approach  Probable Cause   \n",
       "\n",
       "   survivable_injuries  \n",
       "0                  0.0  \n",
       "1                  0.0  \n",
       "2                  0.0  \n",
       "3                  0.0  \n",
       "4                  2.0  "
      ]
     },
     "execution_count": 16,
     "metadata": {},
     "output_type": "execute_result"
    }
   ],
   "source": [
    "pd.options.display.max_columns = 50\n",
    "df.head()"
   ]
  },
  {
   "cell_type": "code",
   "execution_count": 17,
   "metadata": {},
   "outputs": [
    {
     "data": {
      "text/plain": [
       "Cessna             21973\n",
       "Piper              11885\n",
       "CESSNA              4820\n",
       "Beech               4170\n",
       "PIPER               2799\n",
       "                   ...  \n",
       "Lorello                1\n",
       "Betchan                1\n",
       "Frennance              1\n",
       "Syreini                1\n",
       "ANDERSON JOHN H        1\n",
       "Name: make, Length: 8170, dtype: int64"
      ]
     },
     "execution_count": 17,
     "metadata": {},
     "output_type": "execute_result"
    }
   ],
   "source": [
    "df[df[\"investigation_type\"] == \"Accident\"]['make'].value_counts()"
   ]
  },
  {
   "cell_type": "markdown",
   "metadata": {},
   "source": [
    "### Need to standardize the case of letters in this column"
   ]
  },
  {
   "cell_type": "code",
   "execution_count": 24,
   "metadata": {},
   "outputs": [],
   "source": [
    "df['make'] = df['make'].str.lower()"
   ]
  },
  {
   "cell_type": "markdown",
   "metadata": {},
   "source": [
    "### Uppercase Country Column"
   ]
  },
  {
   "cell_type": "code",
   "execution_count": 25,
   "metadata": {},
   "outputs": [],
   "source": [
    "df['country'] = df['country'].str.upper()"
   ]
  },
  {
   "cell_type": "markdown",
   "metadata": {},
   "source": [
    "### Gain access to the specific year of date"
   ]
  },
  {
   "cell_type": "code",
   "execution_count": 26,
   "metadata": {},
   "outputs": [],
   "source": [
    "df['event_date'].dtype  # object\n",
    "df[\"year_of_event\"] = df['event_date'].map(lambda x: int(x[:4]))"
   ]
  },
  {
   "cell_type": "markdown",
   "metadata": {},
   "source": [
    "### 1948 - 2022, median is from 1998 - overall span of 74 years"
   ]
  },
  {
   "cell_type": "code",
   "execution_count": 27,
   "metadata": {},
   "outputs": [
    {
     "data": {
      "text/plain": [
       "count    88889.000000\n",
       "mean      1999.206662\n",
       "std         11.888226\n",
       "min       1948.000000\n",
       "25%       1989.000000\n",
       "50%       1998.000000\n",
       "75%       2009.000000\n",
       "max       2022.000000\n",
       "Name: year_of_event, dtype: float64"
      ]
     },
     "execution_count": 27,
     "metadata": {},
     "output_type": "execute_result"
    }
   ],
   "source": [
    "df['year_of_event'].describe()"
   ]
  },
  {
   "cell_type": "code",
   "execution_count": 28,
   "metadata": {},
   "outputs": [
    {
     "data": {
      "text/plain": [
       "cessna      26793\n",
       "piper       14684\n",
       "beech        5177\n",
       "bell         2662\n",
       "boeing       1362\n",
       "mooney       1311\n",
       "robinson     1219\n",
       "grumman      1158\n",
       "bellanca     1040\n",
       "hughes        925\n",
       "Name: make, dtype: int64"
      ]
     },
     "execution_count": 28,
     "metadata": {},
     "output_type": "execute_result"
    }
   ],
   "source": [
    "top_ten_accident_craft = df[df[\"investigation_type\"] == \"Accident\"]['make'].value_counts(normalize=False)[:10]\n",
    "top_ten_accident_craft"
   ]
  },
  {
   "cell_type": "code",
   "execution_count": 29,
   "metadata": {},
   "outputs": [
    {
     "data": {
      "text/plain": [
       "['cessna',\n",
       " 'piper',\n",
       " 'beech',\n",
       " 'bell',\n",
       " 'boeing',\n",
       " 'mooney',\n",
       " 'robinson',\n",
       " 'grumman',\n",
       " 'bellanca',\n",
       " 'hughes']"
      ]
     },
     "execution_count": 29,
     "metadata": {},
     "output_type": "execute_result"
    }
   ],
   "source": [
    "list(top_ten_accident_craft.index)"
   ]
  },
  {
   "cell_type": "code",
   "execution_count": 30,
   "metadata": {},
   "outputs": [],
   "source": [
    "top_ten_incident_craft = df[df[\"investigation_type\"] == \"Incident\"]['make'].value_counts(normalize=False)[:10]"
   ]
  },
  {
   "cell_type": "code",
   "execution_count": 31,
   "metadata": {
    "scrolled": false
   },
   "outputs": [
    {
     "data": {
      "image/png": "[encoded data removed]",
      "text/plain": [
       "<Figure size 1152x576 with 2 Axes>"
      ]
     },
     "metadata": {
      "needs_background": "light"
     },
     "output_type": "display_data"
    }
   ],
   "source": [
    "fig, (ax1, ax2) = plt.subplots(ncols=2, figsize=(16, 8))\n",
    "ax1.set_title(\"Top 10 Number of Reports/Make of Aircraft: ACCIDENTS\")\n",
    "ax2.set_title(\"Top 10 Number of Reports/Make of Aircraft: INCIDENTS\")\n",
    "ax1.annotate(xy=(1, 25000), text=\"Cessna is 31.5% of overall reports\")\n",
    "ax1.annotate(\"Piper is 17% of overall reports\", xy=(2, 18000))\n",
    "ax2.annotate(\"Boeing is 35.6% of overall reports\", xy=(2, 1200))\n",
    "top_ten_accident_craft.plot(kind='bar', ax=ax1)\n",
    "top_ten_incident_craft.plot(kind='bar', ax=ax2);"
   ]
  },
  {
   "cell_type": "code",
   "execution_count": 33,
   "metadata": {},
   "outputs": [],
   "source": [
    "top_ten_accident_craft_normalized = df[df[\"investigation_type\"] == \"Accident\"]['make'].value_counts(normalize=True)[:10]"
   ]
  },
  {
   "cell_type": "code",
   "execution_count": 35,
   "metadata": {},
   "outputs": [],
   "source": [
    "top_ten_incident_craft_normalized = df[df[\"investigation_type\"] == \"Incident\"]['make'].value_counts(normalize=True)[:10]"
   ]
  },
  {
   "cell_type": "code",
   "execution_count": 36,
   "metadata": {},
   "outputs": [
    {
     "data": {
      "image/png": "[encoded data removed]",
      "text/plain": [
       "<Figure size 1152x576 with 2 Axes>"
      ]
     },
     "metadata": {
      "needs_background": "light"
     },
     "output_type": "display_data"
    }
   ],
   "source": [
    "fig, (ax1, ax2) = plt.subplots(ncols=2, figsize=(16, 8))\n",
    "ax1.set_title(\"Top 10 Number of Reports/Make of Aircraft: ACCIDENTS\")\n",
    "ax2.set_title(\"Top 10 Number of Reports/Make of Aircraft: INCIDENTS\")\n",
    "ax1.annotate(xy=(1, 30), text=\"Cessna is 31.5% of overall reports\")\n",
    "ax1.annotate(\"Piper is 17% of overall reports\", xy=(2, 15))\n",
    "ax2.annotate(\"Boeing is 35.6% of overall reports\", xy=(1.5, 34))\n",
    "(top_ten_accident_craft_normalized * 100).plot(kind='bar', ax=ax1)\n",
    "(top_ten_incident_craft_normalized * 100).plot(kind='bar', ax=ax2);"
   ]
  },
  {
   "cell_type": "markdown",
   "metadata": {},
   "source": [
    "### ACCIDENTS: Severe outcome not caused by instrumental failure"
   ]
  },
  {
   "cell_type": "markdown",
   "metadata": {},
   "source": [
    "### INCIDENTS: Moderate outcome typically caused by instrumental failure"
   ]
  },
  {
   "cell_type": "code",
   "execution_count": 37,
   "metadata": {},
   "outputs": [],
   "source": [
    "top_ten_accident_craft_normalized = df[df[\"investigation_type\"] == \"Accident\"]['make'].value_counts(normalize=True)[:10]"
   ]
  },
  {
   "cell_type": "code",
   "execution_count": 38,
   "metadata": {},
   "outputs": [
    {
     "data": {
      "text/plain": [
       "cessna      26793\n",
       "piper       14684\n",
       "beech        5177\n",
       "bell         2662\n",
       "boeing       1362\n",
       "mooney       1311\n",
       "robinson     1219\n",
       "grumman      1158\n",
       "bellanca     1040\n",
       "hughes        925\n",
       "Name: make, dtype: int64"
      ]
     },
     "execution_count": 38,
     "metadata": {},
     "output_type": "execute_result"
    }
   ],
   "source": [
    "top_ten_accident_craft"
   ]
  },
  {
   "cell_type": "code",
   "execution_count": 39,
   "metadata": {},
   "outputs": [],
   "source": [
    "top_ten_incident_craft_normalized = df[df[\"investigation_type\"] == \"Incident\"]['make'].value_counts(normalize=True)[:10]"
   ]
  },
  {
   "cell_type": "code",
   "execution_count": 40,
   "metadata": {},
   "outputs": [
    {
     "name": "stdout",
     "output_type": "stream",
     "text": [
      "boeing               1383\n",
      "cessna                356\n",
      "mcdonnell douglas     247\n",
      "beech                 195\n",
      "piper                 186\n",
      "airbus                179\n",
      "airbus industrie       88\n",
      "embraer                88\n",
      "douglas                85\n",
      "bell                   60\n",
      "Name: make, dtype: int64 boeing               0.356995\n",
      "cessna               0.091895\n",
      "mcdonnell douglas    0.063758\n",
      "beech                0.050336\n",
      "piper                0.048012\n",
      "airbus               0.046205\n",
      "airbus industrie     0.022716\n",
      "embraer              0.022716\n",
      "douglas              0.021941\n",
      "bell                 0.015488\n",
      "Name: make, dtype: float64\n"
     ]
    }
   ],
   "source": [
    "print(top_ten_incident_craft, top_ten_incident_craft_normalized)"
   ]
  },
  {
   "cell_type": "code",
   "execution_count": 41,
   "metadata": {},
   "outputs": [
    {
     "name": "stdout",
     "output_type": "stream",
     "text": [
      "cessna      26793\n",
      "piper       14684\n",
      "beech        5177\n",
      "bell         2662\n",
      "boeing       1362\n",
      "mooney       1311\n",
      "robinson     1219\n",
      "grumman      1158\n",
      "bellanca     1040\n",
      "hughes        925\n",
      "Name: make, dtype: int64 cessna      0.315156\n",
      "piper       0.172722\n",
      "beech       0.060895\n",
      "bell        0.031312\n",
      "boeing      0.016021\n",
      "mooney      0.015421\n",
      "robinson    0.014339\n",
      "grumman     0.013621\n",
      "bellanca    0.012233\n",
      "hughes      0.010880\n",
      "Name: make, dtype: float64\n"
     ]
    }
   ],
   "source": [
    "print(top_ten_accident_craft, top_ten_accident_craft_normalized)"
   ]
  },
  {
   "cell_type": "markdown",
   "metadata": {},
   "source": [
    "### BOEING ANALYSIS"
   ]
  },
  {
   "cell_type": "code",
   "execution_count": 44,
   "metadata": {},
   "outputs": [],
   "source": [
    "boeing_inc = df[(df['make'] == \"boeing\") & (df['investigation_type'] == 'Incident')]"
   ]
  },
  {
   "cell_type": "code",
   "execution_count": 45,
   "metadata": {},
   "outputs": [
    {
     "data": {
      "text/html": [
       "<div>\n",
       "<style scoped>\n",
       "    .dataframe tbody tr th:only-of-type {\n",
       "        vertical-align: middle;\n",
       "    }\n",
       "\n",
       "    .dataframe tbody tr th {\n",
       "        vertical-align: top;\n",
       "    }\n",
       "\n",
       "    .dataframe thead th {\n",
       "        text-align: right;\n",
       "    }\n",
       "</style>\n",
       "<table border=\"1\" class=\"dataframe\">\n",
       "  <thead>\n",
       "    <tr style=\"text-align: right;\">\n",
       "      <th></th>\n",
       "      <th>event_id</th>\n",
       "      <th>investigation_type</th>\n",
       "      <th>accident_number</th>\n",
       "      <th>event_date</th>\n",
       "      <th>location</th>\n",
       "      <th>country</th>\n",
       "      <th>airport_code</th>\n",
       "      <th>airport_name</th>\n",
       "      <th>injury_severity</th>\n",
       "      <th>aircraft_damage</th>\n",
       "      <th>aircraft_category</th>\n",
       "      <th>make</th>\n",
       "      <th>model</th>\n",
       "      <th>amateur_built</th>\n",
       "      <th>number_of_engines</th>\n",
       "      <th>engine_type</th>\n",
       "      <th>purpose_of_flight</th>\n",
       "      <th>air_carrier</th>\n",
       "      <th>total_fatal_injuries</th>\n",
       "      <th>total_serious_injuries</th>\n",
       "      <th>total_minor_injuries</th>\n",
       "      <th>total_uninjured</th>\n",
       "      <th>weather_condition</th>\n",
       "      <th>broad_phase_of_flight</th>\n",
       "      <th>report_status</th>\n",
       "      <th>survivable_injuries</th>\n",
       "      <th>year_of_event</th>\n",
       "    </tr>\n",
       "  </thead>\n",
       "  <tbody>\n",
       "    <tr>\n",
       "      <th>320</th>\n",
       "      <td>20020917X02336</td>\n",
       "      <td>Incident</td>\n",
       "      <td>LAX82IA075</td>\n",
       "      <td>1982-02-15</td>\n",
       "      <td>ONTARIO, CA</td>\n",
       "      <td>UNITED STATES</td>\n",
       "      <td>ONT</td>\n",
       "      <td>ONTARIO INTERNATIONAL</td>\n",
       "      <td>Incident</td>\n",
       "      <td>Minor</td>\n",
       "      <td>Airplane</td>\n",
       "      <td>boeing</td>\n",
       "      <td>B737-2H4</td>\n",
       "      <td>No</td>\n",
       "      <td>2.0</td>\n",
       "      <td>Turbo Jet</td>\n",
       "      <td>Unknown</td>\n",
       "      <td>Aircal</td>\n",
       "      <td>0</td>\n",
       "      <td>0</td>\n",
       "      <td>0</td>\n",
       "      <td>119.0</td>\n",
       "      <td>IMC</td>\n",
       "      <td>Approach</td>\n",
       "      <td>Probable Cause</td>\n",
       "      <td>0.0</td>\n",
       "      <td>1982</td>\n",
       "    </tr>\n",
       "    <tr>\n",
       "      <th>351</th>\n",
       "      <td>20020917X02151</td>\n",
       "      <td>Incident</td>\n",
       "      <td>FTW82IA062</td>\n",
       "      <td>1982-02-19</td>\n",
       "      <td>HARLINGEN, TX</td>\n",
       "      <td>UNITED STATES</td>\n",
       "      <td>HRL</td>\n",
       "      <td>HARLINGEN IND.AIR PARK</td>\n",
       "      <td>Incident</td>\n",
       "      <td>Unknown</td>\n",
       "      <td>Airplane</td>\n",
       "      <td>boeing</td>\n",
       "      <td>B-727-200</td>\n",
       "      <td>No</td>\n",
       "      <td>3.0</td>\n",
       "      <td>Turbo Jet</td>\n",
       "      <td>Unknown</td>\n",
       "      <td>Mexicana Airlines</td>\n",
       "      <td>Unknown</td>\n",
       "      <td>Unknown</td>\n",
       "      <td>Unknown</td>\n",
       "      <td>83.0</td>\n",
       "      <td>IMC</td>\n",
       "      <td>Landing</td>\n",
       "      <td>Probable Cause</td>\n",
       "      <td>0.0</td>\n",
       "      <td>1982</td>\n",
       "    </tr>\n",
       "  </tbody>\n",
       "</table>\n",
       "</div>"
      ],
      "text/plain": [
       "           event_id investigation_type accident_number  event_date  \\\n",
       "320  20020917X02336           Incident      LAX82IA075  1982-02-15   \n",
       "351  20020917X02151           Incident      FTW82IA062  1982-02-19   \n",
       "\n",
       "          location        country airport_code            airport_name  \\\n",
       "320    ONTARIO, CA  UNITED STATES          ONT   ONTARIO INTERNATIONAL   \n",
       "351  HARLINGEN, TX  UNITED STATES          HRL  HARLINGEN IND.AIR PARK   \n",
       "\n",
       "    injury_severity aircraft_damage aircraft_category    make      model  \\\n",
       "320        Incident           Minor          Airplane  boeing   B737-2H4   \n",
       "351        Incident         Unknown          Airplane  boeing  B-727-200   \n",
       "\n",
       "    amateur_built number_of_engines engine_type purpose_of_flight  \\\n",
       "320            No               2.0   Turbo Jet           Unknown   \n",
       "351            No               3.0   Turbo Jet           Unknown   \n",
       "\n",
       "           air_carrier total_fatal_injuries total_serious_injuries  \\\n",
       "320             Aircal                    0                      0   \n",
       "351  Mexicana Airlines              Unknown                Unknown   \n",
       "\n",
       "    total_minor_injuries total_uninjured weather_condition  \\\n",
       "320                    0           119.0               IMC   \n",
       "351              Unknown            83.0               IMC   \n",
       "\n",
       "    broad_phase_of_flight   report_status  survivable_injuries  year_of_event  \n",
       "320              Approach  Probable Cause                  0.0           1982  \n",
       "351               Landing  Probable Cause                  0.0           1982  "
      ]
     },
     "execution_count": 45,
     "metadata": {},
     "output_type": "execute_result"
    }
   ],
   "source": [
    "boeing_inc.head(2)"
   ]
  },
  {
   "cell_type": "markdown",
   "metadata": {},
   "source": [
    "### engine types:"
   ]
  },
  {
   "cell_type": "code",
   "execution_count": 46,
   "metadata": {
    "scrolled": true
   },
   "outputs": [],
   "source": [
    "engine = boeing_inc['engine_type'].value_counts()"
   ]
  },
  {
   "cell_type": "code",
   "execution_count": 47,
   "metadata": {},
   "outputs": [
    {
     "data": {
      "image/png": "[encoded data removed]",
      "text/plain": [
       "<Figure size 432x288 with 1 Axes>"
      ]
     },
     "metadata": {
      "needs_background": "light"
     },
     "output_type": "display_data"
    }
   ],
   "source": [
    "engine.plot(kind=\"bar\");"
   ]
  },
  {
   "cell_type": "markdown",
   "metadata": {},
   "source": [
    "### number of engines"
   ]
  },
  {
   "cell_type": "code",
   "execution_count": 48,
   "metadata": {},
   "outputs": [],
   "source": [
    "boe_eng_num = boeing_inc['number_of_engines'].value_counts()"
   ]
  },
  {
   "cell_type": "code",
   "execution_count": 49,
   "metadata": {},
   "outputs": [
    {
     "data": {
      "image/png": "[encoded data removed]",
      "text/plain": [
       "<Figure size 432x288 with 1 Axes>"
      ]
     },
     "metadata": {
      "needs_background": "light"
     },
     "output_type": "display_data"
    }
   ],
   "source": [
    "boe_eng_num.drop(\"Unknown\").plot(kind='bar');"
   ]
  },
  {
   "cell_type": "markdown",
   "metadata": {},
   "source": [
    "### Broad-phase info"
   ]
  },
  {
   "cell_type": "code",
   "execution_count": 50,
   "metadata": {},
   "outputs": [
    {
     "data": {
      "text/plain": [
       "911"
      ]
     },
     "execution_count": 50,
     "metadata": {},
     "output_type": "execute_result"
    }
   ],
   "source": [
    "boe_phase = boeing_inc['broad_phase_of_flight'].value_counts()\n",
    "boe_phase['Unknown']"
   ]
  },
  {
   "cell_type": "code",
   "execution_count": 51,
   "metadata": {},
   "outputs": [
    {
     "data": {
      "image/png": "[encoded data removed]",
      "text/plain": [
       "<Figure size 432x288 with 1 Axes>"
      ]
     },
     "metadata": {
      "needs_background": "light"
     },
     "output_type": "display_data"
    }
   ],
   "source": [
    "boe_phase.drop(\"Unknown\").plot(kind='bar', title=(\"Modes of Flight Incidents\"));"
   ]
  },
  {
   "cell_type": "markdown",
   "metadata": {},
   "source": [
    "### Different models of Boeing"
   ]
  },
  {
   "cell_type": "code",
   "execution_count": 52,
   "metadata": {},
   "outputs": [
    {
     "data": {
      "text/plain": [
       "dtype('O')"
      ]
     },
     "execution_count": 52,
     "metadata": {},
     "output_type": "execute_result"
    }
   ],
   "source": [
    "boeing_inc['model'].dtype"
   ]
  },
  {
   "cell_type": "code",
   "execution_count": 55,
   "metadata": {},
   "outputs": [
    {
     "data": {
      "text/plain": [
       "737            0.255965\n",
       "777            0.052061\n",
       "747            0.046999\n",
       "767            0.028200\n",
       "757            0.026753\n",
       "                 ...   \n",
       "B744           0.000723\n",
       "727-31H        0.000723\n",
       "767 - 204ER    0.000723\n",
       "737-790        0.000723\n",
       "727-2Q8        0.000723\n",
       "Name: model, Length: 347, dtype: float64"
      ]
     },
     "execution_count": 55,
     "metadata": {},
     "output_type": "execute_result"
    }
   ],
   "source": [
    "boeing_inc['model'].value_counts(normalize=True)"
   ]
  },
  {
   "cell_type": "code",
   "execution_count": 56,
   "metadata": {},
   "outputs": [],
   "source": [
    "boeing_sts_model = boeing_inc[boeing_inc['model'].str.startswith(\"737\") == True]"
   ]
  },
  {
   "cell_type": "code",
   "execution_count": 57,
   "metadata": {},
   "outputs": [
    {
     "data": {
      "text/plain": [
       "737          354\n",
       "737-800       22\n",
       "737-300       22\n",
       "737-200       18\n",
       "737-400       15\n",
       "            ... \n",
       "737-932ER      1\n",
       "737-3TO        1\n",
       "737 500        1\n",
       "737-4Q8        1\n",
       "737 - 4Q8      1\n",
       "Name: model, Length: 80, dtype: int64"
      ]
     },
     "execution_count": 57,
     "metadata": {},
     "output_type": "execute_result"
    }
   ],
   "source": [
    "boeing_sts_model['model'].value_counts()"
   ]
  },
  {
   "cell_type": "markdown",
   "metadata": {},
   "source": [
    "### A lot of detail around model 737"
   ]
  },
  {
   "cell_type": "code",
   "execution_count": null,
   "metadata": {},
   "outputs": [],
   "source": []
  }
 ],
 "metadata": {
  "kernelspec": {
   "display_name": "Python (learn-env)",
   "language": "python",
   "name": "learn-env"
  },
  "language_info": {
   "codemirror_mode": {
    "name": "ipython",
    "version": 3
   },
   "file_extension": ".py",
   "mimetype": "text/x-python",
   "name": "python",
   "nbconvert_exporter": "python",
   "pygments_lexer": "ipython3",
   "version": "3.8.5"
  }
 },
 "nbformat": 4,
 "nbformat_minor": 4
}
