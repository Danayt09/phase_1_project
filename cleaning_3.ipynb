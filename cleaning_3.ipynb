{
 "cells": [
  {
   "cell_type": "code",
   "execution_count": 1,
   "metadata": {},
   "outputs": [],
   "source": [
    "import pandas as pd\n",
    "import numpy as np\n",
    "\n",
    "import seaborn as sns\n",
    "import matplotlib.pyplot as plt\n",
    "%matplotlib inline\n",
    "\n",
    "pd.set_option('display.max_rows', 50)\n",
    "pd.set_option('display.float_format', '{:.3f}'.format)"
   ]
  },
  {
   "cell_type": "code",
   "execution_count": 3,
   "metadata": {},
   "outputs": [
    {
     "data": {
      "text/plain": [
       "(88793, 22)"
      ]
     },
     "execution_count": 3,
     "metadata": {},
     "output_type": "execute_result"
    }
   ],
   "source": [
    "df = pd.read_csv('data/aviation_cleaned.csv', index_col=0)\n",
    "df.shape"
   ]
  },
  {
   "cell_type": "code",
   "execution_count": 4,
   "metadata": {},
   "outputs": [
    {
     "name": "stdout",
     "output_type": "stream",
     "text": [
      "<class 'pandas.core.frame.DataFrame'>\n",
      "Int64Index: 84140 entries, 0 to 88792\n",
      "Data columns (total 22 columns):\n",
      " #   Column                  Non-Null Count  Dtype \n",
      "---  ------                  --------------  ----- \n",
      " 0   event_id                84140 non-null  object\n",
      " 1   investigation_type      84140 non-null  object\n",
      " 2   event_date              84140 non-null  object\n",
      " 3   location                84140 non-null  object\n",
      " 4   country                 84140 non-null  object\n",
      " 5   injury_severity         84140 non-null  object\n",
      " 6   aircraft_damage         84140 non-null  object\n",
      " 7   aircraft_category       84140 non-null  object\n",
      " 8   make                    84140 non-null  object\n",
      " 9   model                   84140 non-null  object\n",
      " 10  amateur_built           84140 non-null  object\n",
      " 11  number_of_engines       84140 non-null  int64 \n",
      " 12  engine_type             84140 non-null  object\n",
      " 13  purpose_of_flight       84140 non-null  object\n",
      " 14  air_carrier             84140 non-null  object\n",
      " 15  total_fatal_injuries    84140 non-null  int64 \n",
      " 16  total_serious_injuries  84140 non-null  int64 \n",
      " 17  total_minor_injuries    84140 non-null  int64 \n",
      " 18  total_uninjured         84140 non-null  int64 \n",
      " 19  weather_condition       84140 non-null  object\n",
      " 20  broad_phase_of_flight   84140 non-null  object\n",
      " 21  report_status           84140 non-null  object\n",
      "dtypes: int64(5), object(17)\n",
      "memory usage: 14.8+ MB\n"
     ]
    }
   ],
   "source": [
    "# dropping non-airplane rows\n",
    "df = df[(df['aircraft_category'] == 'Airplane') | (df['aircraft_category'] == 'Unknown')]\n",
    "df.info()"
   ]
  },
  {
   "cell_type": "code",
   "execution_count": 7,
   "metadata": {
    "scrolled": true
   },
   "outputs": [
    {
     "data": {
      "text/plain": [
       "(30700, 23)"
      ]
     },
     "execution_count": 7,
     "metadata": {},
     "output_type": "execute_result"
    }
   ],
   "source": [
    "# create 'year' column\n",
    "df['year'] = df['event_date'].map(lambda x: int(x[:4]))\n",
    "\n",
    "# only keep last 20 years of data\n",
    "df = df[df['year'] >= 2003]\n",
    "df.shape"
   ]
  },
  {
   "cell_type": "markdown",
   "metadata": {},
   "source": [
    "# Condensing the large group of df['make'] (plane manufacturer)"
   ]
  },
  {
   "cell_type": "code",
   "execution_count": 168,
   "metadata": {},
   "outputs": [
    {
     "data": {
      "text/plain": [
       "'Total planes: 30700, Unique makes: 4146'"
      ]
     },
     "execution_count": 168,
     "metadata": {},
     "output_type": "execute_result"
    }
   ],
   "source": [
    "# too many unique makes\n",
    "(f'Total planes: {df.shape[0]}, Unique makes: {df[\"make\"].nunique()}')"
   ]
  },
  {
   "cell_type": "code",
   "execution_count": 252,
   "metadata": {},
   "outputs": [
    {
     "data": {
      "text/plain": [
       "Cessna         8723\n",
       "Piper          4910\n",
       "Beech          1853\n",
       "Boeing         1548\n",
       "Mooney          471\n",
       "Air Tractor     287\n",
       "Airbus          268\n",
       "Bellanca        265\n",
       "Name: make, dtype: int64"
      ]
     },
     "execution_count": 252,
     "metadata": {},
     "output_type": "execute_result"
    }
   ],
   "source": [
    "# 4146 plane manufacturers is simply too many to analyze\n",
    "# top 4 makes have over 1500 accidents recorded each in last 20 years\n",
    "df['make'].value_counts().head(8)"
   ]
  },
  {
   "cell_type": "code",
   "execution_count": 254,
   "metadata": {},
   "outputs": [
    {
     "data": {
      "text/plain": [
       "'Top 20 makes = 67.33% of data'"
      ]
     },
     "execution_count": 254,
     "metadata": {},
     "output_type": "execute_result"
    }
   ],
   "source": [
    "# find at what percent each make occurs in df\n",
    "norm_counts = df['make'].value_counts(normalize=True).values\n",
    "(f'Top 20 makes = {norm_counts[:20].sum() * 100:.2f}% of data')"
   ]
  },
  {
   "cell_type": "code",
   "execution_count": 262,
   "metadata": {},
   "outputs": [
    {
     "data": {
      "image/png": "[encoded data removed]",
      "text/plain": [
       "<Figure size 864x864 with 1 Axes>"
      ]
     },
     "metadata": {
      "needs_background": "light"
     },
     "output_type": "display_data"
    }
   ],
   "source": [
    "top_20_makes = df['make'].value_counts().head(20)\n",
    "\n",
    "top_20_makes.plot(kind='bar', figsize=(12,12))\n",
    "\n",
    "plt.title('Top 20 / 4146 \\'makes\\' ---> (2/3 of data)', fontsize=20)\n",
    "plt.xlabel('Index of \"make\"', fontsize=15)\n",
    "plt.ylabel('Count', fontsize=15)\n",
    "plt.show()"
   ]
  },
  {
   "cell_type": "markdown",
   "metadata": {},
   "source": [
    "# Going from top 20 -> top 4 only goes from 67% -> 55% of data"
   ]
  },
  {
   "cell_type": "code",
   "execution_count": 263,
   "metadata": {},
   "outputs": [
    {
     "data": {
      "text/plain": [
       "'Top 4 makes = 55.49% of data'"
      ]
     },
     "execution_count": 263,
     "metadata": {},
     "output_type": "execute_result"
    }
   ],
   "source": [
    "top_4_index = df['make'].value_counts().index[:4]\n",
    "top_4_values = df['make'].value_counts().values[:4]\n",
    "\n",
    "(f'Top 4 makes = {norm_counts[:4].sum() * 100:.2f}% of data')"
   ]
  },
  {
   "cell_type": "code",
   "execution_count": 264,
   "metadata": {},
   "outputs": [
    {
     "data": {
      "text/html": [
       "<div>\n",
       "<style scoped>\n",
       "    .dataframe tbody tr th:only-of-type {\n",
       "        vertical-align: middle;\n",
       "    }\n",
       "\n",
       "    .dataframe tbody tr th {\n",
       "        vertical-align: top;\n",
       "    }\n",
       "\n",
       "    .dataframe thead th {\n",
       "        text-align: right;\n",
       "    }\n",
       "</style>\n",
       "<table border=\"1\" class=\"dataframe\">\n",
       "  <thead>\n",
       "    <tr style=\"text-align: right;\">\n",
       "      <th></th>\n",
       "      <th>event_id</th>\n",
       "      <th>investigation_type</th>\n",
       "      <th>event_date</th>\n",
       "      <th>location</th>\n",
       "      <th>country</th>\n",
       "      <th>injury_severity</th>\n",
       "      <th>aircraft_damage</th>\n",
       "      <th>aircraft_category</th>\n",
       "      <th>make</th>\n",
       "      <th>model</th>\n",
       "      <th>...</th>\n",
       "      <th>purpose_of_flight</th>\n",
       "      <th>air_carrier</th>\n",
       "      <th>total_fatal_injuries</th>\n",
       "      <th>total_serious_injuries</th>\n",
       "      <th>total_minor_injuries</th>\n",
       "      <th>total_uninjured</th>\n",
       "      <th>weather_condition</th>\n",
       "      <th>broad_phase_of_flight</th>\n",
       "      <th>report_status</th>\n",
       "      <th>year</th>\n",
       "    </tr>\n",
       "  </thead>\n",
       "  <tbody>\n",
       "    <tr>\n",
       "      <th>53915</th>\n",
       "      <td>20030107X00031</td>\n",
       "      <td>Accident</td>\n",
       "      <td>2003-01-01</td>\n",
       "      <td>TUCSON, AZ</td>\n",
       "      <td>United States</td>\n",
       "      <td>Fatal(1)</td>\n",
       "      <td>Destroyed</td>\n",
       "      <td>Unknown</td>\n",
       "      <td>Beech</td>\n",
       "      <td>95</td>\n",
       "      <td>...</td>\n",
       "      <td>Personal</td>\n",
       "      <td>Unknown</td>\n",
       "      <td>1</td>\n",
       "      <td>3</td>\n",
       "      <td>0</td>\n",
       "      <td>0</td>\n",
       "      <td>VMC</td>\n",
       "      <td>Takeoff</td>\n",
       "      <td>Probable Cause</td>\n",
       "      <td>2003</td>\n",
       "    </tr>\n",
       "    <tr>\n",
       "      <th>53921</th>\n",
       "      <td>20030123X00097</td>\n",
       "      <td>Accident</td>\n",
       "      <td>2003-01-03</td>\n",
       "      <td>JESSUP, GA</td>\n",
       "      <td>United States</td>\n",
       "      <td>Non-Fatal</td>\n",
       "      <td>Substantial</td>\n",
       "      <td>Unknown</td>\n",
       "      <td>Cessna</td>\n",
       "      <td>150K</td>\n",
       "      <td>...</td>\n",
       "      <td>Personal</td>\n",
       "      <td>Unknown</td>\n",
       "      <td>0</td>\n",
       "      <td>0</td>\n",
       "      <td>0</td>\n",
       "      <td>1</td>\n",
       "      <td>VMC</td>\n",
       "      <td>Cruise</td>\n",
       "      <td>Probable Cause</td>\n",
       "      <td>2003</td>\n",
       "    </tr>\n",
       "    <tr>\n",
       "      <th>53922</th>\n",
       "      <td>20030109X00038</td>\n",
       "      <td>Accident</td>\n",
       "      <td>2003-01-03</td>\n",
       "      <td>MC ALLEN, TX</td>\n",
       "      <td>United States</td>\n",
       "      <td>Non-Fatal</td>\n",
       "      <td>Substantial</td>\n",
       "      <td>Unknown</td>\n",
       "      <td>Cessna</td>\n",
       "      <td>401</td>\n",
       "      <td>...</td>\n",
       "      <td>Personal</td>\n",
       "      <td>Unknown</td>\n",
       "      <td>0</td>\n",
       "      <td>0</td>\n",
       "      <td>0</td>\n",
       "      <td>1</td>\n",
       "      <td>VMC</td>\n",
       "      <td>Cruise</td>\n",
       "      <td>Probable Cause</td>\n",
       "      <td>2003</td>\n",
       "    </tr>\n",
       "    <tr>\n",
       "      <th>53923</th>\n",
       "      <td>20030108X00036</td>\n",
       "      <td>Accident</td>\n",
       "      <td>2003-01-03</td>\n",
       "      <td>ALTON, IL</td>\n",
       "      <td>United States</td>\n",
       "      <td>Non-Fatal</td>\n",
       "      <td>Substantial</td>\n",
       "      <td>Unknown</td>\n",
       "      <td>Cessna</td>\n",
       "      <td>182S</td>\n",
       "      <td>...</td>\n",
       "      <td>Instructional</td>\n",
       "      <td>Unknown</td>\n",
       "      <td>0</td>\n",
       "      <td>0</td>\n",
       "      <td>0</td>\n",
       "      <td>1</td>\n",
       "      <td>VMC</td>\n",
       "      <td>Takeoff</td>\n",
       "      <td>Probable Cause</td>\n",
       "      <td>2003</td>\n",
       "    </tr>\n",
       "    <tr>\n",
       "      <th>53925</th>\n",
       "      <td>20030110X00042</td>\n",
       "      <td>Accident</td>\n",
       "      <td>2003-01-03</td>\n",
       "      <td>Santo Domingo, Dominican Republic</td>\n",
       "      <td>Dominican Republic</td>\n",
       "      <td>Fatal(1)</td>\n",
       "      <td>Destroyed</td>\n",
       "      <td>Airplane</td>\n",
       "      <td>Beech</td>\n",
       "      <td>Be-60</td>\n",
       "      <td>...</td>\n",
       "      <td>Personal</td>\n",
       "      <td>Unknown</td>\n",
       "      <td>1</td>\n",
       "      <td>1</td>\n",
       "      <td>0</td>\n",
       "      <td>0</td>\n",
       "      <td>VMC</td>\n",
       "      <td>Unknown</td>\n",
       "      <td>Foreign</td>\n",
       "      <td>2003</td>\n",
       "    </tr>\n",
       "    <tr>\n",
       "      <th>...</th>\n",
       "      <td>...</td>\n",
       "      <td>...</td>\n",
       "      <td>...</td>\n",
       "      <td>...</td>\n",
       "      <td>...</td>\n",
       "      <td>...</td>\n",
       "      <td>...</td>\n",
       "      <td>...</td>\n",
       "      <td>...</td>\n",
       "      <td>...</td>\n",
       "      <td>...</td>\n",
       "      <td>...</td>\n",
       "      <td>...</td>\n",
       "      <td>...</td>\n",
       "      <td>...</td>\n",
       "      <td>...</td>\n",
       "      <td>...</td>\n",
       "      <td>...</td>\n",
       "      <td>...</td>\n",
       "      <td>...</td>\n",
       "      <td>...</td>\n",
       "    </tr>\n",
       "    <tr>\n",
       "      <th>88784</th>\n",
       "      <td>20221219106477</td>\n",
       "      <td>Accident</td>\n",
       "      <td>2022-12-18</td>\n",
       "      <td>San Manual, AZ</td>\n",
       "      <td>United States</td>\n",
       "      <td>Non-Fatal</td>\n",
       "      <td>Unknown</td>\n",
       "      <td>Unknown</td>\n",
       "      <td>Piper</td>\n",
       "      <td>Pa28</td>\n",
       "      <td>...</td>\n",
       "      <td>Personal</td>\n",
       "      <td>Chandler Air Service</td>\n",
       "      <td>0</td>\n",
       "      <td>0</td>\n",
       "      <td>0</td>\n",
       "      <td>3</td>\n",
       "      <td>Unknown</td>\n",
       "      <td>Unknown</td>\n",
       "      <td>Unknown</td>\n",
       "      <td>2022</td>\n",
       "    </tr>\n",
       "    <tr>\n",
       "      <th>88785</th>\n",
       "      <td>20221221106483</td>\n",
       "      <td>Accident</td>\n",
       "      <td>2022-12-21</td>\n",
       "      <td>Auburn Hills, MI</td>\n",
       "      <td>United States</td>\n",
       "      <td>Minor</td>\n",
       "      <td>Unknown</td>\n",
       "      <td>Unknown</td>\n",
       "      <td>Cessna</td>\n",
       "      <td>172F</td>\n",
       "      <td>...</td>\n",
       "      <td>Personal</td>\n",
       "      <td>Pilot</td>\n",
       "      <td>0</td>\n",
       "      <td>1</td>\n",
       "      <td>0</td>\n",
       "      <td>0</td>\n",
       "      <td>Unknown</td>\n",
       "      <td>Unknown</td>\n",
       "      <td>Unknown</td>\n",
       "      <td>2022</td>\n",
       "    </tr>\n",
       "    <tr>\n",
       "      <th>88788</th>\n",
       "      <td>20221227106491</td>\n",
       "      <td>Accident</td>\n",
       "      <td>2022-12-26</td>\n",
       "      <td>Annapolis, MD</td>\n",
       "      <td>United States</td>\n",
       "      <td>Minor</td>\n",
       "      <td>Unknown</td>\n",
       "      <td>Unknown</td>\n",
       "      <td>Piper</td>\n",
       "      <td>Pa-28-151</td>\n",
       "      <td>...</td>\n",
       "      <td>Personal</td>\n",
       "      <td>Unknown</td>\n",
       "      <td>0</td>\n",
       "      <td>1</td>\n",
       "      <td>0</td>\n",
       "      <td>0</td>\n",
       "      <td>Unknown</td>\n",
       "      <td>Unknown</td>\n",
       "      <td>Unknown</td>\n",
       "      <td>2022</td>\n",
       "    </tr>\n",
       "    <tr>\n",
       "      <th>88791</th>\n",
       "      <td>20221227106498</td>\n",
       "      <td>Accident</td>\n",
       "      <td>2022-12-26</td>\n",
       "      <td>Morgan, UT</td>\n",
       "      <td>United States</td>\n",
       "      <td>Unknown</td>\n",
       "      <td>Unknown</td>\n",
       "      <td>Unknown</td>\n",
       "      <td>Cessna</td>\n",
       "      <td>210N</td>\n",
       "      <td>...</td>\n",
       "      <td>Personal</td>\n",
       "      <td>MC CESSNA 210N LLC</td>\n",
       "      <td>0</td>\n",
       "      <td>0</td>\n",
       "      <td>0</td>\n",
       "      <td>0</td>\n",
       "      <td>Unknown</td>\n",
       "      <td>Unknown</td>\n",
       "      <td>Unknown</td>\n",
       "      <td>2022</td>\n",
       "    </tr>\n",
       "    <tr>\n",
       "      <th>88792</th>\n",
       "      <td>20221230106513</td>\n",
       "      <td>Accident</td>\n",
       "      <td>2022-12-29</td>\n",
       "      <td>Athens, GA</td>\n",
       "      <td>United States</td>\n",
       "      <td>Minor</td>\n",
       "      <td>Unknown</td>\n",
       "      <td>Unknown</td>\n",
       "      <td>Piper</td>\n",
       "      <td>Pa-24-260</td>\n",
       "      <td>...</td>\n",
       "      <td>Personal</td>\n",
       "      <td>Unknown</td>\n",
       "      <td>0</td>\n",
       "      <td>1</td>\n",
       "      <td>0</td>\n",
       "      <td>1</td>\n",
       "      <td>Unknown</td>\n",
       "      <td>Unknown</td>\n",
       "      <td>Unknown</td>\n",
       "      <td>2022</td>\n",
       "    </tr>\n",
       "  </tbody>\n",
       "</table>\n",
       "<p>17034 rows × 23 columns</p>\n",
       "</div>"
      ],
      "text/plain": [
       "             event_id investigation_type  event_date  \\\n",
       "53915  20030107X00031           Accident  2003-01-01   \n",
       "53921  20030123X00097           Accident  2003-01-03   \n",
       "53922  20030109X00038           Accident  2003-01-03   \n",
       "53923  20030108X00036           Accident  2003-01-03   \n",
       "53925  20030110X00042           Accident  2003-01-03   \n",
       "...               ...                ...         ...   \n",
       "88784  20221219106477           Accident  2022-12-18   \n",
       "88785  20221221106483           Accident  2022-12-21   \n",
       "88788  20221227106491           Accident  2022-12-26   \n",
       "88791  20221227106498           Accident  2022-12-26   \n",
       "88792  20221230106513           Accident  2022-12-29   \n",
       "\n",
       "                                location             country injury_severity  \\\n",
       "53915                         TUCSON, AZ       United States        Fatal(1)   \n",
       "53921                         JESSUP, GA       United States       Non-Fatal   \n",
       "53922                       MC ALLEN, TX       United States       Non-Fatal   \n",
       "53923                          ALTON, IL       United States       Non-Fatal   \n",
       "53925  Santo Domingo, Dominican Republic  Dominican Republic        Fatal(1)   \n",
       "...                                  ...                 ...             ...   \n",
       "88784                     San Manual, AZ       United States       Non-Fatal   \n",
       "88785                   Auburn Hills, MI       United States           Minor   \n",
       "88788                      Annapolis, MD       United States           Minor   \n",
       "88791                         Morgan, UT       United States         Unknown   \n",
       "88792                         Athens, GA       United States           Minor   \n",
       "\n",
       "      aircraft_damage aircraft_category    make      model  ...  \\\n",
       "53915       Destroyed           Unknown   Beech         95  ...   \n",
       "53921     Substantial           Unknown  Cessna       150K  ...   \n",
       "53922     Substantial           Unknown  Cessna        401  ...   \n",
       "53923     Substantial           Unknown  Cessna       182S  ...   \n",
       "53925       Destroyed          Airplane   Beech      Be-60  ...   \n",
       "...               ...               ...     ...        ...  ...   \n",
       "88784         Unknown           Unknown   Piper       Pa28  ...   \n",
       "88785         Unknown           Unknown  Cessna       172F  ...   \n",
       "88788         Unknown           Unknown   Piper  Pa-28-151  ...   \n",
       "88791         Unknown           Unknown  Cessna       210N  ...   \n",
       "88792         Unknown           Unknown   Piper  Pa-24-260  ...   \n",
       "\n",
       "      purpose_of_flight           air_carrier total_fatal_injuries  \\\n",
       "53915          Personal               Unknown                    1   \n",
       "53921          Personal               Unknown                    0   \n",
       "53922          Personal               Unknown                    0   \n",
       "53923     Instructional               Unknown                    0   \n",
       "53925          Personal               Unknown                    1   \n",
       "...                 ...                   ...                  ...   \n",
       "88784          Personal  Chandler Air Service                    0   \n",
       "88785          Personal                 Pilot                    0   \n",
       "88788          Personal               Unknown                    0   \n",
       "88791          Personal    MC CESSNA 210N LLC                    0   \n",
       "88792          Personal               Unknown                    0   \n",
       "\n",
       "      total_serious_injuries total_minor_injuries  total_uninjured  \\\n",
       "53915                      3                    0                0   \n",
       "53921                      0                    0                1   \n",
       "53922                      0                    0                1   \n",
       "53923                      0                    0                1   \n",
       "53925                      1                    0                0   \n",
       "...                      ...                  ...              ...   \n",
       "88784                      0                    0                3   \n",
       "88785                      1                    0                0   \n",
       "88788                      1                    0                0   \n",
       "88791                      0                    0                0   \n",
       "88792                      1                    0                1   \n",
       "\n",
       "       weather_condition  broad_phase_of_flight   report_status  year  \n",
       "53915                VMC                Takeoff  Probable Cause  2003  \n",
       "53921                VMC                 Cruise  Probable Cause  2003  \n",
       "53922                VMC                 Cruise  Probable Cause  2003  \n",
       "53923                VMC                Takeoff  Probable Cause  2003  \n",
       "53925                VMC                Unknown         Foreign  2003  \n",
       "...                  ...                    ...             ...   ...  \n",
       "88784            Unknown                Unknown         Unknown  2022  \n",
       "88785            Unknown                Unknown         Unknown  2022  \n",
       "88788            Unknown                Unknown         Unknown  2022  \n",
       "88791            Unknown                Unknown         Unknown  2022  \n",
       "88792            Unknown                Unknown         Unknown  2022  \n",
       "\n",
       "[17034 rows x 23 columns]"
      ]
     },
     "execution_count": 264,
     "metadata": {},
     "output_type": "execute_result"
    }
   ],
   "source": [
    "top_4_makes = df[df['make'].isin(top_4_index)]\n",
    "top_4_makes"
   ]
  },
  {
   "cell_type": "markdown",
   "metadata": {},
   "source": [
    "# Investigating the safety of these top 4 makes\n",
    "- avg injury severity\n",
    "- avg [fatal, serious, minor]"
   ]
  },
  {
   "cell_type": "code",
   "execution_count": 292,
   "metadata": {},
   "outputs": [
    {
     "data": {
      "text/html": [
       "<div>\n",
       "<style scoped>\n",
       "    .dataframe tbody tr th:only-of-type {\n",
       "        vertical-align: middle;\n",
       "    }\n",
       "\n",
       "    .dataframe tbody tr th {\n",
       "        vertical-align: top;\n",
       "    }\n",
       "\n",
       "    .dataframe thead th {\n",
       "        text-align: right;\n",
       "    }\n",
       "</style>\n",
       "<table border=\"1\" class=\"dataframe\">\n",
       "  <thead>\n",
       "    <tr style=\"text-align: right;\">\n",
       "      <th></th>\n",
       "      <th>make</th>\n",
       "      <th>num_flights</th>\n",
       "    </tr>\n",
       "  </thead>\n",
       "  <tbody>\n",
       "    <tr>\n",
       "      <th>0</th>\n",
       "      <td>Cessna</td>\n",
       "      <td>8723</td>\n",
       "    </tr>\n",
       "    <tr>\n",
       "      <th>1</th>\n",
       "      <td>Piper</td>\n",
       "      <td>4910</td>\n",
       "    </tr>\n",
       "    <tr>\n",
       "      <th>2</th>\n",
       "      <td>Beech</td>\n",
       "      <td>1853</td>\n",
       "    </tr>\n",
       "    <tr>\n",
       "      <th>3</th>\n",
       "      <td>Boeing</td>\n",
       "      <td>1548</td>\n",
       "    </tr>\n",
       "  </tbody>\n",
       "</table>\n",
       "</div>"
      ],
      "text/plain": [
       "     make  num_flights\n",
       "0  Cessna         8723\n",
       "1   Piper         4910\n",
       "2   Beech         1853\n",
       "3  Boeing         1548"
      ]
     },
     "execution_count": 292,
     "metadata": {},
     "output_type": "execute_result"
    }
   ],
   "source": [
    "# get counts for each of the top 9 makes\n",
    "make_counts = df['make'].value_counts()[:4].reset_index()\n",
    "make_counts.columns = ['make', 'num_flights']\n",
    "make_counts"
   ]
  },
  {
   "cell_type": "code",
   "execution_count": 298,
   "metadata": {},
   "outputs": [
    {
     "name": "stdout",
     "output_type": "stream",
     "text": [
      "Average stats for top 4 makes:\n"
     ]
    },
    {
     "data": {
      "text/html": [
       "<div>\n",
       "<style scoped>\n",
       "    .dataframe tbody tr th:only-of-type {\n",
       "        vertical-align: middle;\n",
       "    }\n",
       "\n",
       "    .dataframe tbody tr th {\n",
       "        vertical-align: top;\n",
       "    }\n",
       "\n",
       "    .dataframe thead th {\n",
       "        text-align: right;\n",
       "    }\n",
       "</style>\n",
       "<table border=\"1\" class=\"dataframe\">\n",
       "  <thead>\n",
       "    <tr style=\"text-align: right;\">\n",
       "      <th></th>\n",
       "      <th>make</th>\n",
       "      <th>avg_fatal_injuries</th>\n",
       "      <th>avg_serious_injuries</th>\n",
       "      <th>avg_minor_injuries</th>\n",
       "      <th>avg_uninjured</th>\n",
       "      <th>avg_num_engines</th>\n",
       "      <th>num_flights</th>\n",
       "    </tr>\n",
       "  </thead>\n",
       "  <tbody>\n",
       "    <tr>\n",
       "      <th>0</th>\n",
       "      <td>Beech</td>\n",
       "      <td>0.772</td>\n",
       "      <td>0.241</td>\n",
       "      <td>0.199</td>\n",
       "      <td>1.273</td>\n",
       "      <td>1.219</td>\n",
       "      <td>1853</td>\n",
       "    </tr>\n",
       "    <tr>\n",
       "      <th>1</th>\n",
       "      <td>Boeing</td>\n",
       "      <td>2.660</td>\n",
       "      <td>0.923</td>\n",
       "      <td>0.339</td>\n",
       "      <td>71.176</td>\n",
       "      <td>0.971</td>\n",
       "      <td>1548</td>\n",
       "    </tr>\n",
       "    <tr>\n",
       "      <th>2</th>\n",
       "      <td>Cessna</td>\n",
       "      <td>0.391</td>\n",
       "      <td>0.225</td>\n",
       "      <td>0.189</td>\n",
       "      <td>1.232</td>\n",
       "      <td>0.999</td>\n",
       "      <td>8723</td>\n",
       "    </tr>\n",
       "    <tr>\n",
       "      <th>3</th>\n",
       "      <td>Piper</td>\n",
       "      <td>0.450</td>\n",
       "      <td>0.207</td>\n",
       "      <td>0.185</td>\n",
       "      <td>1.106</td>\n",
       "      <td>1.053</td>\n",
       "      <td>4910</td>\n",
       "    </tr>\n",
       "  </tbody>\n",
       "</table>\n",
       "</div>"
      ],
      "text/plain": [
       "     make  avg_fatal_injuries  avg_serious_injuries  avg_minor_injuries  \\\n",
       "0   Beech               0.772                 0.241               0.199   \n",
       "1  Boeing               2.660                 0.923               0.339   \n",
       "2  Cessna               0.391                 0.225               0.189   \n",
       "3   Piper               0.450                 0.207               0.185   \n",
       "\n",
       "   avg_uninjured  avg_num_engines  num_flights  \n",
       "0          1.273            1.219         1853  \n",
       "1         71.176            0.971         1548  \n",
       "2          1.232            0.999         8723  \n",
       "3          1.106            1.053         4910  "
      ]
     },
     "execution_count": 298,
     "metadata": {},
     "output_type": "execute_result"
    }
   ],
   "source": [
    "# calculate average injuries for each unique plane\n",
    "cols = ['total_fatal_injuries', 'total_serious_injuries', 'total_minor_injuries', 'total_uninjured', 'number_of_engines']\n",
    "makes_stats = top_4_makes.groupby('make')[cols].mean().reset_index()\n",
    "\n",
    "# rename to 'avg'\n",
    "makes_stats.columns = ['make', 'avg_fatal_injuries', 'avg_serious_injuries', 'avg_minor_injuries', 'avg_uninjured', 'avg_num_engines']\n",
    "\n",
    "# merge with make_counts to add num_flights\n",
    "makes_stats = makes_stats.merge(make_counts, on='make', how='left')\n",
    "\n",
    "print('Average stats for top 4 makes:')\n",
    "makes_stats"
   ]
  },
  {
   "cell_type": "code",
   "execution_count": 299,
   "metadata": {},
   "outputs": [
    {
     "data": {
      "image/png": "[encoded data removed]",
      "text/plain": [
       "<Figure size 864x864 with 1 Axes>"
      ]
     },
     "metadata": {
      "needs_background": "light"
     },
     "output_type": "display_data"
    }
   ],
   "source": [
    "# reshape df to long format\n",
    "df_long = makes_stats.melt(id_vars='make',\n",
    "                  value_vars=['avg_fatal_injuries', 'avg_serious_injuries', 'avg_minor_injuries'],\n",
    "                  var_name='injury_type',\n",
    "                  value_name='average')\n",
    "\n",
    "\n",
    "fig, ax =plt.subplots(figsize=(12,12))\n",
    "\n",
    "sns.barplot(data=df_long, x='make', y='average', hue='injury_type', ax=ax)\n",
    "\n",
    "ax.set_title('Average Injuries per Crash', fontsize=20)\n",
    "ax.set_xlabel('Manufacturer', fontsize=15)\n",
    "ax.set_ylabel('Injuries', fontsize=15);"
   ]
  },
  {
   "cell_type": "markdown",
   "metadata": {},
   "source": [
    "### The above graphic does not take into account num_passengers per flight/accident\n",
    "\n",
    "- Boeing has highest injury counts per accident but also has highest uninjured count (by far). This means boeing planes are predominantly large, commercial vessels.\n",
    "- Cessna has lowest injury statistics per crash. Piper is close second."
   ]
  },
  {
   "cell_type": "markdown",
   "metadata": {},
   "source": [
    "# The 4 most recorded plane manufacturers (by far) in terms of accident reports are:\n",
    "\n",
    "- Cessna\n",
    "- Piper\n",
    "- Beech\n",
    "- Boeing\n",
    "\n",
    "## Goal: Find top 10 safest models per make"
   ]
  },
  {
   "cell_type": "markdown",
   "metadata": {},
   "source": [
    "# Question: How do we quantify \"safety\"? (without num_passengers)\n",
    "\n",
    "- Using avg total_injury vals\n",
    "- Low (avg_fatal or avg_serious) should up the 'safety score'. High values would lower the score.\n",
    "- Opposite is true for (avg_minor or avg_uninjured)\n",
    "- aircraft_damage is another factor"
   ]
  },
  {
   "cell_type": "code",
   "execution_count": 275,
   "metadata": {},
   "outputs": [
    {
     "data": {
      "text/plain": [
       "(17034, 23)"
      ]
     },
     "execution_count": 275,
     "metadata": {},
     "output_type": "execute_result"
    }
   ],
   "source": [
    "# new dataframe only holding 17k rows of top 4 makes\n",
    "df_top_4 = df[df['make'].isin(['Cessna', 'Piper', 'Beech', 'Boeing'])]\n",
    "df_top_4.shape"
   ]
  },
  {
   "cell_type": "code",
   "execution_count": 277,
   "metadata": {},
   "outputs": [
    {
     "data": {
      "text/plain": [
       "array(['Destroyed', 'Substantial', 'Unknown', 'Minor'], dtype=object)"
      ]
     },
     "execution_count": 277,
     "metadata": {},
     "output_type": "execute_result"
    }
   ],
   "source": [
    "df_top_4['aircraft_damage'].unique()"
   ]
  },
  {
   "cell_type": "code",
   "execution_count": 300,
   "metadata": {},
   "outputs": [
    {
     "data": {
      "text/plain": [
       "(4, 11)"
      ]
     },
     "execution_count": 300,
     "metadata": {},
     "output_type": "execute_result"
    }
   ],
   "source": [
    "# function to get normalized aircraft_damage value counts for each make\n",
    "def get_damage_distribution(make):\n",
    "    df_clean = top_4_makes[top_4_makes['make'] == make]\n",
    "    \n",
    "    return df_clean['aircraft_damage'].value_counts(normalize=True)\n",
    "\n",
    "damage_df = makes_stats['make'].apply(get_damage_distribution)\n",
    "\n",
    "# adding 4 columns showing normalized count (percent) of each category of aircraft damage\n",
    "makes_stats = pd.concat([makes_stats, damage_df], axis=1)\n",
    "makes_stats.shape"
   ]
  },
  {
   "cell_type": "code",
   "execution_count": 305,
   "metadata": {},
   "outputs": [
    {
     "data": {
      "text/html": [
       "<div>\n",
       "<style scoped>\n",
       "    .dataframe tbody tr th:only-of-type {\n",
       "        vertical-align: middle;\n",
       "    }\n",
       "\n",
       "    .dataframe tbody tr th {\n",
       "        vertical-align: top;\n",
       "    }\n",
       "\n",
       "    .dataframe thead th {\n",
       "        text-align: right;\n",
       "    }\n",
       "</style>\n",
       "<table border=\"1\" class=\"dataframe\">\n",
       "  <thead>\n",
       "    <tr style=\"text-align: right;\">\n",
       "      <th></th>\n",
       "      <th>make</th>\n",
       "      <th>num_flights</th>\n",
       "      <th>avg_fatal_injuries</th>\n",
       "      <th>avg_serious_injuries</th>\n",
       "      <th>avg_minor_injuries</th>\n",
       "      <th>avg_uninjured</th>\n",
       "      <th>Destroyed</th>\n",
       "      <th>Substantial</th>\n",
       "      <th>Minor</th>\n",
       "      <th>Unknown</th>\n",
       "    </tr>\n",
       "  </thead>\n",
       "  <tbody>\n",
       "    <tr>\n",
       "      <th>0</th>\n",
       "      <td>Beech</td>\n",
       "      <td>1853</td>\n",
       "      <td>0.772</td>\n",
       "      <td>0.241</td>\n",
       "      <td>0.199</td>\n",
       "      <td>1.273</td>\n",
       "      <td>0.209</td>\n",
       "      <td>0.740</td>\n",
       "      <td>0.026</td>\n",
       "      <td>0.024</td>\n",
       "    </tr>\n",
       "    <tr>\n",
       "      <th>1</th>\n",
       "      <td>Boeing</td>\n",
       "      <td>1548</td>\n",
       "      <td>2.660</td>\n",
       "      <td>0.923</td>\n",
       "      <td>0.339</td>\n",
       "      <td>71.176</td>\n",
       "      <td>0.041</td>\n",
       "      <td>0.225</td>\n",
       "      <td>0.248</td>\n",
       "      <td>0.485</td>\n",
       "    </tr>\n",
       "    <tr>\n",
       "      <th>2</th>\n",
       "      <td>Cessna</td>\n",
       "      <td>8723</td>\n",
       "      <td>0.391</td>\n",
       "      <td>0.225</td>\n",
       "      <td>0.189</td>\n",
       "      <td>1.232</td>\n",
       "      <td>0.117</td>\n",
       "      <td>0.848</td>\n",
       "      <td>0.014</td>\n",
       "      <td>0.021</td>\n",
       "    </tr>\n",
       "    <tr>\n",
       "      <th>3</th>\n",
       "      <td>Piper</td>\n",
       "      <td>4910</td>\n",
       "      <td>0.450</td>\n",
       "      <td>0.207</td>\n",
       "      <td>0.185</td>\n",
       "      <td>1.106</td>\n",
       "      <td>0.136</td>\n",
       "      <td>0.836</td>\n",
       "      <td>0.013</td>\n",
       "      <td>0.015</td>\n",
       "    </tr>\n",
       "  </tbody>\n",
       "</table>\n",
       "</div>"
      ],
      "text/plain": [
       "     make  num_flights  avg_fatal_injuries  avg_serious_injuries  \\\n",
       "0   Beech         1853               0.772                 0.241   \n",
       "1  Boeing         1548               2.660                 0.923   \n",
       "2  Cessna         8723               0.391                 0.225   \n",
       "3   Piper         4910               0.450                 0.207   \n",
       "\n",
       "   avg_minor_injuries  avg_uninjured  Destroyed  Substantial  Minor  Unknown  \n",
       "0               0.199          1.273      0.209        0.740  0.026    0.024  \n",
       "1               0.339         71.176      0.041        0.225  0.248    0.485  \n",
       "2               0.189          1.232      0.117        0.848  0.014    0.021  \n",
       "3               0.185          1.106      0.136        0.836  0.013    0.015  "
      ]
     },
     "execution_count": 305,
     "metadata": {},
     "output_type": "execute_result"
    }
   ],
   "source": [
    "# cleaning up makes_stats\n",
    "makes_stats = makes_stats[['make', 'num_flights', 'avg_fatal_injuries', 'avg_serious_injuries', \n",
    "                           'avg_minor_injuries', 'avg_uninjured', 'Destroyed', 'Substantial', 'Minor', 'Unknown']]\n",
    "makes_stats"
   ]
  },
  {
   "cell_type": "markdown",
   "metadata": {},
   "source": [
    "# Observations\n",
    "- Hard to judge the injury numbers without knowing avg_passenger_count. Would need to look at specific models for each make to gain this insight.\n",
    "\n",
    "- 25% of Boeing accident were classified as \"Minor\". This is much higher than the 3 private makes. Would be interested at comparing this number to __other commercial (large) planes__.\n",
    "- Beech has a 21% \"Destroyed\" rate AND a 74% \"Substantial\" rate. __Significantly worse than Cessna and Piper__.\n",
    "- Cessna and Piper are very comparable accross the board."
   ]
  },
  {
   "cell_type": "code",
   "execution_count": null,
   "metadata": {},
   "outputs": [],
   "source": []
  },
  {
   "cell_type": "code",
   "execution_count": null,
   "metadata": {},
   "outputs": [],
   "source": []
  },
  {
   "cell_type": "code",
   "execution_count": null,
   "metadata": {},
   "outputs": [],
   "source": []
  },
  {
   "cell_type": "code",
   "execution_count": null,
   "metadata": {},
   "outputs": [],
   "source": []
  },
  {
   "cell_type": "code",
   "execution_count": null,
   "metadata": {},
   "outputs": [],
   "source": []
  },
  {
   "cell_type": "markdown",
   "metadata": {},
   "source": [
    "# 3 categories of aircraft_damage:\n",
    "\n",
    "- Minor\n",
    "- Substantial\n",
    "- Destroyed"
   ]
  },
  {
   "cell_type": "code",
   "execution_count": null,
   "metadata": {},
   "outputs": [],
   "source": []
  },
  {
   "cell_type": "code",
   "execution_count": 236,
   "metadata": {},
   "outputs": [
    {
     "name": "stdout",
     "output_type": "stream",
     "text": [
      "df_Cessna shape: (8723, 23), Num of unique models: 451\n",
      "df_Piper shape: (4910, 23), Num of unique models: 373\n",
      "df_Beech shape: (1853, 23), Num of unique models: 272\n",
      "df_Boeing shape: (1548, 23), Num of unique models: 311\n"
     ]
    }
   ],
   "source": [
    "df_cessna = df_top_4[df_top_4['make'] == 'Cessna']\n",
    "df_piper = df_top_4[df_top_4['make'] == 'Piper']\n",
    "df_beech = df_top_4[df_top_4['make'] == 'Beech']\n",
    "df_boeing = df_top_4[df_top_4['make'] == 'Boeing']\n",
    "\n",
    "for df, name in zip([df_cessna, df_piper, df_beech, df_boeing], ['Cessna', 'Piper', 'Beech', 'Boeing']):\n",
    "    print(f'df_{name} shape: {df.shape}, Num of unique models: {df[\"model\"].nunique()}')"
   ]
  },
  {
   "cell_type": "code",
   "execution_count": 214,
   "metadata": {},
   "outputs": [
    {
     "data": {
      "text/plain": [
       "Substantial    0.776095\n",
       "Destroyed      0.125572\n",
       "Unknown        0.061994\n",
       "Minor          0.036339\n",
       "Name: aircraft_damage, dtype: float64"
      ]
     },
     "execution_count": 214,
     "metadata": {},
     "output_type": "execute_result"
    }
   ],
   "source": [
    "df_top_4['aircraft_damage'].value_counts(normalize=True)"
   ]
  },
  {
   "cell_type": "code",
   "execution_count": 283,
   "metadata": {},
   "outputs": [
    {
     "data": {
      "text/plain": [
       "array([0.84764416, 0.11670297, 0.02143758, 0.01421529])"
      ]
     },
     "execution_count": 283,
     "metadata": {},
     "output_type": "execute_result"
    }
   ],
   "source": [
    "df_cessna['aircraft_damage'].value_counts(normalize=True).values"
   ]
  },
  {
   "cell_type": "code",
   "execution_count": 216,
   "metadata": {},
   "outputs": [
    {
     "data": {
      "text/plain": [
       "Substantial    0.836049\n",
       "Destroyed      0.136253\n",
       "Unknown        0.015071\n",
       "Minor          0.012627\n",
       "Name: aircraft_damage, dtype: float64"
      ]
     },
     "execution_count": 216,
     "metadata": {},
     "output_type": "execute_result"
    }
   ],
   "source": [
    "df_piper['aircraft_damage'].value_counts(normalize=True)"
   ]
  },
  {
   "cell_type": "code",
   "execution_count": 217,
   "metadata": {},
   "outputs": [
    {
     "data": {
      "text/plain": [
       "Substantial    0.740421\n",
       "Destroyed      0.209390\n",
       "Minor          0.026444\n",
       "Unknown        0.023745\n",
       "Name: aircraft_damage, dtype: float64"
      ]
     },
     "execution_count": 217,
     "metadata": {},
     "output_type": "execute_result"
    }
   ],
   "source": [
    "df_beech['aircraft_damage'].value_counts(normalize=True)"
   ]
  },
  {
   "cell_type": "code",
   "execution_count": 218,
   "metadata": {},
   "outputs": [
    {
     "data": {
      "text/plain": [
       "Unknown        0.485142\n",
       "Minor          0.248062\n",
       "Substantial    0.225452\n",
       "Destroyed      0.041344\n",
       "Name: aircraft_damage, dtype: float64"
      ]
     },
     "execution_count": 218,
     "metadata": {},
     "output_type": "execute_result"
    }
   ],
   "source": [
    "df_boeing['aircraft_damage'].value_counts(normalize=True)"
   ]
  },
  {
   "cell_type": "code",
   "execution_count": 238,
   "metadata": {},
   "outputs": [
    {
     "data": {
      "text/plain": [
       "172            816\n",
       "152            381\n",
       "172S           327\n",
       "182            318\n",
       "172N           311\n",
       "              ... \n",
       "T182 - T         1\n",
       "U-206G           1\n",
       "F177Rg           1\n",
       "C175A            1\n",
       "Skyhawk 172      1\n",
       "Name: model, Length: 451, dtype: int64"
      ]
     },
     "execution_count": 238,
     "metadata": {},
     "output_type": "execute_result"
    }
   ],
   "source": [
    "df_cessna['model'].value_counts()"
   ]
  },
  {
   "cell_type": "code",
   "execution_count": null,
   "metadata": {},
   "outputs": [],
   "source": []
  }
 ],
 "metadata": {
  "kernelspec": {
   "display_name": "Python (learn-env)",
   "language": "python",
   "name": "learn-env"
  },
  "language_info": {
   "codemirror_mode": {
    "name": "ipython",
    "version": 3
   },
   "file_extension": ".py",
   "mimetype": "text/x-python",
   "name": "python",
   "nbconvert_exporter": "python",
   "pygments_lexer": "ipython3",
   "version": "3.8.5"
  }
 },
 "nbformat": 4,
 "nbformat_minor": 4
}
