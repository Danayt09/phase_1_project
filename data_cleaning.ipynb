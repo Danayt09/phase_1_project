{
 "cells": [
  {
   "cell_type": "code",
   "execution_count": 1,
   "metadata": {},
   "outputs": [],
   "source": [
    "import pandas as pd\n",
    "import numpy as np"
   ]
  },
  {
   "cell_type": "code",
   "execution_count": 2,
   "metadata": {},
   "outputs": [
    {
     "name": "stdout",
     "output_type": "stream",
     "text": [
      "Original df.shape -> (90348, 31)\n"
     ]
    }
   ],
   "source": [
    "df = pd.read_csv('data/Aviation_Data.csv', low_memory=False)\n",
    "print(f'Original df.shape -> {df.shape}')"
   ]
  },
  {
   "cell_type": "code",
   "execution_count": 3,
   "metadata": {},
   "outputs": [
    {
     "name": "stdout",
     "output_type": "stream",
     "text": [
      "Original df Null values:\n",
      "\n",
      "Event.Id                   1459\n",
      "Investigation.Type            0\n",
      "Accident.Number            1459\n",
      "Event.Date                 1459\n",
      "Location                   1511\n",
      "Country                    1685\n",
      "Latitude                  55966\n",
      "Longitude                 55975\n",
      "Airport.Code              40099\n",
      "Airport.Name              37558\n",
      "Injury.Severity            2459\n",
      "Aircraft.damage            4653\n",
      "Aircraft.Category         58061\n",
      "Registration.Number        2776\n",
      "Make                       1522\n",
      "Model                      1551\n",
      "Amateur.Built              1561\n",
      "Number.of.Engines          7543\n",
      "Engine.Type                8536\n",
      "FAR.Description           58325\n",
      "Schedule                  77766\n",
      "Purpose.of.flight          7651\n",
      "Air.carrier               73700\n",
      "Total.Fatal.Injuries      12860\n",
      "Total.Serious.Injuries    13969\n",
      "Total.Minor.Injuries      13392\n",
      "Total.Uninjured            7371\n",
      "Weather.Condition          5951\n",
      "Broad.phase.of.flight     28624\n",
      "Report.Status              7840\n",
      "Publication.Date          16689\n",
      "dtype: int64\n"
     ]
    }
   ],
   "source": [
    "print('Original df Null values:\\n')\n",
    "print(df.isna().sum())"
   ]
  },
  {
   "cell_type": "code",
   "execution_count": 4,
   "metadata": {},
   "outputs": [
    {
     "name": "stdout",
     "output_type": "stream",
     "text": [
      "After dropping non-airplanes, df.shape -> (85692, 31)\n"
     ]
    }
   ],
   "source": [
    "# replace nan Aircraft.Category values with \"Unknown\"\n",
    "df['Aircraft.Category'] = df['Aircraft.Category'].fillna('Unknown')\n",
    "\n",
    "# drop non-Airplanes\n",
    "df = df[df['Aircraft.Category'].isin(['Airplane', 'Unknown'])]\n",
    "print(f'After dropping non-airplanes, df.shape -> {df.shape}')"
   ]
  },
  {
   "cell_type": "code",
   "execution_count": 5,
   "metadata": {},
   "outputs": [
    {
     "name": "stdout",
     "output_type": "stream",
     "text": [
      "After dropping 1552 null rows, df.shape -> (84140, 31)\n"
     ]
    }
   ],
   "source": [
    "# drop null rows\n",
    "null_rows = df[df['Event.Id'].isna()]\n",
    "df = df.drop(null_rows.index)\n",
    "\n",
    "# more null rows\n",
    "null_rows_2 = df[df['Injury.Severity'] == 'Unavailable']\n",
    "df = df.drop(null_rows_2.index)\n",
    "\n",
    "print(f'After dropping {null_rows.shape[0] + null_rows_2.shape[0]} null rows, df.shape -> {df.shape}')"
   ]
  },
  {
   "cell_type": "code",
   "execution_count": 6,
   "metadata": {},
   "outputs": [],
   "source": [
    "# drop null years\n",
    "df = df.dropna(subset=['Event.Date'])\n",
    "\n",
    "# add year column, convert to int\n",
    "df['year'] = df['Event.Date'].str[:4].astype(int)\n",
    "\n",
    "# only keep data from last 20 years\n",
    "df = df[df['year'] >= 2003]"
   ]
  },
  {
   "cell_type": "code",
   "execution_count": 7,
   "metadata": {},
   "outputs": [
    {
     "data": {
      "text/plain": [
       "(30700, 19)"
      ]
     },
     "execution_count": 7,
     "metadata": {},
     "output_type": "execute_result"
    }
   ],
   "source": [
    "# drop columns we did not use\n",
    "df = df.drop(['Event.Id', 'Accident.Number', 'Latitude', 'Longitude', 'Airport.Code', 'Airport.Name', 'Registration.Number', \n",
    "              'Amateur.Built', 'FAR.Description', 'Schedule', 'Air.carrier', 'Report.Status', 'Publication.Date'], axis=1)\n",
    "\n",
    "# rename remaining columns\n",
    "df.columns = [col.strip().lower().replace('.', '_') for col in df.columns]\n",
    "df.shape"
   ]
  },
  {
   "cell_type": "code",
   "execution_count": 8,
   "metadata": {},
   "outputs": [
    {
     "name": "stdout",
     "output_type": "stream",
     "text": [
      "Cleaned df Null values:\n",
      "\n",
      "investigation_type        0\n",
      "event_date                0\n",
      "location                  0\n",
      "country                   0\n",
      "injury_severity           0\n",
      "aircraft_damage           0\n",
      "aircraft_category         0\n",
      "make                      0\n",
      "model                     0\n",
      "number_of_engines         0\n",
      "engine_type               0\n",
      "purpose_of_flight         0\n",
      "total_fatal_injuries      0\n",
      "total_serious_injuries    0\n",
      "total_minor_injuries      0\n",
      "total_uninjured           0\n",
      "weather_condition         0\n",
      "broad_phase_of_flight     0\n",
      "year                      0\n",
      "dtype: int64\n"
     ]
    }
   ],
   "source": [
    "# replace null values in numerical columns with 0\n",
    "for col in ['number_of_engines', 'total_fatal_injuries', 'total_serious_injuries',\n",
    "       'total_minor_injuries', 'total_uninjured']:\n",
    "    df[col] = df[col].fillna(0)\n",
    "    df[col] = df[col].astype(int)\n",
    "    \n",
    "# replace null values in non-numerical columns\n",
    "df = df.fillna('Unknown')\n",
    "\n",
    "print('Cleaned df Null values:\\n')\n",
    "print(df.isna().sum())"
   ]
  },
  {
   "cell_type": "code",
   "execution_count": 9,
   "metadata": {},
   "outputs": [],
   "source": [
    "# add state column\n",
    "df['state'] = df['location'].map(lambda x: x[-2:])"
   ]
  },
  {
   "cell_type": "code",
   "execution_count": 10,
   "metadata": {},
   "outputs": [],
   "source": [
    "# condense \"make\" and \"model\" columns\n",
    "\n",
    "# take first 2 words from each \"make\"\n",
    "df['make'] = df['make'].str.split().apply(lambda x: ' '.join(x[:2]) if len(x) > 1 else ' '.join(x))\n",
    "\n",
    "# remove whitespace, turn all \"makes\" and \"models\" to titlecase\n",
    "df['make'] = df['make'].str.strip().str.title()\n",
    "df['model'] = df['model'].str.strip().str.title()\n",
    "\n",
    "# remove whitespace and dashes from \"model\" column\n",
    "df['model'] = df['model'].str.replace('-', '')\n",
    "\n",
    "# create unique make_model column for each specific airplane\n",
    "df['make_model'] = df['make'] + ' ' + df['model']"
   ]
  },
  {
   "cell_type": "code",
   "execution_count": 11,
   "metadata": {},
   "outputs": [],
   "source": [
    "# remap injury_severity column to binary value\n",
    "df['injury_severity'] = df['total_fatal_injuries'].apply(lambda x: 'fatal' if x > 0 else 'non-fatal')"
   ]
  },
  {
   "cell_type": "code",
   "execution_count": 12,
   "metadata": {},
   "outputs": [
    {
     "name": "stdout",
     "output_type": "stream",
     "text": [
      "Final df.shape -> (30700, 21)\n"
     ]
    }
   ],
   "source": [
    "print(f'Final df.shape -> {df.shape}')"
   ]
  },
  {
   "cell_type": "code",
   "execution_count": 13,
   "metadata": {},
   "outputs": [],
   "source": [
    "df.to_csv('data/final.csv')"
   ]
  },
  {
   "cell_type": "code",
   "execution_count": null,
   "metadata": {},
   "outputs": [],
   "source": []
  }
 ],
 "metadata": {
  "kernelspec": {
   "display_name": "Python (learn-env)",
   "language": "python",
   "name": "learn-env"
  },
  "language_info": {
   "codemirror_mode": {
    "name": "ipython",
    "version": 3
   },
   "file_extension": ".py",
   "mimetype": "text/x-python",
   "name": "python",
   "nbconvert_exporter": "python",
   "pygments_lexer": "ipython3",
   "version": "3.8.5"
  }
 },
 "nbformat": 4,
 "nbformat_minor": 4
}
