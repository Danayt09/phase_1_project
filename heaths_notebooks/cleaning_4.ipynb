{
 "cells": [
  {
   "cell_type": "code",
   "execution_count": 1,
   "metadata": {},
   "outputs": [],
   "source": [
    "import pandas as pd\n",
    "import numpy as np\n",
    "\n",
    "import seaborn as sns\n",
    "import matplotlib.pyplot as plt\n",
    "%matplotlib inline\n",
    "\n",
    "pd.set_option('display.max_rows', 20)\n",
    "pd.set_option('display.max_columns', 30)"
   ]
  },
  {
   "cell_type": "code",
   "execution_count": 2,
   "metadata": {
    "scrolled": true
   },
   "outputs": [
    {
     "data": {
      "text/plain": [
       "(30700, 21)"
      ]
     },
     "execution_count": 2,
     "metadata": {},
     "output_type": "execute_result"
    }
   ],
   "source": [
    "df = pd.read_csv('../data/final.csv', index_col=0)\n",
    "df.shape"
   ]
  },
  {
   "cell_type": "code",
   "execution_count": 3,
   "metadata": {},
   "outputs": [
    {
     "data": {
      "text/plain": [
       "1    22856\n",
       "2     3912\n",
       "0     3762\n",
       "4      110\n",
       "3       58\n",
       "8        1\n",
       "6        1\n",
       "Name: number_of_engines, dtype: int64"
      ]
     },
     "execution_count": 3,
     "metadata": {},
     "output_type": "execute_result"
    }
   ],
   "source": [
    "df['number_of_engines'].value_counts()"
   ]
  },
  {
   "cell_type": "code",
   "execution_count": 4,
   "metadata": {},
   "outputs": [
    {
     "data": {
      "text/html": [
       "<div>\n",
       "<style scoped>\n",
       "    .dataframe tbody tr th:only-of-type {\n",
       "        vertical-align: middle;\n",
       "    }\n",
       "\n",
       "    .dataframe tbody tr th {\n",
       "        vertical-align: top;\n",
       "    }\n",
       "\n",
       "    .dataframe thead th {\n",
       "        text-align: right;\n",
       "    }\n",
       "</style>\n",
       "<table border=\"1\" class=\"dataframe\">\n",
       "  <thead>\n",
       "    <tr style=\"text-align: right;\">\n",
       "      <th>injury_severity</th>\n",
       "      <th>fatal</th>\n",
       "      <th>non-fatal</th>\n",
       "      <th>fatality_rate</th>\n",
       "    </tr>\n",
       "    <tr>\n",
       "      <th>model</th>\n",
       "      <th></th>\n",
       "      <th></th>\n",
       "      <th></th>\n",
       "    </tr>\n",
       "  </thead>\n",
       "  <tbody>\n",
       "    <tr>\n",
       "      <th>(Ex) Rv6</th>\n",
       "      <td>1</td>\n",
       "      <td>0</td>\n",
       "      <td>1.0</td>\n",
       "    </tr>\n",
       "    <tr>\n",
       "      <th>01</th>\n",
       "      <td>1</td>\n",
       "      <td>0</td>\n",
       "      <td>1.0</td>\n",
       "    </tr>\n",
       "    <tr>\n",
       "      <th>01A</th>\n",
       "      <td>0</td>\n",
       "      <td>1</td>\n",
       "      <td>0.0</td>\n",
       "    </tr>\n",
       "    <tr>\n",
       "      <th>058A</th>\n",
       "      <td>0</td>\n",
       "      <td>1</td>\n",
       "      <td>0.0</td>\n",
       "    </tr>\n",
       "    <tr>\n",
       "      <th>058B</th>\n",
       "      <td>0</td>\n",
       "      <td>3</td>\n",
       "      <td>0.0</td>\n",
       "    </tr>\n",
       "  </tbody>\n",
       "</table>\n",
       "</div>"
      ],
      "text/plain": [
       "injury_severity  fatal  non-fatal  fatality_rate\n",
       "model                                           \n",
       "(Ex) Rv6             1          0            1.0\n",
       "01                   1          0            1.0\n",
       "01A                  0          1            0.0\n",
       "058A                 0          1            0.0\n",
       "058B                 0          3            0.0"
      ]
     },
     "execution_count": 4,
     "metadata": {},
     "output_type": "execute_result"
    }
   ],
   "source": [
    "# get fatality rate for every model in our dataset\n",
    "injury_counts = df.groupby('model')['injury_severity'].value_counts().unstack(fill_value=0)\n",
    "injury_counts['fatality_rate'] = injury_counts['fatal'] / (injury_counts['fatal'] + injury_counts['non-fatal'])\n",
    "injury_counts.head()"
   ]
  },
  {
   "cell_type": "markdown",
   "metadata": {},
   "source": [
    "# Commercial comparison: Boeing vs Airbus\n",
    "- 1526 accident reports for Boeing\n",
    "- 266 accident reports for Airbus"
   ]
  },
  {
   "cell_type": "markdown",
   "metadata": {},
   "source": [
    "# Injuries per crash: Boeing v Airbus"
   ]
  },
  {
   "cell_type": "code",
   "execution_count": 48,
   "metadata": {},
   "outputs": [
    {
     "data": {
      "text/html": [
       "<div>\n",
       "<style scoped>\n",
       "    .dataframe tbody tr th:only-of-type {\n",
       "        vertical-align: middle;\n",
       "    }\n",
       "\n",
       "    .dataframe tbody tr th {\n",
       "        vertical-align: top;\n",
       "    }\n",
       "\n",
       "    .dataframe thead th {\n",
       "        text-align: right;\n",
       "    }\n",
       "</style>\n",
       "<table border=\"1\" class=\"dataframe\">\n",
       "  <thead>\n",
       "    <tr style=\"text-align: right;\">\n",
       "      <th></th>\n",
       "      <th>total_fatal_injuries</th>\n",
       "      <th>total_serious_injuries</th>\n",
       "      <th>total_minor_injuries</th>\n",
       "    </tr>\n",
       "  </thead>\n",
       "  <tbody>\n",
       "    <tr>\n",
       "      <th>0</th>\n",
       "      <td>2.660207</td>\n",
       "      <td>0.923127</td>\n",
       "      <td>0.338501</td>\n",
       "    </tr>\n",
       "  </tbody>\n",
       "</table>\n",
       "</div>"
      ],
      "text/plain": [
       "   total_fatal_injuries  total_serious_injuries  total_minor_injuries\n",
       "0              2.660207                0.923127              0.338501"
      ]
     },
     "execution_count": 48,
     "metadata": {},
     "output_type": "execute_result"
    }
   ],
   "source": [
    "boeing_rows = df[df['make'] == 'Boeing']\n",
    "\n",
    "# for plotting average injury data for boeing\n",
    "boeing_agg = boeing_rows[['total_fatal_injuries', 'total_serious_injuries', 'total_minor_injuries']].mean().to_frame().T\n",
    "boeing_agg"
   ]
  },
  {
   "cell_type": "code",
   "execution_count": 52,
   "metadata": {},
   "outputs": [
    {
     "data": {
      "text/html": [
       "<div>\n",
       "<style scoped>\n",
       "    .dataframe tbody tr th:only-of-type {\n",
       "        vertical-align: middle;\n",
       "    }\n",
       "\n",
       "    .dataframe tbody tr th {\n",
       "        vertical-align: top;\n",
       "    }\n",
       "\n",
       "    .dataframe thead th {\n",
       "        text-align: right;\n",
       "    }\n",
       "</style>\n",
       "<table border=\"1\" class=\"dataframe\">\n",
       "  <thead>\n",
       "    <tr style=\"text-align: right;\">\n",
       "      <th></th>\n",
       "      <th>index</th>\n",
       "      <th>0</th>\n",
       "    </tr>\n",
       "  </thead>\n",
       "  <tbody>\n",
       "    <tr>\n",
       "      <th>0</th>\n",
       "      <td>total_fatal_injuries</td>\n",
       "      <td>4.910448</td>\n",
       "    </tr>\n",
       "    <tr>\n",
       "      <th>1</th>\n",
       "      <td>total_serious_injuries</td>\n",
       "      <td>0.686567</td>\n",
       "    </tr>\n",
       "    <tr>\n",
       "      <th>2</th>\n",
       "      <td>total_minor_injuries</td>\n",
       "      <td>0.264925</td>\n",
       "    </tr>\n",
       "  </tbody>\n",
       "</table>\n",
       "</div>"
      ],
      "text/plain": [
       "                    index         0\n",
       "0    total_fatal_injuries  4.910448\n",
       "1  total_serious_injuries  0.686567\n",
       "2    total_minor_injuries  0.264925"
      ]
     },
     "execution_count": 52,
     "metadata": {},
     "output_type": "execute_result"
    }
   ],
   "source": [
    "airbus_rows = df[df['make'] == 'Airbus']\n",
    "\n",
    "# for plotting average injury data for boeing\n",
    "airbus_agg = airbus_rows[['total_fatal_injuries', 'total_serious_injuries', 'total_minor_injuries']].mean().to_frame().reset_index()\n",
    "airbus_agg"
   ]
  },
  {
   "cell_type": "code",
   "execution_count": 57,
   "metadata": {},
   "outputs": [
    {
     "data": {
      "text/plain": [
       "<AxesSubplot:>"
      ]
     },
     "execution_count": 57,
     "metadata": {},
     "output_type": "execute_result"
    },
    {
     "data": {
      "image/png": "[encoded data removed]",
      "text/plain": [
       "<Figure size 1008x720 with 1 Axes>"
      ]
     },
     "metadata": {
      "needs_background": "light"
     },
     "output_type": "display_data"
    }
   ],
   "source": [
    "boeing_agg.plot(figsize=(14,10), kind='bar')\n",
    "\n",
    "plt.title('Injury Severity: Boeing vs Airbus', fontsize=24)\n",
    "plt.ylabel('Count', fontsize=18)\n",
    "plt.xlabel('Injury Category', )\n",
    "plt.xticks([])  # Remove x-axis tick as there's only one group of bars\n",
    "plt.legend(title='Injury Severity')\n",
    "\n",
    "plt.show()"
   ]
  },
  {
   "cell_type": "code",
   "execution_count": null,
   "metadata": {},
   "outputs": [],
   "source": []
  },
  {
   "cell_type": "markdown",
   "metadata": {},
   "source": [
    "# Fatality rate as a manufacturer (all models): Boeing vs Airbus\n",
    "- basically the same between the two (95% non-fatal)"
   ]
  },
  {
   "cell_type": "code",
   "execution_count": 7,
   "metadata": {},
   "outputs": [
    {
     "name": "stdout",
     "output_type": "stream",
     "text": [
      "count of boeing_rows: 1548\n",
      "\n",
      "Fatality-rate:\n"
     ]
    },
    {
     "data": {
      "text/plain": [
       "non-fatal    0.956072\n",
       "fatal        0.043928\n",
       "Name: injury_severity, dtype: float64"
      ]
     },
     "execution_count": 7,
     "metadata": {},
     "output_type": "execute_result"
    }
   ],
   "source": [
    "boeing_fatality = boeing_rows['injury_severity'].value_counts(normalize=True)\n",
    "print(f'count of boeing_rows: {boeing_rows.shape[0]}\\n\\nFatality-rate:')\n",
    "boeing_fatality"
   ]
  },
  {
   "cell_type": "markdown",
   "metadata": {},
   "source": [
    "### 'Reciprocating' engine type seems to have noticeably higher fatality rate. Does not support Boeing arg"
   ]
  },
  {
   "cell_type": "code",
   "execution_count": 8,
   "metadata": {},
   "outputs": [
    {
     "data": {
      "text/plain": [
       "non-fatal    0.895652\n",
       "fatal        0.104348\n",
       "Name: injury_severity, dtype: float64"
      ]
     },
     "execution_count": 8,
     "metadata": {},
     "output_type": "execute_result"
    }
   ],
   "source": [
    "reciprocating = boeing_rows[boeing_rows['engine_type'] == 'Reciprocating']['injury_severity'].value_counts(normalize=True)\n",
    "reciprocating"
   ]
  },
  {
   "cell_type": "code",
   "execution_count": 9,
   "metadata": {},
   "outputs": [
    {
     "name": "stdout",
     "output_type": "stream",
     "text": [
      "count of airbus_rows: 268\n",
      "\n",
      "Fatality-rate:\n"
     ]
    },
    {
     "data": {
      "text/plain": [
       "non-fatal    0.955224\n",
       "fatal        0.044776\n",
       "Name: injury_severity, dtype: float64"
      ]
     },
     "execution_count": 9,
     "metadata": {},
     "output_type": "execute_result"
    }
   ],
   "source": [
    "airbus_fatality = airbus_rows['injury_severity'].value_counts(normalize=True)\n",
    "print(f'count of airbus_rows: {airbus_rows.shape[0]}\\n\\nFatality-rate:')\n",
    "airbus_fatality"
   ]
  },
  {
   "cell_type": "markdown",
   "metadata": {},
   "source": [
    "# top 5 Boeing planes vs top 5 Airbus planes\n",
    "\n",
    "- 97% of Boeing crashes are non-fatal\n",
    "- 95% of Airbus crashes are non-fatal"
   ]
  },
  {
   "cell_type": "code",
   "execution_count": 10,
   "metadata": {},
   "outputs": [
    {
     "data": {
      "text/plain": [
       "non-fatal    0.974633\n",
       "fatal        0.025367\n",
       "Name: injury_severity, dtype: float64"
      ]
     },
     "execution_count": 10,
     "metadata": {},
     "output_type": "execute_result"
    }
   ],
   "source": [
    "names = boeing_rows['model'].value_counts().index[:5]\n",
    "top_5_boeing_models  = df[df['model'].isin(names)]\n",
    "top_5_boeing_models['injury_severity'].value_counts(normalize=True)"
   ]
  },
  {
   "cell_type": "code",
   "execution_count": 11,
   "metadata": {},
   "outputs": [
    {
     "data": {
      "text/plain": [
       "non-fatal    0.955056\n",
       "fatal        0.044944\n",
       "Name: injury_severity, dtype: float64"
      ]
     },
     "execution_count": 11,
     "metadata": {},
     "output_type": "execute_result"
    }
   ],
   "source": [
    "names = airbus_rows['model'].value_counts().index[:5]\n",
    "top_5_airbus_models  = df[df['model'].isin(names)]\n",
    "top_5_airbus_models['injury_severity'].value_counts(normalize=True)"
   ]
  },
  {
   "cell_type": "markdown",
   "metadata": {},
   "source": [
    "## Look at fatality rates of those specific models"
   ]
  },
  {
   "cell_type": "code",
   "execution_count": 12,
   "metadata": {},
   "outputs": [
    {
     "data": {
      "text/html": [
       "<div>\n",
       "<style scoped>\n",
       "    .dataframe tbody tr th:only-of-type {\n",
       "        vertical-align: middle;\n",
       "    }\n",
       "\n",
       "    .dataframe tbody tr th {\n",
       "        vertical-align: top;\n",
       "    }\n",
       "\n",
       "    .dataframe thead th {\n",
       "        text-align: right;\n",
       "    }\n",
       "</style>\n",
       "<table border=\"1\" class=\"dataframe\">\n",
       "  <thead>\n",
       "    <tr style=\"text-align: right;\">\n",
       "      <th></th>\n",
       "      <th>make</th>\n",
       "      <th>model</th>\n",
       "      <th>count</th>\n",
       "      <th>fatality_rate</th>\n",
       "    </tr>\n",
       "  </thead>\n",
       "  <tbody>\n",
       "    <tr>\n",
       "      <th>3</th>\n",
       "      <td>Boeing</td>\n",
       "      <td>767</td>\n",
       "      <td>59</td>\n",
       "      <td>0.016949</td>\n",
       "    </tr>\n",
       "    <tr>\n",
       "      <th>1</th>\n",
       "      <td>Boeing</td>\n",
       "      <td>747</td>\n",
       "      <td>75</td>\n",
       "      <td>0.026667</td>\n",
       "    </tr>\n",
       "    <tr>\n",
       "      <th>0</th>\n",
       "      <td>Boeing</td>\n",
       "      <td>737</td>\n",
       "      <td>477</td>\n",
       "      <td>0.033543</td>\n",
       "    </tr>\n",
       "  </tbody>\n",
       "</table>\n",
       "</div>"
      ],
      "text/plain": [
       "     make model  count  fatality_rate\n",
       "3  Boeing   767     59       0.016949\n",
       "1  Boeing   747     75       0.026667\n",
       "0  Boeing   737    477       0.033543"
      ]
     },
     "execution_count": 12,
     "metadata": {},
     "output_type": "execute_result"
    }
   ],
   "source": [
    "top_5_boeing_stats = top_5_boeing_models.groupby(['make', 'model']).size().reset_index(name='count')\n",
    "top_5_boeing_stats = top_5_boeing_stats.merge(injury_counts['fatality_rate'], left_on='model', how='left', right_index=True)\n",
    "top_3_boeing_stats = top_5_boeing_stats[top_5_boeing_stats['fatality_rate'] != 0].sort_values(by='fatality_rate')\n",
    "top_3_boeing_stats"
   ]
  },
  {
   "cell_type": "code",
   "execution_count": 13,
   "metadata": {},
   "outputs": [
    {
     "data": {
      "text/html": [
       "<div>\n",
       "<style scoped>\n",
       "    .dataframe tbody tr th:only-of-type {\n",
       "        vertical-align: middle;\n",
       "    }\n",
       "\n",
       "    .dataframe tbody tr th {\n",
       "        vertical-align: top;\n",
       "    }\n",
       "\n",
       "    .dataframe thead th {\n",
       "        text-align: right;\n",
       "    }\n",
       "</style>\n",
       "<table border=\"1\" class=\"dataframe\">\n",
       "  <thead>\n",
       "    <tr style=\"text-align: right;\">\n",
       "      <th></th>\n",
       "      <th>model</th>\n",
       "      <th>make</th>\n",
       "      <th>count</th>\n",
       "      <th>fatality_rate</th>\n",
       "    </tr>\n",
       "  </thead>\n",
       "  <tbody>\n",
       "    <tr>\n",
       "      <th>0</th>\n",
       "      <td>A320</td>\n",
       "      <td>Airbus</td>\n",
       "      <td>93</td>\n",
       "      <td>0.043011</td>\n",
       "    </tr>\n",
       "    <tr>\n",
       "      <th>2</th>\n",
       "      <td>A330</td>\n",
       "      <td>Airbus</td>\n",
       "      <td>37</td>\n",
       "      <td>0.054054</td>\n",
       "    </tr>\n",
       "    <tr>\n",
       "      <th>1</th>\n",
       "      <td>A321</td>\n",
       "      <td>Airbus</td>\n",
       "      <td>20</td>\n",
       "      <td>0.100000</td>\n",
       "    </tr>\n",
       "  </tbody>\n",
       "</table>\n",
       "</div>"
      ],
      "text/plain": [
       "  model    make  count  fatality_rate\n",
       "0  A320  Airbus     93       0.043011\n",
       "2  A330  Airbus     37       0.054054\n",
       "1  A321  Airbus     20       0.100000"
      ]
     },
     "execution_count": 13,
     "metadata": {},
     "output_type": "execute_result"
    }
   ],
   "source": [
    "top_5_airbus_stats = top_5_airbus_models.groupby(['make', 'model']).size().reset_index(name='count')\n",
    "top_5_airbus_stats = top_5_airbus_stats.merge(injury_counts['fatality_rate'], left_on='model', how='left', right_index=True)\n",
    "top_3_airbus_stats = top_5_airbus_stats[top_5_airbus_stats['fatality_rate'] != 0]\n",
    "\n",
    "# combine bottom 3 (duplicate) models -> agg takes dict {col : kwarg}\n",
    "top_3_airbus_stats = top_3_airbus_stats.groupby('model').agg({'make': 'first',\n",
    "                                                              'count': 'sum',\n",
    "                                                              'fatality_rate': 'mean'}).reset_index().sort_values(by='fatality_rate')\n",
    "\n",
    "top_3_airbus_stats"
   ]
  },
  {
   "cell_type": "code",
   "execution_count": 14,
   "metadata": {},
   "outputs": [
    {
     "data": {
      "image/png": "[encoded data removed]",
      "text/plain": [
       "<Figure size 1080x360 with 2 Axes>"
      ]
     },
     "metadata": {
      "needs_background": "light"
     },
     "output_type": "display_data"
    }
   ],
   "source": [
    "fig, axes = plt.subplots(1, 2, figsize=(15,5))\n",
    "\n",
    "locations = [0, 0.02, 0.04, 0.06, 0.08, 0.1]\n",
    "labels = ['0%', '2%', '4%', '6%', '8%', '10%']\n",
    "\n",
    "sns.barplot(data=top_3_boeing_stats, x='model', y='fatality_rate', ax=axes[0], color='blue')\n",
    "axes[0].set_title('Boeing', fontsize=18)\n",
    "axes[0].set_xlabel('Model', fontsize=18)\n",
    "axes[0].set_ylabel('Fatality Rate', fontsize=18)\n",
    "\n",
    "axes[0].set_yticks(locations)\n",
    "axes[0].set_yticklabels(labels)\n",
    "\n",
    "sns.barplot(data=top_3_airbus_stats, x='model', y='fatality_rate', ax=axes[1], color='orange')\n",
    "axes[1].set_title('Airbus', fontsize=18)\n",
    "axes[1].set_xlabel('Model', fontsize=18)\n",
    "axes[1].set_ylabel('')\n",
    "\n",
    "axes[1].set_yticks(locations)\n",
    "axes[1].set_yticklabels(labels)\n",
    "\n",
    "fig.suptitle('Fatality Rates', fontsize=24)\n",
    "\n",
    "plt.tight_layout()\n",
    "\n",
    "# plt.savefig('plots/boeing_vs_airbus.jpg');"
   ]
  },
  {
   "cell_type": "code",
   "execution_count": 15,
   "metadata": {},
   "outputs": [
    {
     "data": {
      "text/html": [
       "<div>\n",
       "<style scoped>\n",
       "    .dataframe tbody tr th:only-of-type {\n",
       "        vertical-align: middle;\n",
       "    }\n",
       "\n",
       "    .dataframe tbody tr th {\n",
       "        vertical-align: top;\n",
       "    }\n",
       "\n",
       "    .dataframe thead th {\n",
       "        text-align: right;\n",
       "    }\n",
       "</style>\n",
       "<table border=\"1\" class=\"dataframe\">\n",
       "  <thead>\n",
       "    <tr style=\"text-align: right;\">\n",
       "      <th></th>\n",
       "      <th>make</th>\n",
       "      <th>model</th>\n",
       "      <th>count</th>\n",
       "      <th>fatality_rate</th>\n",
       "      <th>make_model</th>\n",
       "      <th>num_seats</th>\n",
       "      <th>total_fatal_injuries</th>\n",
       "      <th>total_serious_injuries</th>\n",
       "      <th>total_minor_injuries</th>\n",
       "      <th>total_uninjured</th>\n",
       "      <th>avg_fatal_injuries</th>\n",
       "      <th>avg_serious_injuries</th>\n",
       "      <th>avg_minor_injuries</th>\n",
       "      <th>avg_uninjured</th>\n",
       "      <th>Substantial</th>\n",
       "      <th>Destroyed</th>\n",
       "      <th>Unknown</th>\n",
       "      <th>Minor</th>\n",
       "    </tr>\n",
       "  </thead>\n",
       "  <tbody>\n",
       "    <tr>\n",
       "      <th>6082</th>\n",
       "      <td>Piper</td>\n",
       "      <td>Pa34</td>\n",
       "      <td>60</td>\n",
       "      <td>0.516667</td>\n",
       "      <td>Piper Pa34</td>\n",
       "      <td>6</td>\n",
       "      <td>73</td>\n",
       "      <td>19</td>\n",
       "      <td>11</td>\n",
       "      <td>52</td>\n",
       "      <td>1.216667</td>\n",
       "      <td>0.316667</td>\n",
       "      <td>0.183333</td>\n",
       "      <td>0.866667</td>\n",
       "      <td>0.683333</td>\n",
       "      <td>0.250000</td>\n",
       "      <td>0.050000</td>\n",
       "      <td>0.016667</td>\n",
       "    </tr>\n",
       "    <tr>\n",
       "      <th>5987</th>\n",
       "      <td>Piper</td>\n",
       "      <td>Pa23250</td>\n",
       "      <td>64</td>\n",
       "      <td>0.562500</td>\n",
       "      <td>Piper Pa23250</td>\n",
       "      <td>5</td>\n",
       "      <td>81</td>\n",
       "      <td>7</td>\n",
       "      <td>11</td>\n",
       "      <td>58</td>\n",
       "      <td>1.265625</td>\n",
       "      <td>0.109375</td>\n",
       "      <td>0.171875</td>\n",
       "      <td>0.906250</td>\n",
       "      <td>0.671875</td>\n",
       "      <td>0.312500</td>\n",
       "      <td>0.000000</td>\n",
       "      <td>0.015625</td>\n",
       "    </tr>\n",
       "    <tr>\n",
       "      <th>835</th>\n",
       "      <td>Beech</td>\n",
       "      <td>58</td>\n",
       "      <td>85</td>\n",
       "      <td>0.563830</td>\n",
       "      <td>Beech 58</td>\n",
       "      <td>6</td>\n",
       "      <td>111</td>\n",
       "      <td>13</td>\n",
       "      <td>8</td>\n",
       "      <td>93</td>\n",
       "      <td>1.305882</td>\n",
       "      <td>0.152941</td>\n",
       "      <td>0.094118</td>\n",
       "      <td>1.094118</td>\n",
       "      <td>0.691489</td>\n",
       "      <td>0.255319</td>\n",
       "      <td>0.010638</td>\n",
       "      <td>0.042553</td>\n",
       "    </tr>\n",
       "    <tr>\n",
       "      <th>6569</th>\n",
       "      <td>Robinson</td>\n",
       "      <td>R44</td>\n",
       "      <td>62</td>\n",
       "      <td>0.575758</td>\n",
       "      <td>Robinson R44</td>\n",
       "      <td>4</td>\n",
       "      <td>83</td>\n",
       "      <td>26</td>\n",
       "      <td>13</td>\n",
       "      <td>38</td>\n",
       "      <td>1.338710</td>\n",
       "      <td>0.419355</td>\n",
       "      <td>0.209677</td>\n",
       "      <td>0.612903</td>\n",
       "      <td>0.469697</td>\n",
       "      <td>0.469697</td>\n",
       "      <td>0.060606</td>\n",
       "      <td>0.000000</td>\n",
       "    </tr>\n",
       "    <tr>\n",
       "      <th>6084</th>\n",
       "      <td>Piper</td>\n",
       "      <td>Pa34200T</td>\n",
       "      <td>56</td>\n",
       "      <td>0.607143</td>\n",
       "      <td>Piper Pa34200T</td>\n",
       "      <td>6</td>\n",
       "      <td>48</td>\n",
       "      <td>7</td>\n",
       "      <td>5</td>\n",
       "      <td>55</td>\n",
       "      <td>0.857143</td>\n",
       "      <td>0.125000</td>\n",
       "      <td>0.089286</td>\n",
       "      <td>0.982143</td>\n",
       "      <td>0.535714</td>\n",
       "      <td>0.410714</td>\n",
       "      <td>0.053571</td>\n",
       "      <td>0.000000</td>\n",
       "    </tr>\n",
       "    <tr>\n",
       "      <th>...</th>\n",
       "      <td>...</td>\n",
       "      <td>...</td>\n",
       "      <td>...</td>\n",
       "      <td>...</td>\n",
       "      <td>...</td>\n",
       "      <td>...</td>\n",
       "      <td>...</td>\n",
       "      <td>...</td>\n",
       "      <td>...</td>\n",
       "      <td>...</td>\n",
       "      <td>...</td>\n",
       "      <td>...</td>\n",
       "      <td>...</td>\n",
       "      <td>...</td>\n",
       "      <td>...</td>\n",
       "      <td>...</td>\n",
       "      <td>...</td>\n",
       "      <td>...</td>\n",
       "    </tr>\n",
       "    <tr>\n",
       "      <th>2022</th>\n",
       "      <td>Cessna</td>\n",
       "      <td>182A</td>\n",
       "      <td>59</td>\n",
       "      <td>0.966102</td>\n",
       "      <td>Cessna 182A</td>\n",
       "      <td>4</td>\n",
       "      <td>5</td>\n",
       "      <td>20</td>\n",
       "      <td>15</td>\n",
       "      <td>70</td>\n",
       "      <td>0.084746</td>\n",
       "      <td>0.338983</td>\n",
       "      <td>0.254237</td>\n",
       "      <td>1.186441</td>\n",
       "      <td>0.966102</td>\n",
       "      <td>0.033898</td>\n",
       "      <td>0.000000</td>\n",
       "      <td>0.000000</td>\n",
       "    </tr>\n",
       "    <tr>\n",
       "      <th>1248</th>\n",
       "      <td>Boeing</td>\n",
       "      <td>737</td>\n",
       "      <td>477</td>\n",
       "      <td>0.966457</td>\n",
       "      <td>Boeing 737</td>\n",
       "      <td>149</td>\n",
       "      <td>1348</td>\n",
       "      <td>383</td>\n",
       "      <td>84</td>\n",
       "      <td>24525</td>\n",
       "      <td>2.825996</td>\n",
       "      <td>0.802935</td>\n",
       "      <td>0.176101</td>\n",
       "      <td>51.415094</td>\n",
       "      <td>0.142558</td>\n",
       "      <td>0.031447</td>\n",
       "      <td>0.566038</td>\n",
       "      <td>0.259958</td>\n",
       "    </tr>\n",
       "    <tr>\n",
       "      <th>1335</th>\n",
       "      <td>Boeing</td>\n",
       "      <td>747</td>\n",
       "      <td>75</td>\n",
       "      <td>0.973333</td>\n",
       "      <td>Boeing 747</td>\n",
       "      <td>416</td>\n",
       "      <td>6</td>\n",
       "      <td>72</td>\n",
       "      <td>6</td>\n",
       "      <td>2478</td>\n",
       "      <td>0.080000</td>\n",
       "      <td>0.960000</td>\n",
       "      <td>0.080000</td>\n",
       "      <td>33.040000</td>\n",
       "      <td>0.146667</td>\n",
       "      <td>0.026667</td>\n",
       "      <td>0.386667</td>\n",
       "      <td>0.440000</td>\n",
       "    </tr>\n",
       "    <tr>\n",
       "      <th>1397</th>\n",
       "      <td>Boeing</td>\n",
       "      <td>767</td>\n",
       "      <td>59</td>\n",
       "      <td>0.983051</td>\n",
       "      <td>Boeing 767</td>\n",
       "      <td>181</td>\n",
       "      <td>3</td>\n",
       "      <td>64</td>\n",
       "      <td>19</td>\n",
       "      <td>5591</td>\n",
       "      <td>0.050847</td>\n",
       "      <td>1.084746</td>\n",
       "      <td>0.322034</td>\n",
       "      <td>94.762712</td>\n",
       "      <td>0.186441</td>\n",
       "      <td>0.033898</td>\n",
       "      <td>0.525424</td>\n",
       "      <td>0.254237</td>\n",
       "    </tr>\n",
       "    <tr>\n",
       "      <th>1433</th>\n",
       "      <td>Boeing</td>\n",
       "      <td>777</td>\n",
       "      <td>91</td>\n",
       "      <td>1.000000</td>\n",
       "      <td>Boeing 777</td>\n",
       "      <td>314</td>\n",
       "      <td>0</td>\n",
       "      <td>27</td>\n",
       "      <td>23</td>\n",
       "      <td>9414</td>\n",
       "      <td>0.000000</td>\n",
       "      <td>0.296703</td>\n",
       "      <td>0.252747</td>\n",
       "      <td>103.450549</td>\n",
       "      <td>0.109890</td>\n",
       "      <td>0.010989</td>\n",
       "      <td>0.560440</td>\n",
       "      <td>0.318681</td>\n",
       "    </tr>\n",
       "  </tbody>\n",
       "</table>\n",
       "<p>100 rows × 18 columns</p>\n",
       "</div>"
      ],
      "text/plain": [
       "          make     model  count  fatality_rate      make_model  num_seats  \\\n",
       "6082     Piper      Pa34     60       0.516667      Piper Pa34          6   \n",
       "5987     Piper   Pa23250     64       0.562500   Piper Pa23250          5   \n",
       "835      Beech        58     85       0.563830        Beech 58          6   \n",
       "6569  Robinson       R44     62       0.575758    Robinson R44          4   \n",
       "6084     Piper  Pa34200T     56       0.607143  Piper Pa34200T          6   \n",
       "...        ...       ...    ...            ...             ...        ...   \n",
       "2022    Cessna      182A     59       0.966102     Cessna 182A          4   \n",
       "1248    Boeing       737    477       0.966457      Boeing 737        149   \n",
       "1335    Boeing       747     75       0.973333      Boeing 747        416   \n",
       "1397    Boeing       767     59       0.983051      Boeing 767        181   \n",
       "1433    Boeing       777     91       1.000000      Boeing 777        314   \n",
       "\n",
       "      total_fatal_injuries  total_serious_injuries  total_minor_injuries  \\\n",
       "6082                    73                      19                    11   \n",
       "5987                    81                       7                    11   \n",
       "835                    111                      13                     8   \n",
       "6569                    83                      26                    13   \n",
       "6084                    48                       7                     5   \n",
       "...                    ...                     ...                   ...   \n",
       "2022                     5                      20                    15   \n",
       "1248                  1348                     383                    84   \n",
       "1335                     6                      72                     6   \n",
       "1397                     3                      64                    19   \n",
       "1433                     0                      27                    23   \n",
       "\n",
       "      total_uninjured  avg_fatal_injuries  avg_serious_injuries  \\\n",
       "6082               52            1.216667              0.316667   \n",
       "5987               58            1.265625              0.109375   \n",
       "835                93            1.305882              0.152941   \n",
       "6569               38            1.338710              0.419355   \n",
       "6084               55            0.857143              0.125000   \n",
       "...               ...                 ...                   ...   \n",
       "2022               70            0.084746              0.338983   \n",
       "1248            24525            2.825996              0.802935   \n",
       "1335             2478            0.080000              0.960000   \n",
       "1397             5591            0.050847              1.084746   \n",
       "1433             9414            0.000000              0.296703   \n",
       "\n",
       "      avg_minor_injuries  avg_uninjured  Substantial  Destroyed   Unknown  \\\n",
       "6082            0.183333       0.866667     0.683333   0.250000  0.050000   \n",
       "5987            0.171875       0.906250     0.671875   0.312500  0.000000   \n",
       "835             0.094118       1.094118     0.691489   0.255319  0.010638   \n",
       "6569            0.209677       0.612903     0.469697   0.469697  0.060606   \n",
       "6084            0.089286       0.982143     0.535714   0.410714  0.053571   \n",
       "...                  ...            ...          ...        ...       ...   \n",
       "2022            0.254237       1.186441     0.966102   0.033898  0.000000   \n",
       "1248            0.176101      51.415094     0.142558   0.031447  0.566038   \n",
       "1335            0.080000      33.040000     0.146667   0.026667  0.386667   \n",
       "1397            0.322034      94.762712     0.186441   0.033898  0.525424   \n",
       "1433            0.252747     103.450549     0.109890   0.010989  0.560440   \n",
       "\n",
       "         Minor  \n",
       "6082  0.016667  \n",
       "5987  0.015625  \n",
       "835   0.042553  \n",
       "6569  0.000000  \n",
       "6084  0.000000  \n",
       "...        ...  \n",
       "2022  0.000000  \n",
       "1248  0.259958  \n",
       "1335  0.440000  \n",
       "1397  0.254237  \n",
       "1433  0.318681  \n",
       "\n",
       "[100 rows x 18 columns]"
      ]
     },
     "execution_count": 15,
     "metadata": {},
     "output_type": "execute_result"
    }
   ],
   "source": [
    "# the top 100 models with the most accident reports\n",
    "top_100 = pd.read_csv('../data/top_100_models.csv', index_col=0)\n",
    "top_100"
   ]
  },
  {
   "cell_type": "code",
   "execution_count": 16,
   "metadata": {},
   "outputs": [
    {
     "data": {
      "text/html": [
       "<div>\n",
       "<style scoped>\n",
       "    .dataframe tbody tr th:only-of-type {\n",
       "        vertical-align: middle;\n",
       "    }\n",
       "\n",
       "    .dataframe tbody tr th {\n",
       "        vertical-align: top;\n",
       "    }\n",
       "\n",
       "    .dataframe thead th {\n",
       "        text-align: right;\n",
       "    }\n",
       "</style>\n",
       "<table border=\"1\" class=\"dataframe\">\n",
       "  <thead>\n",
       "    <tr style=\"text-align: right;\">\n",
       "      <th></th>\n",
       "      <th>make</th>\n",
       "      <th>model</th>\n",
       "      <th>count</th>\n",
       "      <th>fatality_rate</th>\n",
       "      <th>make_model</th>\n",
       "      <th>num_seats</th>\n",
       "      <th>total_fatal_injuries</th>\n",
       "      <th>total_serious_injuries</th>\n",
       "      <th>total_minor_injuries</th>\n",
       "      <th>total_uninjured</th>\n",
       "      <th>avg_fatal_injuries</th>\n",
       "      <th>avg_serious_injuries</th>\n",
       "      <th>avg_minor_injuries</th>\n",
       "      <th>avg_uninjured</th>\n",
       "      <th>Substantial</th>\n",
       "      <th>Destroyed</th>\n",
       "      <th>Unknown</th>\n",
       "      <th>Minor</th>\n",
       "    </tr>\n",
       "  </thead>\n",
       "  <tbody>\n",
       "    <tr>\n",
       "      <th>1248</th>\n",
       "      <td>Boeing</td>\n",
       "      <td>737</td>\n",
       "      <td>477</td>\n",
       "      <td>0.966457</td>\n",
       "      <td>Boeing 737</td>\n",
       "      <td>149</td>\n",
       "      <td>1348</td>\n",
       "      <td>383</td>\n",
       "      <td>84</td>\n",
       "      <td>24525</td>\n",
       "      <td>2.825996</td>\n",
       "      <td>0.802935</td>\n",
       "      <td>0.176101</td>\n",
       "      <td>51.415094</td>\n",
       "      <td>0.142558</td>\n",
       "      <td>0.031447</td>\n",
       "      <td>0.566038</td>\n",
       "      <td>0.259958</td>\n",
       "    </tr>\n",
       "    <tr>\n",
       "      <th>320</th>\n",
       "      <td>Airbus</td>\n",
       "      <td>A320</td>\n",
       "      <td>85</td>\n",
       "      <td>0.956989</td>\n",
       "      <td>Airbus A320</td>\n",
       "      <td>150</td>\n",
       "      <td>283</td>\n",
       "      <td>11</td>\n",
       "      <td>13</td>\n",
       "      <td>4457</td>\n",
       "      <td>3.329412</td>\n",
       "      <td>0.129412</td>\n",
       "      <td>0.152941</td>\n",
       "      <td>52.435294</td>\n",
       "      <td>0.043011</td>\n",
       "      <td>0.043011</td>\n",
       "      <td>0.795699</td>\n",
       "      <td>0.118280</td>\n",
       "    </tr>\n",
       "    <tr>\n",
       "      <th>1397</th>\n",
       "      <td>Boeing</td>\n",
       "      <td>767</td>\n",
       "      <td>59</td>\n",
       "      <td>0.983051</td>\n",
       "      <td>Boeing 767</td>\n",
       "      <td>181</td>\n",
       "      <td>3</td>\n",
       "      <td>64</td>\n",
       "      <td>19</td>\n",
       "      <td>5591</td>\n",
       "      <td>0.050847</td>\n",
       "      <td>1.084746</td>\n",
       "      <td>0.322034</td>\n",
       "      <td>94.762712</td>\n",
       "      <td>0.186441</td>\n",
       "      <td>0.033898</td>\n",
       "      <td>0.525424</td>\n",
       "      <td>0.254237</td>\n",
       "    </tr>\n",
       "    <tr>\n",
       "      <th>1335</th>\n",
       "      <td>Boeing</td>\n",
       "      <td>747</td>\n",
       "      <td>75</td>\n",
       "      <td>0.973333</td>\n",
       "      <td>Boeing 747</td>\n",
       "      <td>416</td>\n",
       "      <td>6</td>\n",
       "      <td>72</td>\n",
       "      <td>6</td>\n",
       "      <td>2478</td>\n",
       "      <td>0.080000</td>\n",
       "      <td>0.960000</td>\n",
       "      <td>0.080000</td>\n",
       "      <td>33.040000</td>\n",
       "      <td>0.146667</td>\n",
       "      <td>0.026667</td>\n",
       "      <td>0.386667</td>\n",
       "      <td>0.440000</td>\n",
       "    </tr>\n",
       "  </tbody>\n",
       "</table>\n",
       "</div>"
      ],
      "text/plain": [
       "        make model  count  fatality_rate   make_model  num_seats  \\\n",
       "1248  Boeing   737    477       0.966457   Boeing 737        149   \n",
       "320   Airbus  A320     85       0.956989  Airbus A320        150   \n",
       "1397  Boeing   767     59       0.983051   Boeing 767        181   \n",
       "1335  Boeing   747     75       0.973333   Boeing 747        416   \n",
       "\n",
       "      total_fatal_injuries  total_serious_injuries  total_minor_injuries  \\\n",
       "1248                  1348                     383                    84   \n",
       "320                    283                      11                    13   \n",
       "1397                     3                      64                    19   \n",
       "1335                     6                      72                     6   \n",
       "\n",
       "      total_uninjured  avg_fatal_injuries  avg_serious_injuries  \\\n",
       "1248            24525            2.825996              0.802935   \n",
       "320              4457            3.329412              0.129412   \n",
       "1397             5591            0.050847              1.084746   \n",
       "1335             2478            0.080000              0.960000   \n",
       "\n",
       "      avg_minor_injuries  avg_uninjured  Substantial  Destroyed   Unknown  \\\n",
       "1248            0.176101      51.415094     0.142558   0.031447  0.566038   \n",
       "320             0.152941      52.435294     0.043011   0.043011  0.795699   \n",
       "1397            0.322034      94.762712     0.186441   0.033898  0.525424   \n",
       "1335            0.080000      33.040000     0.146667   0.026667  0.386667   \n",
       "\n",
       "         Minor  \n",
       "1248  0.259958  \n",
       "320   0.118280  \n",
       "1397  0.254237  \n",
       "1335  0.440000  "
      ]
     },
     "execution_count": 16,
     "metadata": {},
     "output_type": "execute_result"
    }
   ],
   "source": [
    "commercial_planes = top_100.sort_values(by='num_seats').tail(6)\n",
    "\n",
    "# drop 757 and 777\n",
    "dropped_rows = commercial_planes[commercial_planes['model'].isin(['757', '777', '208B'])].index\n",
    "commercial_planes = commercial_planes.drop(dropped_rows)\n",
    "commercial_planes"
   ]
  },
  {
   "cell_type": "code",
   "execution_count": 17,
   "metadata": {},
   "outputs": [
    {
     "data": {
      "text/plain": [
       "Text(0.5, 0.98, 'Average Injury Counts per Crash')"
      ]
     },
     "execution_count": 17,
     "metadata": {},
     "output_type": "execute_result"
    },
    {
     "data": {
      "image/png": "[encoded data removed]",
      "text/plain": [
       "<Figure size 1001.25x432 with 1 Axes>"
      ]
     },
     "metadata": {
      "needs_background": "light"
     },
     "output_type": "display_data"
    }
   ],
   "source": [
    "df_melted = commercial_planes.melt(id_vars='make_model', \n",
    "                                   value_vars=['avg_fatal_injuries', 'avg_serious_injuries', 'avg_minor_injuries'])\n",
    "\n",
    "palette = {'avg_fatal_injuries': 'red', \n",
    "           'avg_serious_injuries': 'navy', \n",
    "           'avg_minor_injuries': 'green'}\n",
    "\n",
    "plot = sns.catplot(data=df_melted, x='make_model', y='value', kind='bar', hue='variable', height=6, aspect=2, palette=palette)\n",
    "plot.set_axis_labels('Model', 'Injury Count', fontsize=18)\n",
    "\n",
    "plot._legend.set_title('')\n",
    "# move legend\n",
    "plot._legend.set_bbox_to_anchor((0.8, 0.8))\n",
    "for t, l in zip(plot._legend.texts, ['Fatal', 'Serious', 'Minor']): \n",
    "    t.set_text(l)\n",
    "\n",
    "plot.fig.suptitle('Average Injury Counts per Crash', fontsize=24)\n",
    "\n",
    "# plot.savefig('plots/top_4_commercial.jpg');"
   ]
  },
  {
   "cell_type": "markdown",
   "metadata": {},
   "source": [
    "# Boeing 767 and Boeing 747 seem to have the best overall fatality rate and injury counts"
   ]
  },
  {
   "cell_type": "code",
   "execution_count": 18,
   "metadata": {},
   "outputs": [
    {
     "ename": "NameError",
     "evalue": "name 'inclement_boeing' is not defined",
     "output_type": "error",
     "traceback": [
      "\u001b[1;31m---------------------------------------------------------------------------\u001b[0m",
      "\u001b[1;31mNameError\u001b[0m                                 Traceback (most recent call last)",
      "\u001b[1;32m<ipython-input-18-c4491dc61a6c>\u001b[0m in \u001b[0;36m<module>\u001b[1;34m\u001b[0m\n\u001b[1;32m----> 1\u001b[1;33m \u001b[0minclement_boeing\u001b[0m\u001b[1;33m.\u001b[0m\u001b[0mshape\u001b[0m\u001b[1;33m\u001b[0m\u001b[1;33m\u001b[0m\u001b[0m\n\u001b[0m",
      "\u001b[1;31mNameError\u001b[0m: name 'inclement_boeing' is not defined"
     ]
    }
   ],
   "source": [
    "inclement_boeing.shape"
   ]
  },
  {
   "cell_type": "code",
   "execution_count": null,
   "metadata": {},
   "outputs": [],
   "source": [
    "inclement_airbus.shape"
   ]
  },
  {
   "cell_type": "code",
   "execution_count": 19,
   "metadata": {},
   "outputs": [
    {
     "data": {
      "image/png": "[encoded data removed]",
      "text/plain": [
       "<Figure size 864x576 with 1 Axes>"
      ]
     },
     "metadata": {
      "needs_background": "light"
     },
     "output_type": "display_data"
    }
   ],
   "source": [
    "# drop \"unknown\" weather vals\n",
    "weather_boeing = boeing_rows[boeing_rows['weather_condition'].isin(['VMC', 'IMC'])]\n",
    "weather_airbus = airbus_rows[airbus_rows['weather_condition'].isin(['VMC', 'IMC'])]\n",
    "\n",
    "# boeing v airbus in inclement weather\n",
    "inclement_boeing = weather_boeing[weather_boeing['weather_condition'] == 'IMC']\n",
    "inclement_airbus = weather_airbus[weather_airbus['weather_condition'] == 'IMC']\n",
    "\n",
    "# drop \"unknown\" aircraft_damage vals\n",
    "inclement_boeing = inclement_boeing[inclement_boeing['aircraft_damage'] != 'Unknown']\n",
    "inclement_airbus = inclement_airbus[inclement_airbus['aircraft_damage'] != 'Unknown']\n",
    "\n",
    "boeing_counts = inclement_boeing['aircraft_damage'].value_counts(normalize=True).reset_index()\n",
    "boeing_counts.columns = ['aircraft_damage', 'proportion']\n",
    "boeing_counts['company'] = 'Boeing'\n",
    "\n",
    "airbus_counts = inclement_airbus['aircraft_damage'].value_counts(normalize=True).reset_index()\n",
    "airbus_counts.columns = ['aircraft_damage', 'proportion']\n",
    "airbus_counts['company'] = 'Airbus'\n",
    "\n",
    "combined = pd.concat([boeing_counts, airbus_counts])\n",
    "\n",
    "fig, ax = plt.subplots(figsize=(12, 8))\n",
    "\n",
    "plot = sns.barplot(data=combined, x='company', y='proportion', hue='aircraft_damage', ax=ax, palette='Reds')\n",
    "\n",
    "ax.set_title('Aircraft Damage in Inclement Conditions', fontsize=24)\n",
    "locations = [0, 0.1, 0.2, 0.3, 0.4, 0.5, 0.6]\n",
    "labels = ['0%', '10%', '20%', '30%', '40%', '50%', '60%']\n",
    "ax.set_yticks(locations)\n",
    "ax.set_yticklabels(labels)\n",
    "ax.legend(loc='upper right')\n",
    "\n",
    "ax.set_xlabel('')\n",
    "ax.set_xticklabels(ax.get_xticklabels(), fontsize=16)\n",
    "ax.set_ylabel('Proportion', fontsize=16)\n",
    "\n",
    "plt.show()\n",
    "\n",
    "fig.savefig('../plots/inclement.jpg');"
   ]
  },
  {
   "cell_type": "code",
   "execution_count": 20,
   "metadata": {
    "scrolled": false
   },
   "outputs": [
    {
     "data": {
      "image/png": "[encoded data removed]",
      "text/plain": [
       "<Figure size 864x576 with 1 Axes>"
      ]
     },
     "metadata": {
      "needs_background": "light"
     },
     "output_type": "display_data"
    }
   ],
   "source": [
    "# boeing v airbus in normal weather\n",
    "normal_boeing = weather_boeing[weather_boeing['weather_condition'] == 'VMC']\n",
    "normal_airbus = weather_airbus[weather_airbus['weather_condition'] == 'VMC']\n",
    "\n",
    "# drop \"unknown\" aircraft_damage vals\n",
    "normal_boeing = normal_boeing[normal_boeing['aircraft_damage'] != 'Unknown']\n",
    "normal_airbus = normal_airbus[normal_airbus['aircraft_damage'] != 'Unknown']\n",
    "\n",
    "boeing_counts = normal_boeing['aircraft_damage'].value_counts(normalize=True).reset_index()\n",
    "boeing_counts.columns = ['aircraft_damage', 'proportion']\n",
    "boeing_counts['company'] = 'Boeing'\n",
    "\n",
    "airbus_counts = normal_airbus['aircraft_damage'].value_counts(normalize=True).reset_index()\n",
    "airbus_counts.columns = ['aircraft_damage', 'proportion']\n",
    "airbus_counts['company'] = 'Airbus'\n",
    "\n",
    "combined = pd.concat([boeing_counts, airbus_counts])\n",
    "\n",
    "fig, ax = plt.subplots(figsize=(12, 8))\n",
    "\n",
    "damage_order = ['Minor', 'Substantial', 'Destroyed']\n",
    "sns.barplot(data=combined, x='company', y='proportion', hue='aircraft_damage', ax=ax, palette='Reds', hue_order=damage_order)\n",
    "\n",
    "ax.set_title('Aircraft Damage in Visible Conditions', fontsize=24)\n",
    "locations = [0, 0.1, 0.2, 0.3, 0.4, 0.5, 0.6, 0.7]\n",
    "labels = ['0%', '10%', '20%', '30%', '40%', '50%', '60%', '70%']\n",
    "ax.set_yticks(locations)\n",
    "ax.set_yticklabels(labels)\n",
    "ax.legend(loc='upper right')\n",
    "\n",
    "ax.set_xlabel('')\n",
    "ax.set_xticklabels(ax.get_xticklabels(), fontsize=16)\n",
    "ax.set_ylabel('Proportion', fontsize=16)\n",
    "plt.show()\n",
    "\n",
    "fig.savefig('../plots/visible.jpg');"
   ]
  },
  {
   "cell_type": "markdown",
   "metadata": {},
   "source": [
    "# Look into safety between 2 and 4 engines"
   ]
  },
  {
   "cell_type": "code",
   "execution_count": 21,
   "metadata": {},
   "outputs": [
    {
     "data": {
      "text/html": [
       "<div>\n",
       "<style scoped>\n",
       "    .dataframe tbody tr th:only-of-type {\n",
       "        vertical-align: middle;\n",
       "    }\n",
       "\n",
       "    .dataframe tbody tr th {\n",
       "        vertical-align: top;\n",
       "    }\n",
       "\n",
       "    .dataframe thead th {\n",
       "        text-align: right;\n",
       "    }\n",
       "</style>\n",
       "<table border=\"1\" class=\"dataframe\">\n",
       "  <thead>\n",
       "    <tr style=\"text-align: right;\">\n",
       "      <th></th>\n",
       "      <th>aircraft_damage</th>\n",
       "      <th>proportion</th>\n",
       "      <th>company</th>\n",
       "    </tr>\n",
       "  </thead>\n",
       "  <tbody>\n",
       "    <tr>\n",
       "      <th>0</th>\n",
       "      <td>Substantial</td>\n",
       "      <td>0.702055</td>\n",
       "      <td>Boeing</td>\n",
       "    </tr>\n",
       "    <tr>\n",
       "      <th>1</th>\n",
       "      <td>Minor</td>\n",
       "      <td>0.250000</td>\n",
       "      <td>Boeing</td>\n",
       "    </tr>\n",
       "    <tr>\n",
       "      <th>2</th>\n",
       "      <td>Destroyed</td>\n",
       "      <td>0.047945</td>\n",
       "      <td>Boeing</td>\n",
       "    </tr>\n",
       "    <tr>\n",
       "      <th>0</th>\n",
       "      <td>Substantial</td>\n",
       "      <td>0.531250</td>\n",
       "      <td>Airbus</td>\n",
       "    </tr>\n",
       "    <tr>\n",
       "      <th>1</th>\n",
       "      <td>Minor</td>\n",
       "      <td>0.468750</td>\n",
       "      <td>Airbus</td>\n",
       "    </tr>\n",
       "  </tbody>\n",
       "</table>\n",
       "</div>"
      ],
      "text/plain": [
       "  aircraft_damage  proportion company\n",
       "0     Substantial    0.702055  Boeing\n",
       "1           Minor    0.250000  Boeing\n",
       "2       Destroyed    0.047945  Boeing\n",
       "0     Substantial    0.531250  Airbus\n",
       "1           Minor    0.468750  Airbus"
      ]
     },
     "execution_count": 21,
     "metadata": {},
     "output_type": "execute_result"
    }
   ],
   "source": [
    "combined"
   ]
  },
  {
   "cell_type": "code",
   "execution_count": 22,
   "metadata": {},
   "outputs": [
    {
     "name": "stderr",
     "output_type": "stream",
     "text": [
      "C:\\Users\\heefj\\anaconda3\\envs\\learn-env\\lib\\site-packages\\pandas\\core\\indexing.py:1745: SettingWithCopyWarning: \n",
      "A value is trying to be set on a copy of a slice from a DataFrame.\n",
      "Try using .loc[row_indexer,col_indexer] = value instead\n",
      "\n",
      "See the caveats in the documentation: https://pandas.pydata.org/pandas-docs/stable/user_guide/indexing.html#returning-a-view-versus-a-copy\n",
      "  isetter(ilocs[0], value)\n",
      "C:\\Users\\heefj\\anaconda3\\envs\\learn-env\\lib\\site-packages\\pandas\\core\\indexing.py:1745: SettingWithCopyWarning: \n",
      "A value is trying to be set on a copy of a slice from a DataFrame.\n",
      "Try using .loc[row_indexer,col_indexer] = value instead\n",
      "\n",
      "See the caveats in the documentation: https://pandas.pydata.org/pandas-docs/stable/user_guide/indexing.html#returning-a-view-versus-a-copy\n",
      "  isetter(ilocs[0], value)\n"
     ]
    }
   ],
   "source": [
    "# map max number_of_engines to each respective boeing model\n",
    "true_engines = boeing_rows.groupby('model')['number_of_engines'].max()\n",
    "boeing_rows.loc[boeing_rows['number_of_engines'] == 0, 'number_of_engines'] = boeing_rows['model'].map(true_engines)\n",
    "\n",
    "# map max number_of_engines to each respective airbus model\n",
    "true_engines = airbus_rows.groupby('model')['number_of_engines'].max()\n",
    "airbus_rows.loc[airbus_rows['number_of_engines'] == 0, 'number_of_engines'] = airbus_rows['model'].map(true_engines)"
   ]
  },
  {
   "cell_type": "code",
   "execution_count": 23,
   "metadata": {},
   "outputs": [
    {
     "data": {
      "text/plain": [
       "2    1152\n",
       "4     129\n",
       "1     128\n",
       "0     118\n",
       "3      21\n",
       "Name: number_of_engines, dtype: int64"
      ]
     },
     "execution_count": 23,
     "metadata": {},
     "output_type": "execute_result"
    }
   ],
   "source": [
    "# boeing engine counts\n",
    "boeing_rows['number_of_engines'].value_counts()"
   ]
  },
  {
   "cell_type": "code",
   "execution_count": 24,
   "metadata": {},
   "outputs": [
    {
     "data": {
      "text/plain": [
       "2    245\n",
       "0     17\n",
       "4      6\n",
       "Name: number_of_engines, dtype: int64"
      ]
     },
     "execution_count": 24,
     "metadata": {},
     "output_type": "execute_result"
    }
   ],
   "source": [
    "# boeing engine counts\n",
    "airbus_rows['number_of_engines'].value_counts()"
   ]
  },
  {
   "cell_type": "code",
   "execution_count": 25,
   "metadata": {},
   "outputs": [
    {
     "data": {
      "text/plain": [
       "non-fatal    0.955102\n",
       "fatal        0.044898\n",
       "Name: injury_severity, dtype: float64"
      ]
     },
     "execution_count": 25,
     "metadata": {},
     "output_type": "execute_result"
    }
   ],
   "source": [
    "# grab rows where engines are either 2 or 4\n",
    "boeing_2 = boeing_rows[boeing_rows['number_of_engines'] == 2]\n",
    "boeing_4 = boeing_rows[boeing_rows['number_of_engines'] == 4]\n",
    "\n",
    "airbus_2 = airbus_rows[airbus_rows['number_of_engines'] == 2]\n",
    "airbus_4 = airbus_rows[airbus_rows['number_of_engines'] == 4]\n",
    "\n",
    "# calculate fatality rate for each df\n",
    "airbus_2['injury_severity'].value_counts(normalize=True)"
   ]
  },
  {
   "cell_type": "code",
   "execution_count": 26,
   "metadata": {
    "scrolled": false
   },
   "outputs": [],
   "source": [
    "# calculate 2-engine \n",
    "engine_2 = pd.concat([boeing_2, airbus_2])\n",
    "engine_4 = pd.concat([boeing_4, airbus_4])"
   ]
  },
  {
   "cell_type": "code",
   "execution_count": 27,
   "metadata": {},
   "outputs": [
    {
     "data": {
      "text/plain": [
       "non-fatal    0.964925\n",
       "fatal        0.035075\n",
       "Name: injury_severity, dtype: float64"
      ]
     },
     "execution_count": 27,
     "metadata": {},
     "output_type": "execute_result"
    }
   ],
   "source": [
    "engine_2['injury_severity'].value_counts(normalize=True)"
   ]
  },
  {
   "cell_type": "code",
   "execution_count": 28,
   "metadata": {},
   "outputs": [
    {
     "data": {
      "text/plain": [
       "non-fatal    0.955556\n",
       "fatal        0.044444\n",
       "Name: injury_severity, dtype: float64"
      ]
     },
     "execution_count": 28,
     "metadata": {},
     "output_type": "execute_result"
    }
   ],
   "source": [
    "engine_4['injury_severity'].value_counts(normalize=True)"
   ]
  },
  {
   "cell_type": "code",
   "execution_count": 29,
   "metadata": {},
   "outputs": [
    {
     "data": {
      "image/png": "[encoded data removed]",
      "text/plain": [
       "<Figure size 864x648 with 1 Axes>"
      ]
     },
     "metadata": {
      "needs_background": "light"
     },
     "output_type": "display_data"
    }
   ],
   "source": [
    "fig, ax = plt.subplots(figsize=(12,9))\n",
    "\n",
    "# manually coding vals because i spent way too long on this\n",
    "labels = ['2 Engines', '4 Engines']\n",
    "fatal_values = [0.035075, 0.044444]\n",
    "non_fatal_values = [0.964925, 0.955556]\n",
    "\n",
    "bar_width = 0.35\n",
    "index = np.arange(len(labels))\n",
    "\n",
    "fatal_bars = plt.bar(index, fatal_values, bar_width, label='Fatal', color='r', align='center')\n",
    "plt.bar(index + bar_width, non_fatal_values, bar_width, label='Non-Fatal', color='b', align='center')\n",
    "\n",
    "# plt.ylabel('Fatality Rate', fontsize=20)\n",
    "plt.title('Fatality Rate: 2 vs 4 Engines', fontsize=24)\n",
    "plt.xticks(index + bar_width / 2, labels, fontsize=18)  # Setting the x-ticks in the middle of two bars\n",
    "plt.yticks(np.arange(0, 1.1, 0.1), ['0%', '10%', '20%', '30%', '40%', '50%', '60%', '70%', '80%', '90%', '100%'])\n",
    "plt.legend()\n",
    "\n",
    "bar_height = fatal_bars[0].get_height()\n",
    "plt.annotate(f'{bar_height:.1%} fatality rate', \n",
    "             xy=(fatal_bars[0].get_x() + fatal_bars[0].get_width() / 2, bar_height), \n",
    "             xytext=(fatal_bars[0].get_x() + 0.1, bar_height + 0.1), \n",
    "             arrowprops=dict(arrowstyle='->'),\n",
    "             ha='center',\n",
    "             fontsize=16)\n",
    "bar_height = fatal_bars[1].get_height()\n",
    "plt.annotate(f'{bar_height:.1%} fatality rate', \n",
    "             xy=(fatal_bars[1].get_x() + fatal_bars[1].get_width() / 2, bar_height), \n",
    "             xytext=(fatal_bars[1].get_x() + 0.1, bar_height + 0.1), \n",
    "             arrowprops=dict(arrowstyle='->'),\n",
    "             ha='center',\n",
    "             fontsize=16)\n",
    "\n",
    "plt.tight_layout()\n",
    "plt.show()\n",
    "\n",
    "fig.savefig('../plots/engine_fatality.jpg');"
   ]
  },
  {
   "cell_type": "code",
   "execution_count": 30,
   "metadata": {},
   "outputs": [
    {
     "data": {
      "text/plain": [
       "(135, 21)"
      ]
     },
     "execution_count": 30,
     "metadata": {},
     "output_type": "execute_result"
    }
   ],
   "source": [
    "engine_4.shape"
   ]
  },
  {
   "cell_type": "code",
   "execution_count": null,
   "metadata": {},
   "outputs": [],
   "source": []
  },
  {
   "cell_type": "code",
   "execution_count": null,
   "metadata": {},
   "outputs": [],
   "source": []
  },
  {
   "cell_type": "code",
   "execution_count": null,
   "metadata": {},
   "outputs": [],
   "source": []
  },
  {
   "cell_type": "code",
   "execution_count": null,
   "metadata": {},
   "outputs": [],
   "source": []
  },
  {
   "cell_type": "code",
   "execution_count": null,
   "metadata": {},
   "outputs": [],
   "source": []
  },
  {
   "cell_type": "code",
   "execution_count": null,
   "metadata": {},
   "outputs": [],
   "source": []
  },
  {
   "cell_type": "code",
   "execution_count": null,
   "metadata": {},
   "outputs": [],
   "source": []
  },
  {
   "cell_type": "code",
   "execution_count": null,
   "metadata": {},
   "outputs": [],
   "source": []
  },
  {
   "cell_type": "code",
   "execution_count": null,
   "metadata": {},
   "outputs": [],
   "source": []
  },
  {
   "cell_type": "code",
   "execution_count": null,
   "metadata": {},
   "outputs": [],
   "source": []
  },
  {
   "cell_type": "code",
   "execution_count": null,
   "metadata": {},
   "outputs": [],
   "source": []
  },
  {
   "cell_type": "code",
   "execution_count": null,
   "metadata": {},
   "outputs": [],
   "source": []
  },
  {
   "cell_type": "code",
   "execution_count": null,
   "metadata": {},
   "outputs": [],
   "source": []
  },
  {
   "cell_type": "code",
   "execution_count": null,
   "metadata": {},
   "outputs": [],
   "source": []
  },
  {
   "cell_type": "code",
   "execution_count": null,
   "metadata": {},
   "outputs": [],
   "source": []
  },
  {
   "cell_type": "code",
   "execution_count": null,
   "metadata": {},
   "outputs": [],
   "source": []
  },
  {
   "cell_type": "code",
   "execution_count": null,
   "metadata": {},
   "outputs": [],
   "source": []
  },
  {
   "cell_type": "code",
   "execution_count": null,
   "metadata": {},
   "outputs": [],
   "source": []
  },
  {
   "cell_type": "code",
   "execution_count": null,
   "metadata": {},
   "outputs": [],
   "source": []
  },
  {
   "cell_type": "code",
   "execution_count": null,
   "metadata": {},
   "outputs": [],
   "source": []
  },
  {
   "cell_type": "code",
   "execution_count": null,
   "metadata": {},
   "outputs": [],
   "source": []
  },
  {
   "cell_type": "code",
   "execution_count": null,
   "metadata": {},
   "outputs": [],
   "source": []
  },
  {
   "cell_type": "markdown",
   "metadata": {},
   "source": [
    "# Top 95 recorded private aircraft (1-9 seats)\n",
    "\n",
    "- range from 47-815 accident records"
   ]
  },
  {
   "cell_type": "code",
   "execution_count": 38,
   "metadata": {},
   "outputs": [
    {
     "data": {
      "text/html": [
       "<div>\n",
       "<style scoped>\n",
       "    .dataframe tbody tr th:only-of-type {\n",
       "        vertical-align: middle;\n",
       "    }\n",
       "\n",
       "    .dataframe tbody tr th {\n",
       "        vertical-align: top;\n",
       "    }\n",
       "\n",
       "    .dataframe thead th {\n",
       "        text-align: right;\n",
       "    }\n",
       "</style>\n",
       "<table border=\"1\" class=\"dataframe\">\n",
       "  <thead>\n",
       "    <tr style=\"text-align: right;\">\n",
       "      <th></th>\n",
       "      <th>make</th>\n",
       "      <th>model</th>\n",
       "      <th>count</th>\n",
       "      <th>fatality_rate</th>\n",
       "      <th>make_model</th>\n",
       "      <th>num_seats</th>\n",
       "      <th>total_fatal_injuries</th>\n",
       "      <th>total_serious_injuries</th>\n",
       "      <th>total_minor_injuries</th>\n",
       "      <th>total_uninjured</th>\n",
       "      <th>avg_fatal_injuries</th>\n",
       "      <th>avg_serious_injuries</th>\n",
       "      <th>avg_minor_injuries</th>\n",
       "      <th>avg_uninjured</th>\n",
       "      <th>Substantial</th>\n",
       "      <th>Destroyed</th>\n",
       "      <th>Unknown</th>\n",
       "      <th>Minor</th>\n",
       "    </tr>\n",
       "  </thead>\n",
       "  <tbody>\n",
       "    <tr>\n",
       "      <th>2185</th>\n",
       "      <td>Cessna</td>\n",
       "      <td>A188B</td>\n",
       "      <td>69</td>\n",
       "      <td>0.811594</td>\n",
       "      <td>Cessna A188B</td>\n",
       "      <td>1</td>\n",
       "      <td>13</td>\n",
       "      <td>7</td>\n",
       "      <td>7</td>\n",
       "      <td>41</td>\n",
       "      <td>0.188406</td>\n",
       "      <td>0.101449</td>\n",
       "      <td>0.101449</td>\n",
       "      <td>0.594203</td>\n",
       "      <td>0.855072</td>\n",
       "      <td>0.115942</td>\n",
       "      <td>0.014493</td>\n",
       "      <td>0.014493</td>\n",
       "    </tr>\n",
       "    <tr>\n",
       "      <th>280</th>\n",
       "      <td>Air Tractor</td>\n",
       "      <td>At502B</td>\n",
       "      <td>53</td>\n",
       "      <td>0.886792</td>\n",
       "      <td>Air Tractor At502B</td>\n",
       "      <td>1</td>\n",
       "      <td>6</td>\n",
       "      <td>4</td>\n",
       "      <td>7</td>\n",
       "      <td>41</td>\n",
       "      <td>0.113208</td>\n",
       "      <td>0.075472</td>\n",
       "      <td>0.132075</td>\n",
       "      <td>0.773585</td>\n",
       "      <td>0.849057</td>\n",
       "      <td>0.113208</td>\n",
       "      <td>0.000000</td>\n",
       "      <td>0.037736</td>\n",
       "    </tr>\n",
       "    <tr>\n",
       "      <th>284</th>\n",
       "      <td>Air Tractor</td>\n",
       "      <td>At602</td>\n",
       "      <td>53</td>\n",
       "      <td>0.735849</td>\n",
       "      <td>Air Tractor At602</td>\n",
       "      <td>1</td>\n",
       "      <td>14</td>\n",
       "      <td>7</td>\n",
       "      <td>4</td>\n",
       "      <td>28</td>\n",
       "      <td>0.264151</td>\n",
       "      <td>0.132075</td>\n",
       "      <td>0.075472</td>\n",
       "      <td>0.528302</td>\n",
       "      <td>0.867925</td>\n",
       "      <td>0.113208</td>\n",
       "      <td>0.018868</td>\n",
       "      <td>0.000000</td>\n",
       "    </tr>\n",
       "    <tr>\n",
       "      <th>278</th>\n",
       "      <td>Air Tractor</td>\n",
       "      <td>At502</td>\n",
       "      <td>74</td>\n",
       "      <td>0.729730</td>\n",
       "      <td>Air Tractor At502</td>\n",
       "      <td>1</td>\n",
       "      <td>21</td>\n",
       "      <td>14</td>\n",
       "      <td>7</td>\n",
       "      <td>32</td>\n",
       "      <td>0.283784</td>\n",
       "      <td>0.189189</td>\n",
       "      <td>0.094595</td>\n",
       "      <td>0.432432</td>\n",
       "      <td>0.797297</td>\n",
       "      <td>0.175676</td>\n",
       "      <td>0.027027</td>\n",
       "      <td>0.000000</td>\n",
       "    </tr>\n",
       "    <tr>\n",
       "      <th>267</th>\n",
       "      <td>Air Tractor</td>\n",
       "      <td>At301</td>\n",
       "      <td>60</td>\n",
       "      <td>0.900000</td>\n",
       "      <td>Air Tractor At301</td>\n",
       "      <td>1</td>\n",
       "      <td>6</td>\n",
       "      <td>12</td>\n",
       "      <td>5</td>\n",
       "      <td>37</td>\n",
       "      <td>0.100000</td>\n",
       "      <td>0.200000</td>\n",
       "      <td>0.083333</td>\n",
       "      <td>0.616667</td>\n",
       "      <td>0.916667</td>\n",
       "      <td>0.066667</td>\n",
       "      <td>0.016667</td>\n",
       "      <td>0.000000</td>\n",
       "    </tr>\n",
       "    <tr>\n",
       "      <th>...</th>\n",
       "      <td>...</td>\n",
       "      <td>...</td>\n",
       "      <td>...</td>\n",
       "      <td>...</td>\n",
       "      <td>...</td>\n",
       "      <td>...</td>\n",
       "      <td>...</td>\n",
       "      <td>...</td>\n",
       "      <td>...</td>\n",
       "      <td>...</td>\n",
       "      <td>...</td>\n",
       "      <td>...</td>\n",
       "      <td>...</td>\n",
       "      <td>...</td>\n",
       "      <td>...</td>\n",
       "      <td>...</td>\n",
       "      <td>...</td>\n",
       "      <td>...</td>\n",
       "    </tr>\n",
       "    <tr>\n",
       "      <th>6099</th>\n",
       "      <td>Piper</td>\n",
       "      <td>Pa46</td>\n",
       "      <td>62</td>\n",
       "      <td>0.734375</td>\n",
       "      <td>Piper Pa46</td>\n",
       "      <td>6</td>\n",
       "      <td>39</td>\n",
       "      <td>15</td>\n",
       "      <td>13</td>\n",
       "      <td>139</td>\n",
       "      <td>0.629032</td>\n",
       "      <td>0.241935</td>\n",
       "      <td>0.209677</td>\n",
       "      <td>2.241935</td>\n",
       "      <td>0.734375</td>\n",
       "      <td>0.203125</td>\n",
       "      <td>0.046875</td>\n",
       "      <td>0.015625</td>\n",
       "    </tr>\n",
       "    <tr>\n",
       "      <th>6097</th>\n",
       "      <td>Piper</td>\n",
       "      <td>Pa44180</td>\n",
       "      <td>49</td>\n",
       "      <td>0.780000</td>\n",
       "      <td>Piper Pa44180</td>\n",
       "      <td>6</td>\n",
       "      <td>26</td>\n",
       "      <td>12</td>\n",
       "      <td>0</td>\n",
       "      <td>77</td>\n",
       "      <td>0.530612</td>\n",
       "      <td>0.244898</td>\n",
       "      <td>0.000000</td>\n",
       "      <td>1.571429</td>\n",
       "      <td>0.860000</td>\n",
       "      <td>0.100000</td>\n",
       "      <td>0.000000</td>\n",
       "      <td>0.040000</td>\n",
       "    </tr>\n",
       "    <tr>\n",
       "      <th>2346</th>\n",
       "      <td>Cessna</td>\n",
       "      <td>U206G</td>\n",
       "      <td>57</td>\n",
       "      <td>0.719298</td>\n",
       "      <td>Cessna U206G</td>\n",
       "      <td>6</td>\n",
       "      <td>37</td>\n",
       "      <td>35</td>\n",
       "      <td>12</td>\n",
       "      <td>83</td>\n",
       "      <td>0.649123</td>\n",
       "      <td>0.614035</td>\n",
       "      <td>0.210526</td>\n",
       "      <td>1.456140</td>\n",
       "      <td>0.807018</td>\n",
       "      <td>0.140351</td>\n",
       "      <td>0.000000</td>\n",
       "      <td>0.052632</td>\n",
       "    </tr>\n",
       "    <tr>\n",
       "      <th>2071</th>\n",
       "      <td>Cessna</td>\n",
       "      <td>208</td>\n",
       "      <td>76</td>\n",
       "      <td>0.644737</td>\n",
       "      <td>Cessna 208</td>\n",
       "      <td>9</td>\n",
       "      <td>96</td>\n",
       "      <td>35</td>\n",
       "      <td>53</td>\n",
       "      <td>237</td>\n",
       "      <td>1.263158</td>\n",
       "      <td>0.460526</td>\n",
       "      <td>0.697368</td>\n",
       "      <td>3.118421</td>\n",
       "      <td>0.697368</td>\n",
       "      <td>0.210526</td>\n",
       "      <td>0.078947</td>\n",
       "      <td>0.013158</td>\n",
       "    </tr>\n",
       "    <tr>\n",
       "      <th>2072</th>\n",
       "      <td>Cessna</td>\n",
       "      <td>208B</td>\n",
       "      <td>124</td>\n",
       "      <td>0.716535</td>\n",
       "      <td>Cessna 208B</td>\n",
       "      <td>14</td>\n",
       "      <td>122</td>\n",
       "      <td>75</td>\n",
       "      <td>111</td>\n",
       "      <td>312</td>\n",
       "      <td>0.983871</td>\n",
       "      <td>0.604839</td>\n",
       "      <td>0.895161</td>\n",
       "      <td>2.516129</td>\n",
       "      <td>0.685039</td>\n",
       "      <td>0.188976</td>\n",
       "      <td>0.078740</td>\n",
       "      <td>0.047244</td>\n",
       "    </tr>\n",
       "  </tbody>\n",
       "</table>\n",
       "<p>95 rows × 18 columns</p>\n",
       "</div>"
      ],
      "text/plain": [
       "             make    model  count  fatality_rate          make_model  \\\n",
       "2185       Cessna    A188B     69       0.811594        Cessna A188B   \n",
       "280   Air Tractor   At502B     53       0.886792  Air Tractor At502B   \n",
       "284   Air Tractor    At602     53       0.735849   Air Tractor At602   \n",
       "278   Air Tractor    At502     74       0.729730   Air Tractor At502   \n",
       "267   Air Tractor    At301     60       0.900000   Air Tractor At301   \n",
       "...           ...      ...    ...            ...                 ...   \n",
       "6099        Piper     Pa46     62       0.734375          Piper Pa46   \n",
       "6097        Piper  Pa44180     49       0.780000       Piper Pa44180   \n",
       "2346       Cessna    U206G     57       0.719298        Cessna U206G   \n",
       "2071       Cessna      208     76       0.644737          Cessna 208   \n",
       "2072       Cessna     208B    124       0.716535         Cessna 208B   \n",
       "\n",
       "      num_seats  total_fatal_injuries  total_serious_injuries  \\\n",
       "2185          1                    13                       7   \n",
       "280           1                     6                       4   \n",
       "284           1                    14                       7   \n",
       "278           1                    21                      14   \n",
       "267           1                     6                      12   \n",
       "...         ...                   ...                     ...   \n",
       "6099          6                    39                      15   \n",
       "6097          6                    26                      12   \n",
       "2346          6                    37                      35   \n",
       "2071          9                    96                      35   \n",
       "2072         14                   122                      75   \n",
       "\n",
       "      total_minor_injuries  total_uninjured  avg_fatal_injuries  \\\n",
       "2185                     7               41            0.188406   \n",
       "280                      7               41            0.113208   \n",
       "284                      4               28            0.264151   \n",
       "278                      7               32            0.283784   \n",
       "267                      5               37            0.100000   \n",
       "...                    ...              ...                 ...   \n",
       "6099                    13              139            0.629032   \n",
       "6097                     0               77            0.530612   \n",
       "2346                    12               83            0.649123   \n",
       "2071                    53              237            1.263158   \n",
       "2072                   111              312            0.983871   \n",
       "\n",
       "      avg_serious_injuries  avg_minor_injuries  avg_uninjured  Substantial  \\\n",
       "2185              0.101449            0.101449       0.594203     0.855072   \n",
       "280               0.075472            0.132075       0.773585     0.849057   \n",
       "284               0.132075            0.075472       0.528302     0.867925   \n",
       "278               0.189189            0.094595       0.432432     0.797297   \n",
       "267               0.200000            0.083333       0.616667     0.916667   \n",
       "...                    ...                 ...            ...          ...   \n",
       "6099              0.241935            0.209677       2.241935     0.734375   \n",
       "6097              0.244898            0.000000       1.571429     0.860000   \n",
       "2346              0.614035            0.210526       1.456140     0.807018   \n",
       "2071              0.460526            0.697368       3.118421     0.697368   \n",
       "2072              0.604839            0.895161       2.516129     0.685039   \n",
       "\n",
       "      Destroyed   Unknown     Minor  \n",
       "2185   0.115942  0.014493  0.014493  \n",
       "280    0.113208  0.000000  0.037736  \n",
       "284    0.113208  0.018868  0.000000  \n",
       "278    0.175676  0.027027  0.000000  \n",
       "267    0.066667  0.016667  0.000000  \n",
       "...         ...       ...       ...  \n",
       "6099   0.203125  0.046875  0.015625  \n",
       "6097   0.100000  0.000000  0.040000  \n",
       "2346   0.140351  0.000000  0.052632  \n",
       "2071   0.210526  0.078947  0.013158  \n",
       "2072   0.188976  0.078740  0.047244  \n",
       "\n",
       "[95 rows x 18 columns]"
      ]
     },
     "execution_count": 38,
     "metadata": {},
     "output_type": "execute_result"
    }
   ],
   "source": [
    "private_planes = top_100.sort_values(by='num_seats').head(95)\n",
    "private_planes"
   ]
  },
  {
   "cell_type": "code",
   "execution_count": 39,
   "metadata": {},
   "outputs": [
    {
     "data": {
      "text/html": [
       "<div>\n",
       "<style scoped>\n",
       "    .dataframe tbody tr th:only-of-type {\n",
       "        vertical-align: middle;\n",
       "    }\n",
       "\n",
       "    .dataframe tbody tr th {\n",
       "        vertical-align: top;\n",
       "    }\n",
       "\n",
       "    .dataframe thead th {\n",
       "        text-align: right;\n",
       "    }\n",
       "</style>\n",
       "<table border=\"1\" class=\"dataframe\">\n",
       "  <thead>\n",
       "    <tr style=\"text-align: right;\">\n",
       "      <th></th>\n",
       "      <th>make</th>\n",
       "      <th>model</th>\n",
       "      <th>count</th>\n",
       "      <th>fatality_rate</th>\n",
       "      <th>make_model</th>\n",
       "      <th>num_seats</th>\n",
       "      <th>total_fatal_injuries</th>\n",
       "      <th>total_serious_injuries</th>\n",
       "      <th>total_minor_injuries</th>\n",
       "      <th>total_uninjured</th>\n",
       "      <th>avg_fatal_injuries</th>\n",
       "      <th>avg_serious_injuries</th>\n",
       "      <th>avg_minor_injuries</th>\n",
       "      <th>avg_uninjured</th>\n",
       "      <th>Substantial</th>\n",
       "      <th>Destroyed</th>\n",
       "      <th>Unknown</th>\n",
       "      <th>Minor</th>\n",
       "      <th>seat_range</th>\n",
       "    </tr>\n",
       "  </thead>\n",
       "  <tbody>\n",
       "    <tr>\n",
       "      <th>2185</th>\n",
       "      <td>Cessna</td>\n",
       "      <td>A188B</td>\n",
       "      <td>69</td>\n",
       "      <td>0.811594</td>\n",
       "      <td>Cessna A188B</td>\n",
       "      <td>1</td>\n",
       "      <td>13</td>\n",
       "      <td>7</td>\n",
       "      <td>7</td>\n",
       "      <td>41</td>\n",
       "      <td>0.188406</td>\n",
       "      <td>0.101449</td>\n",
       "      <td>0.101449</td>\n",
       "      <td>0.594203</td>\n",
       "      <td>0.855072</td>\n",
       "      <td>0.115942</td>\n",
       "      <td>0.014493</td>\n",
       "      <td>0.014493</td>\n",
       "      <td>1</td>\n",
       "    </tr>\n",
       "    <tr>\n",
       "      <th>280</th>\n",
       "      <td>Air Tractor</td>\n",
       "      <td>At502B</td>\n",
       "      <td>53</td>\n",
       "      <td>0.886792</td>\n",
       "      <td>Air Tractor At502B</td>\n",
       "      <td>1</td>\n",
       "      <td>6</td>\n",
       "      <td>4</td>\n",
       "      <td>7</td>\n",
       "      <td>41</td>\n",
       "      <td>0.113208</td>\n",
       "      <td>0.075472</td>\n",
       "      <td>0.132075</td>\n",
       "      <td>0.773585</td>\n",
       "      <td>0.849057</td>\n",
       "      <td>0.113208</td>\n",
       "      <td>0.000000</td>\n",
       "      <td>0.037736</td>\n",
       "      <td>1</td>\n",
       "    </tr>\n",
       "    <tr>\n",
       "      <th>284</th>\n",
       "      <td>Air Tractor</td>\n",
       "      <td>At602</td>\n",
       "      <td>53</td>\n",
       "      <td>0.735849</td>\n",
       "      <td>Air Tractor At602</td>\n",
       "      <td>1</td>\n",
       "      <td>14</td>\n",
       "      <td>7</td>\n",
       "      <td>4</td>\n",
       "      <td>28</td>\n",
       "      <td>0.264151</td>\n",
       "      <td>0.132075</td>\n",
       "      <td>0.075472</td>\n",
       "      <td>0.528302</td>\n",
       "      <td>0.867925</td>\n",
       "      <td>0.113208</td>\n",
       "      <td>0.018868</td>\n",
       "      <td>0.000000</td>\n",
       "      <td>1</td>\n",
       "    </tr>\n",
       "    <tr>\n",
       "      <th>278</th>\n",
       "      <td>Air Tractor</td>\n",
       "      <td>At502</td>\n",
       "      <td>74</td>\n",
       "      <td>0.729730</td>\n",
       "      <td>Air Tractor At502</td>\n",
       "      <td>1</td>\n",
       "      <td>21</td>\n",
       "      <td>14</td>\n",
       "      <td>7</td>\n",
       "      <td>32</td>\n",
       "      <td>0.283784</td>\n",
       "      <td>0.189189</td>\n",
       "      <td>0.094595</td>\n",
       "      <td>0.432432</td>\n",
       "      <td>0.797297</td>\n",
       "      <td>0.175676</td>\n",
       "      <td>0.027027</td>\n",
       "      <td>0.000000</td>\n",
       "      <td>1</td>\n",
       "    </tr>\n",
       "    <tr>\n",
       "      <th>267</th>\n",
       "      <td>Air Tractor</td>\n",
       "      <td>At301</td>\n",
       "      <td>60</td>\n",
       "      <td>0.900000</td>\n",
       "      <td>Air Tractor At301</td>\n",
       "      <td>1</td>\n",
       "      <td>6</td>\n",
       "      <td>12</td>\n",
       "      <td>5</td>\n",
       "      <td>37</td>\n",
       "      <td>0.100000</td>\n",
       "      <td>0.200000</td>\n",
       "      <td>0.083333</td>\n",
       "      <td>0.616667</td>\n",
       "      <td>0.916667</td>\n",
       "      <td>0.066667</td>\n",
       "      <td>0.016667</td>\n",
       "      <td>0.000000</td>\n",
       "      <td>1</td>\n",
       "    </tr>\n",
       "    <tr>\n",
       "      <th>...</th>\n",
       "      <td>...</td>\n",
       "      <td>...</td>\n",
       "      <td>...</td>\n",
       "      <td>...</td>\n",
       "      <td>...</td>\n",
       "      <td>...</td>\n",
       "      <td>...</td>\n",
       "      <td>...</td>\n",
       "      <td>...</td>\n",
       "      <td>...</td>\n",
       "      <td>...</td>\n",
       "      <td>...</td>\n",
       "      <td>...</td>\n",
       "      <td>...</td>\n",
       "      <td>...</td>\n",
       "      <td>...</td>\n",
       "      <td>...</td>\n",
       "      <td>...</td>\n",
       "      <td>...</td>\n",
       "    </tr>\n",
       "    <tr>\n",
       "      <th>6099</th>\n",
       "      <td>Piper</td>\n",
       "      <td>Pa46</td>\n",
       "      <td>62</td>\n",
       "      <td>0.734375</td>\n",
       "      <td>Piper Pa46</td>\n",
       "      <td>6</td>\n",
       "      <td>39</td>\n",
       "      <td>15</td>\n",
       "      <td>13</td>\n",
       "      <td>139</td>\n",
       "      <td>0.629032</td>\n",
       "      <td>0.241935</td>\n",
       "      <td>0.209677</td>\n",
       "      <td>2.241935</td>\n",
       "      <td>0.734375</td>\n",
       "      <td>0.203125</td>\n",
       "      <td>0.046875</td>\n",
       "      <td>0.015625</td>\n",
       "      <td>5-9</td>\n",
       "    </tr>\n",
       "    <tr>\n",
       "      <th>6097</th>\n",
       "      <td>Piper</td>\n",
       "      <td>Pa44180</td>\n",
       "      <td>49</td>\n",
       "      <td>0.780000</td>\n",
       "      <td>Piper Pa44180</td>\n",
       "      <td>6</td>\n",
       "      <td>26</td>\n",
       "      <td>12</td>\n",
       "      <td>0</td>\n",
       "      <td>77</td>\n",
       "      <td>0.530612</td>\n",
       "      <td>0.244898</td>\n",
       "      <td>0.000000</td>\n",
       "      <td>1.571429</td>\n",
       "      <td>0.860000</td>\n",
       "      <td>0.100000</td>\n",
       "      <td>0.000000</td>\n",
       "      <td>0.040000</td>\n",
       "      <td>5-9</td>\n",
       "    </tr>\n",
       "    <tr>\n",
       "      <th>2346</th>\n",
       "      <td>Cessna</td>\n",
       "      <td>U206G</td>\n",
       "      <td>57</td>\n",
       "      <td>0.719298</td>\n",
       "      <td>Cessna U206G</td>\n",
       "      <td>6</td>\n",
       "      <td>37</td>\n",
       "      <td>35</td>\n",
       "      <td>12</td>\n",
       "      <td>83</td>\n",
       "      <td>0.649123</td>\n",
       "      <td>0.614035</td>\n",
       "      <td>0.210526</td>\n",
       "      <td>1.456140</td>\n",
       "      <td>0.807018</td>\n",
       "      <td>0.140351</td>\n",
       "      <td>0.000000</td>\n",
       "      <td>0.052632</td>\n",
       "      <td>5-9</td>\n",
       "    </tr>\n",
       "    <tr>\n",
       "      <th>2071</th>\n",
       "      <td>Cessna</td>\n",
       "      <td>208</td>\n",
       "      <td>76</td>\n",
       "      <td>0.644737</td>\n",
       "      <td>Cessna 208</td>\n",
       "      <td>9</td>\n",
       "      <td>96</td>\n",
       "      <td>35</td>\n",
       "      <td>53</td>\n",
       "      <td>237</td>\n",
       "      <td>1.263158</td>\n",
       "      <td>0.460526</td>\n",
       "      <td>0.697368</td>\n",
       "      <td>3.118421</td>\n",
       "      <td>0.697368</td>\n",
       "      <td>0.210526</td>\n",
       "      <td>0.078947</td>\n",
       "      <td>0.013158</td>\n",
       "      <td>5-9</td>\n",
       "    </tr>\n",
       "    <tr>\n",
       "      <th>2072</th>\n",
       "      <td>Cessna</td>\n",
       "      <td>208B</td>\n",
       "      <td>124</td>\n",
       "      <td>0.716535</td>\n",
       "      <td>Cessna 208B</td>\n",
       "      <td>14</td>\n",
       "      <td>122</td>\n",
       "      <td>75</td>\n",
       "      <td>111</td>\n",
       "      <td>312</td>\n",
       "      <td>0.983871</td>\n",
       "      <td>0.604839</td>\n",
       "      <td>0.895161</td>\n",
       "      <td>2.516129</td>\n",
       "      <td>0.685039</td>\n",
       "      <td>0.188976</td>\n",
       "      <td>0.078740</td>\n",
       "      <td>0.047244</td>\n",
       "      <td>5-9</td>\n",
       "    </tr>\n",
       "  </tbody>\n",
       "</table>\n",
       "<p>95 rows × 19 columns</p>\n",
       "</div>"
      ],
      "text/plain": [
       "             make    model  count  fatality_rate          make_model  \\\n",
       "2185       Cessna    A188B     69       0.811594        Cessna A188B   \n",
       "280   Air Tractor   At502B     53       0.886792  Air Tractor At502B   \n",
       "284   Air Tractor    At602     53       0.735849   Air Tractor At602   \n",
       "278   Air Tractor    At502     74       0.729730   Air Tractor At502   \n",
       "267   Air Tractor    At301     60       0.900000   Air Tractor At301   \n",
       "...           ...      ...    ...            ...                 ...   \n",
       "6099        Piper     Pa46     62       0.734375          Piper Pa46   \n",
       "6097        Piper  Pa44180     49       0.780000       Piper Pa44180   \n",
       "2346       Cessna    U206G     57       0.719298        Cessna U206G   \n",
       "2071       Cessna      208     76       0.644737          Cessna 208   \n",
       "2072       Cessna     208B    124       0.716535         Cessna 208B   \n",
       "\n",
       "      num_seats  total_fatal_injuries  total_serious_injuries  \\\n",
       "2185          1                    13                       7   \n",
       "280           1                     6                       4   \n",
       "284           1                    14                       7   \n",
       "278           1                    21                      14   \n",
       "267           1                     6                      12   \n",
       "...         ...                   ...                     ...   \n",
       "6099          6                    39                      15   \n",
       "6097          6                    26                      12   \n",
       "2346          6                    37                      35   \n",
       "2071          9                    96                      35   \n",
       "2072         14                   122                      75   \n",
       "\n",
       "      total_minor_injuries  total_uninjured  avg_fatal_injuries  \\\n",
       "2185                     7               41            0.188406   \n",
       "280                      7               41            0.113208   \n",
       "284                      4               28            0.264151   \n",
       "278                      7               32            0.283784   \n",
       "267                      5               37            0.100000   \n",
       "...                    ...              ...                 ...   \n",
       "6099                    13              139            0.629032   \n",
       "6097                     0               77            0.530612   \n",
       "2346                    12               83            0.649123   \n",
       "2071                    53              237            1.263158   \n",
       "2072                   111              312            0.983871   \n",
       "\n",
       "      avg_serious_injuries  avg_minor_injuries  avg_uninjured  Substantial  \\\n",
       "2185              0.101449            0.101449       0.594203     0.855072   \n",
       "280               0.075472            0.132075       0.773585     0.849057   \n",
       "284               0.132075            0.075472       0.528302     0.867925   \n",
       "278               0.189189            0.094595       0.432432     0.797297   \n",
       "267               0.200000            0.083333       0.616667     0.916667   \n",
       "...                    ...                 ...            ...          ...   \n",
       "6099              0.241935            0.209677       2.241935     0.734375   \n",
       "6097              0.244898            0.000000       1.571429     0.860000   \n",
       "2346              0.614035            0.210526       1.456140     0.807018   \n",
       "2071              0.460526            0.697368       3.118421     0.697368   \n",
       "2072              0.604839            0.895161       2.516129     0.685039   \n",
       "\n",
       "      Destroyed   Unknown     Minor seat_range  \n",
       "2185   0.115942  0.014493  0.014493          1  \n",
       "280    0.113208  0.000000  0.037736          1  \n",
       "284    0.113208  0.018868  0.000000          1  \n",
       "278    0.175676  0.027027  0.000000          1  \n",
       "267    0.066667  0.016667  0.000000          1  \n",
       "...         ...       ...       ...        ...  \n",
       "6099   0.203125  0.046875  0.015625        5-9  \n",
       "6097   0.100000  0.000000  0.040000        5-9  \n",
       "2346   0.140351  0.000000  0.052632        5-9  \n",
       "2071   0.210526  0.078947  0.013158        5-9  \n",
       "2072   0.188976  0.078740  0.047244        5-9  \n",
       "\n",
       "[95 rows x 19 columns]"
      ]
     },
     "execution_count": 39,
     "metadata": {},
     "output_type": "execute_result"
    }
   ],
   "source": [
    "# Seperate private planes by seat size (1 seat, 2-4 seats, 5-9 seats)\n",
    "private_planes['seat_range'] = private_planes['num_seats'].map(lambda x: '1' if x == 1 else '2-4' if x < 5 else '5-9')\n",
    "private_planes"
   ]
  },
  {
   "cell_type": "markdown",
   "metadata": {},
   "source": [
    "# Fatality rates range from 3% - 56%"
   ]
  },
  {
   "cell_type": "markdown",
   "metadata": {},
   "source": [
    "- Fatality rate\n",
    "- Chance of death upon crash"
   ]
  },
  {
   "cell_type": "code",
   "execution_count": 40,
   "metadata": {},
   "outputs": [
    {
     "data": {
      "text/plain": [
       "count    95.000000\n",
       "mean      0.788911\n",
       "std       0.104501\n",
       "min       0.516667\n",
       "25%       0.718623\n",
       "50%       0.789474\n",
       "75%       0.879924\n",
       "max       0.966102\n",
       "Name: fatality_rate, dtype: float64"
      ]
     },
     "execution_count": 40,
     "metadata": {},
     "output_type": "execute_result"
    }
   ],
   "source": [
    "private_planes['fatality_rate'].describe()"
   ]
  },
  {
   "cell_type": "code",
   "execution_count": 31,
   "metadata": {},
   "outputs": [
    {
     "ename": "NameError",
     "evalue": "name 'private_planes' is not defined",
     "output_type": "error",
     "traceback": [
      "\u001b[1;31m---------------------------------------------------------------------------\u001b[0m",
      "\u001b[1;31mNameError\u001b[0m                                 Traceback (most recent call last)",
      "\u001b[1;32m<ipython-input-31-65131cb47104>\u001b[0m in \u001b[0;36m<module>\u001b[1;34m\u001b[0m\n\u001b[0;32m      2\u001b[0m \u001b[0mfig\u001b[0m\u001b[1;33m,\u001b[0m \u001b[0max\u001b[0m \u001b[1;33m=\u001b[0m \u001b[0mplt\u001b[0m\u001b[1;33m.\u001b[0m\u001b[0msubplots\u001b[0m\u001b[1;33m(\u001b[0m\u001b[0mfigsize\u001b[0m\u001b[1;33m=\u001b[0m\u001b[1;33m(\u001b[0m\u001b[1;36m15\u001b[0m\u001b[1;33m,\u001b[0m\u001b[1;36m15\u001b[0m\u001b[1;33m)\u001b[0m\u001b[1;33m)\u001b[0m\u001b[1;33m\u001b[0m\u001b[1;33m\u001b[0m\u001b[0m\n\u001b[0;32m      3\u001b[0m \u001b[1;33m\u001b[0m\u001b[0m\n\u001b[1;32m----> 4\u001b[1;33m \u001b[0msorted_data\u001b[0m \u001b[1;33m=\u001b[0m \u001b[0mprivate_planes\u001b[0m\u001b[1;33m.\u001b[0m\u001b[0msort_values\u001b[0m\u001b[1;33m(\u001b[0m\u001b[0mby\u001b[0m\u001b[1;33m=\u001b[0m\u001b[1;34m'fatality_rate'\u001b[0m\u001b[1;33m)\u001b[0m\u001b[1;33m.\u001b[0m\u001b[0mhead\u001b[0m\u001b[1;33m(\u001b[0m\u001b[0mx\u001b[0m\u001b[1;33m)\u001b[0m\u001b[1;33m\u001b[0m\u001b[1;33m\u001b[0m\u001b[0m\n\u001b[0m\u001b[0;32m      5\u001b[0m \u001b[0msns\u001b[0m\u001b[1;33m.\u001b[0m\u001b[0mbarplot\u001b[0m\u001b[1;33m(\u001b[0m\u001b[0mdata\u001b[0m\u001b[1;33m=\u001b[0m\u001b[0msorted_data\u001b[0m\u001b[1;33m,\u001b[0m \u001b[0mx\u001b[0m\u001b[1;33m=\u001b[0m\u001b[1;34m'fatality_rate'\u001b[0m\u001b[1;33m,\u001b[0m \u001b[0my\u001b[0m\u001b[1;33m=\u001b[0m\u001b[1;34m'make_model'\u001b[0m\u001b[1;33m,\u001b[0m \u001b[0mhue\u001b[0m\u001b[1;33m=\u001b[0m\u001b[1;34m'seat_range'\u001b[0m\u001b[1;33m,\u001b[0m \u001b[0morient\u001b[0m\u001b[1;33m=\u001b[0m\u001b[1;34m'h'\u001b[0m\u001b[1;33m,\u001b[0m \u001b[0mdodge\u001b[0m\u001b[1;33m=\u001b[0m\u001b[1;32mFalse\u001b[0m\u001b[1;33m)\u001b[0m\u001b[1;33m\u001b[0m\u001b[1;33m\u001b[0m\u001b[0m\n\u001b[0;32m      6\u001b[0m \u001b[1;33m\u001b[0m\u001b[0m\n",
      "\u001b[1;31mNameError\u001b[0m: name 'private_planes' is not defined"
     ]
    },
    {
     "data": {
      "image/png": "[encoded data removed]",
      "text/plain": [
       "<Figure size 1080x1080 with 1 Axes>"
      ]
     },
     "metadata": {
      "needs_background": "light"
     },
     "output_type": "display_data"
    }
   ],
   "source": [
    "x = 50\n",
    "fig, ax = plt.subplots(figsize=(15,15))\n",
    "\n",
    "sorted_data = private_planes.sort_values(by='fatality_rate').head(x)\n",
    "sns.barplot(data=sorted_data, x='fatality_rate', y='make_model', hue='seat_range', orient='h', dodge=False)\n",
    "\n",
    "ax.set_xlabel('Fatality rate', fontsize=16)\n",
    "ax.set_ylabel('Model', fontsize=16)\n",
    "ax.set_title(f'Top {x} Lowest Private Aircraft Fatality Rates', fontsize=22)\n",
    "\n",
    "ax.legend().set_title('number of seats');"
   ]
  },
  {
   "cell_type": "code",
   "execution_count": null,
   "metadata": {},
   "outputs": [],
   "source": []
  }
 ],
 "metadata": {
  "kernelspec": {
   "display_name": "Python 3",
   "language": "python",
   "name": "python3"
  },
  "language_info": {
   "codemirror_mode": {
    "name": "ipython",
    "version": 3
   },
   "file_extension": ".py",
   "mimetype": "text/x-python",
   "name": "python",
   "nbconvert_exporter": "python",
   "pygments_lexer": "ipython3",
   "version": "3.8.5"
  }
 },
 "nbformat": 4,
 "nbformat_minor": 4
}
